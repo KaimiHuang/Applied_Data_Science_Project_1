{
 "cells": [
  {
   "cell_type": "markdown",
   "id": "55211531",
   "metadata": {},
   "source": [
    "idea: The dataset may contain wrong labels. A solution is detect anomalies in the dataset using Gaussian Mixture, and then inspect the anomaly data points"
   ]
  },
  {
   "cell_type": "code",
   "execution_count": 121,
   "id": "4e2d8f57",
   "metadata": {},
   "outputs": [],
   "source": [
    "import pandas as pd\n",
    "pd.options.mode.chained_assignment = None\n",
    "pd.set_option('display.max_columns', None)\n",
    "from sklearn.semi_supervised import LabelPropagation\n",
    "import numpy as np\n",
    "import matplotlib.pyplot as plt\n",
    "import seaborn as sns\n",
    "from sklearn.model_selection import StratifiedShuffleSplit, GridSearchCV\n",
    "from sklearn.ensemble import RandomForestClassifier\n",
    "import xgboost as xgb\n",
    "from sklearn.utils import class_weight\n",
    "from sklearn.preprocessing import StandardScaler\n",
    "from sklearn.mixture import BayesianGaussianMixture, GaussianMixture\n",
    "from sklearn.cluster import KMeans, DBSCAN\n",
    "from sklearn.neighbors import KNeighborsClassifier, kneighbors_graph\n",
    "from sklearn.pipeline import Pipeline\n",
    "from sklearn.linear_model import LogisticRegression, SGDClassifier\n",
    "from sklearn.metrics import make_scorer, log_loss, recall_score, accuracy_score, classification_report, average_precision_score, precision_recall_curve, roc_curve, confusion_matrix, auc"
   ]
  },
  {
   "cell_type": "code",
   "execution_count": 122,
   "id": "ae9d54e5",
   "metadata": {},
   "outputs": [],
   "source": [
    "import warnings\n",
    "warnings.filterwarnings(\"ignore\")"
   ]
  },
  {
   "cell_type": "code",
   "execution_count": 123,
   "id": "7887eb24",
   "metadata": {},
   "outputs": [
    {
     "data": {
      "text/plain": [
       "['./Predict_bad_loan.ipynb',\n",
       " './Loan_Dataset_3.csv',\n",
       " './Loan_Dataset.csv',\n",
       " './Predict_bad_loan_cont_(Unsupervised_&_Supervised_approach).ipynb',\n",
       " './Loan_Dataset_2.csv',\n",
       " './bad_data.csv',\n",
       " './Predict_bad_loan_cont_Anomaly_Detection_Semi-Supervised Learning.ipynb',\n",
       " './Predict_bad_loan_cont_Anomaly_Detection.ipynb',\n",
       " './Predict_bad_loan_cont_Anomaly_Detection_good_data.ipynb',\n",
       " './Predict_bad_loan_cont_(Dimensionality_Reduction_approach).ipynb',\n",
       " './Predict_bad_loan_cont_Anomaly_Detection_questionable_data.ipynb',\n",
       " './variable_descriptions',\n",
       " './good_data.csv']"
      ]
     },
     "execution_count": 123,
     "metadata": {},
     "output_type": "execute_result"
    }
   ],
   "source": [
    "from glob import glob\n",
    "glob('./*')"
   ]
  },
  {
   "cell_type": "code",
   "execution_count": 124,
   "id": "c54b7449",
   "metadata": {},
   "outputs": [],
   "source": [
    "df_good = pd.read_csv('good_data.csv')\n",
    "df_bad = pd.read_csv('bad_data.csv')"
   ]
  },
  {
   "cell_type": "code",
   "execution_count": 125,
   "id": "88cffb4e",
   "metadata": {},
   "outputs": [
    {
     "data": {
      "text/plain": [
       "Index(['id', 'annual_income', 'short_employee', 'emp_length_num',\n",
       "       'Debt-To-Income Ratio', 'revol_util', 'total_rec_late_fee', 'od_ratio',\n",
       "       'bad_loan', 'grade_A', 'grade_B', 'grade_C', 'grade_D', 'grade_E',\n",
       "       'grade_F', 'grade_G', 'home_ownership_MORTGAGE', 'home_ownership_OWN',\n",
       "       'home_ownership_RENT', 'purpose_car', 'purpose_credit_card',\n",
       "       'purpose_debt_consolidation', 'purpose_home_improvement',\n",
       "       'purpose_house', 'purpose_major_purchase', 'purpose_medical',\n",
       "       'purpose_moving', 'purpose_other', 'purpose_small_business',\n",
       "       'purpose_vacation', 'purpose_wedding', 'term_36 months',\n",
       "       'term_60 months', 'last_delinq_none_0', 'last_delinq_none_1',\n",
       "       'annual_income_log'],\n",
       "      dtype='object')"
      ]
     },
     "execution_count": 125,
     "metadata": {},
     "output_type": "execute_result"
    }
   ],
   "source": [
    "df_bad.columns"
   ]
  },
  {
   "cell_type": "code",
   "execution_count": 126,
   "id": "2184b4aa",
   "metadata": {},
   "outputs": [],
   "source": [
    "def get_metrics(target_test, target_score):\n",
    "    precision, recall, thresholds = precision_recall_curve(target_test, target_score)\n",
    "    pr_auc = average_precision_score(target_test, target_score)\n",
    "    print(f'AUC is {pr_auc:.2f}')\n",
    "    return precision, recall, pr_auc\n",
    "\n",
    "def get_confusion_matrix(target_test, target_pred):\n",
    "    matrix = confusion_matrix(target_test, target_pred)\n",
    "    df = pd.DataFrame(matrix, index=['Actual Negative', 'Actual Positive'], \n",
    "                 columns=['Predicted Negative', 'Predicted Positive'])\n",
    "    return df"
   ]
  },
  {
   "cell_type": "code",
   "execution_count": 127,
   "id": "f0a907c8",
   "metadata": {},
   "outputs": [],
   "source": [
    "# X_good = df_good.drop(columns=['bad_loan'])\n",
    "# y_good = df_good.bad_loan\n",
    "\n",
    "# num_to_sample = X_good.shape[0]\n",
    "\n",
    "# X_bad = df_bad.drop(columns=['bad_loan']).iloc[:num_to_sample]\n",
    "# y_bad = pd.Series([-1]*num_to_sample)"
   ]
  },
  {
   "cell_type": "code",
   "execution_count": 128,
   "id": "cc54c8de",
   "metadata": {},
   "outputs": [],
   "source": [
    "# X_joined = pd.concat([X_good,X_bad])\n",
    "# y_joined = pd.concat([y_good,y_bad])"
   ]
  },
  {
   "cell_type": "code",
   "execution_count": 129,
   "id": "7a06ea0c",
   "metadata": {},
   "outputs": [],
   "source": [
    "# label_prop_model = LabelPropagation(n_neighbors=5,n_jobs=-1)\n",
    "# label_prop_model.fit(X_joined, y_joined)\n",
    "# X_bad_label = label_prop_model.predict(X_bad)\n",
    "# X_bad_label.mean()"
   ]
  },
  {
   "cell_type": "code",
   "execution_count": 136,
   "id": "617a72e8",
   "metadata": {},
   "outputs": [],
   "source": [
    "df_bad['bad_loan'] = df_bad['bad_loan'].apply(lambda x: (x+1)%2) #switch the sign of the bad data labels"
   ]
  },
  {
   "cell_type": "code",
   "execution_count": 138,
   "id": "711d2eb5",
   "metadata": {},
   "outputs": [],
   "source": [
    "df_joined = pd.concat([df_bad,df_good])"
   ]
  },
  {
   "cell_type": "code",
   "execution_count": null,
   "id": "9e386cc6",
   "metadata": {},
   "outputs": [],
   "source": []
  },
  {
   "cell_type": "code",
   "execution_count": null,
   "id": "12e7ecb2",
   "metadata": {},
   "outputs": [],
   "source": []
  },
  {
   "cell_type": "code",
   "execution_count": null,
   "id": "00bc5593",
   "metadata": {},
   "outputs": [],
   "source": []
  },
  {
   "cell_type": "code",
   "execution_count": null,
   "id": "a3e001fe",
   "metadata": {},
   "outputs": [],
   "source": []
  },
  {
   "cell_type": "code",
   "execution_count": 13,
   "id": "05540a8a",
   "metadata": {},
   "outputs": [
    {
     "ename": "NameError",
     "evalue": "name 'df_good_loan' is not defined",
     "output_type": "error",
     "traceback": [
      "\u001b[0;31m---------------------------------------------------------------------------\u001b[0m",
      "\u001b[0;31mNameError\u001b[0m                                 Traceback (most recent call last)",
      "\u001b[0;32m/var/folders/6t/qq3z1qdx60s0sj_h80x_2wz40000gn/T/ipykernel_76717/1252460640.py\u001b[0m in \u001b[0;36m<module>\u001b[0;34m\u001b[0m\n\u001b[1;32m      3\u001b[0m sns.violinplot(y='annual_income_log',\n\u001b[1;32m      4\u001b[0m                 \u001b[0mx\u001b[0m \u001b[0;34m=\u001b[0m \u001b[0;34m'anomaly'\u001b[0m\u001b[0;34m,\u001b[0m\u001b[0;34m\u001b[0m\u001b[0;34m\u001b[0m\u001b[0m\n\u001b[0;32m----> 5\u001b[0;31m                 \u001b[0mdata\u001b[0m\u001b[0;34m=\u001b[0m\u001b[0mdf_good_loan\u001b[0m\u001b[0;34m,\u001b[0m\u001b[0;34m\u001b[0m\u001b[0;34m\u001b[0m\u001b[0m\n\u001b[0m\u001b[1;32m      6\u001b[0m                 ax=ax[0]);\n\u001b[1;32m      7\u001b[0m \u001b[0;34m\u001b[0m\u001b[0m\n",
      "\u001b[0;31mNameError\u001b[0m: name 'df_good_loan' is not defined"
     ]
    },
    {
     "data": {
      "image/png": "[encoded data removed]",
      "text/plain": [
       "<Figure size 600x2000 with 6 Axes>"
      ]
     },
     "metadata": {},
     "output_type": "display_data"
    }
   ],
   "source": [
    "fig,ax = plt.subplots(6,1,figsize=(6,20))\n",
    "\n",
    "sns.violinplot(y='annual_income_log',\n",
    "                x = 'anomaly', \n",
    "                data=df_good_loan, \n",
    "                ax=ax[0]);\n",
    "\n",
    "sns.violinplot(y='Debt-To-Income Ratio',\n",
    "                x = 'anomaly', \n",
    "                data=df_good_loan, \n",
    "                ax=ax[1]);\n",
    "\n",
    "sns.violinplot(y='revol_util',\n",
    "                x = 'anomaly', \n",
    "                data=df_good_loan, \n",
    "                ax=ax[2]);\n",
    "\n",
    "sns.violinplot(y='total_rec_late_fee',\n",
    "                x = 'anomaly', \n",
    "                data=df_good_loan, \n",
    "                ax=ax[3]);\n",
    "\n",
    "sns.violinplot(y='emp_length_num',\n",
    "                x = 'anomaly', \n",
    "                data=df_good_loan, \n",
    "                ax=ax[4]);\n",
    "\n",
    "sns.violinplot(y='od_ratio',\n",
    "                x = 'anomaly', \n",
    "                data=df_good_loan, \n",
    "                ax=ax[5]);"
   ]
  },
  {
   "cell_type": "code",
   "execution_count": null,
   "id": "4f6266d5",
   "metadata": {},
   "outputs": [],
   "source": [
    "ind = df_good_loan.index"
   ]
  },
  {
   "cell_type": "code",
   "execution_count": null,
   "id": "43a928eb",
   "metadata": {},
   "outputs": [],
   "source": [
    "df_no_dummy = pd.read_csv('Loan_Dataset_3.csv')\n",
    "df_no_dummy.iloc[8,:]"
   ]
  },
  {
   "cell_type": "code",
   "execution_count": null,
   "id": "5096845b",
   "metadata": {},
   "outputs": [],
   "source": [
    "df_good_loan_2 = df_good_loan.copy() #df_____2 is for graphs\n",
    "df_good_loan_2"
   ]
  },
  {
   "cell_type": "code",
   "execution_count": null,
   "id": "c37de34c",
   "metadata": {},
   "outputs": [],
   "source": [
    "df_no_dummy.purpose[ind]"
   ]
  },
  {
   "cell_type": "code",
   "execution_count": null,
   "id": "b4ab277d",
   "metadata": {},
   "outputs": [],
   "source": [
    "df_good_loan_2['purpose'] = df_no_dummy.purpose[ind]\n",
    "df_good_loan_2['grade'] = df_no_dummy.grade[ind]\n",
    "df_good_loan_2['home_ownership'] = df_no_dummy.home_ownership[ind]\n",
    "df_good_loan_2['term'] = df_no_dummy.term[ind]\n",
    "df_good_loan_2['last_delinq_none'] = df_no_dummy.last_delinq_none[ind]"
   ]
  },
  {
   "cell_type": "code",
   "execution_count": null,
   "id": "7060fef9",
   "metadata": {},
   "outputs": [],
   "source": [
    "fig,ax = plt.subplots(5,1,figsize=(6,30))\n",
    "grade_order = ['A', 'B', 'C', 'D', 'E', 'F', 'G']\n",
    "\n",
    "sns.countplot(x=df_good_loan_2.purpose, hue=df_good_loan_2.anomaly, ax=ax[0]);\n",
    "ax[0].set_xticklabels(ax[0].get_xticklabels(), rotation=45)\n",
    "ax[0].set_title('Loan Purpose Distribution');\n",
    "\n",
    "sns.countplot(x=df_good_loan_2.grade, hue=df_good_loan_2.anomaly, order=grade_order, ax=ax[1]);\n",
    "ax[1].set_title('Loan Grade Distribution');\n",
    "\n",
    "sns.countplot(x=df_good_loan_2.home_ownership, hue=df_good_loan_2.anomaly, ax=ax[2]);\n",
    "ax[2].set_title('Home Ownership Distribution');\n",
    "\n",
    "sns.countplot(x=df_good_loan_2.term, hue=df_good_loan_2.anomaly, ax=ax[3]);\n",
    "ax[3].set_title('Loan Term Distribution');\n",
    "\n",
    "sns.countplot(x=df_good_loan_2.last_delinq_none, hue=df_good_loan_2.anomaly, ax=ax[4]);\n",
    "ax[4].set_title('Default Histroy');\n"
   ]
  },
  {
   "cell_type": "code",
   "execution_count": null,
   "id": "c77a1f40",
   "metadata": {},
   "outputs": [],
   "source": []
  },
  {
   "cell_type": "code",
   "execution_count": null,
   "id": "c1219796",
   "metadata": {},
   "outputs": [],
   "source": []
  },
  {
   "cell_type": "code",
   "execution_count": null,
   "id": "dce28752",
   "metadata": {},
   "outputs": [],
   "source": []
  },
  {
   "cell_type": "code",
   "execution_count": null,
   "id": "72090d57",
   "metadata": {},
   "outputs": [],
   "source": [
    "#do the same thing for df_bad_loan\n",
    "gm_bad = GaussianMixture(n_components=2, n_init=20,random_state=123)\n",
    "gm_bad.fit(df_bad_loan)\n",
    "gm_bad.weights_"
   ]
  },
  {
   "cell_type": "code",
   "execution_count": null,
   "id": "799b7882",
   "metadata": {},
   "outputs": [],
   "source": [
    "gm_bad.converged_, gm_bad.n_iter_"
   ]
  },
  {
   "cell_type": "code",
   "execution_count": null,
   "id": "d773bea5",
   "metadata": {},
   "outputs": [],
   "source": [
    "new_label = gm_bad.predict(df_bad_loan)"
   ]
  },
  {
   "cell_type": "code",
   "execution_count": null,
   "id": "3df309a3",
   "metadata": {},
   "outputs": [],
   "source": [
    "new_label.sum(), new_label.size"
   ]
  },
  {
   "cell_type": "code",
   "execution_count": null,
   "id": "639f11a9",
   "metadata": {},
   "outputs": [],
   "source": [
    "new_label.mean() "
   ]
  },
  {
   "cell_type": "code",
   "execution_count": null,
   "id": "e14e6185",
   "metadata": {},
   "outputs": [],
   "source": [
    "df_bad_loan.loc[:,'anomaly'] = (new_label+1)%2 #now 1 represents an anomaly tag\n",
    "df_bad_loan['annual_income_log'] = df_bad_loan.annual_income.apply(lambda x: np.log(x+1))"
   ]
  },
  {
   "cell_type": "code",
   "execution_count": null,
   "id": "1ebda62f",
   "metadata": {},
   "outputs": [],
   "source": [
    "df_bad_loan[df_bad_loan['anomaly']==0].describe()"
   ]
  },
  {
   "cell_type": "code",
   "execution_count": null,
   "id": "f4e2429a",
   "metadata": {},
   "outputs": [],
   "source": [
    "df_bad_loan[df_bad_loan['anomaly']==1].describe()"
   ]
  },
  {
   "cell_type": "code",
   "execution_count": null,
   "id": "12dc3549",
   "metadata": {},
   "outputs": [],
   "source": [
    "fig,ax = plt.subplots(6,1,figsize=(6,20))\n",
    "\n",
    "sns.violinplot(y='annual_income_log',\n",
    "                x = 'anomaly', \n",
    "                data=df_bad_loan, \n",
    "                ax=ax[0]);\n",
    "\n",
    "sns.violinplot(y='Debt-To-Income Ratio',\n",
    "                x = 'anomaly', \n",
    "                data=df_bad_loan, \n",
    "                ax=ax[1]);\n",
    "\n",
    "sns.violinplot(y='revol_util',\n",
    "                x = 'anomaly', \n",
    "                data=df_bad_loan, \n",
    "                ax=ax[2]);\n",
    "\n",
    "sns.violinplot(y='total_rec_late_fee',\n",
    "                x = 'anomaly', \n",
    "                data=df_bad_loan, \n",
    "                ax=ax[3]);\n",
    "\n",
    "sns.violinplot(y='emp_length_num',\n",
    "                x = 'anomaly', \n",
    "                data=df_bad_loan, \n",
    "                ax=ax[4]);\n",
    "\n",
    "sns.violinplot(y='od_ratio',\n",
    "                x = 'anomaly', \n",
    "                data=df_bad_loan, \n",
    "                ax=ax[5]);"
   ]
  },
  {
   "cell_type": "code",
   "execution_count": null,
   "id": "cfc750cb",
   "metadata": {},
   "outputs": [],
   "source": [
    "ind_bad = df_bad_loan.index"
   ]
  },
  {
   "cell_type": "code",
   "execution_count": null,
   "id": "5528be58",
   "metadata": {},
   "outputs": [],
   "source": [
    "df_bad_loan_2 = df_bad_loan.copy() #df_____2 is for graphs"
   ]
  },
  {
   "cell_type": "code",
   "execution_count": null,
   "id": "24e794de",
   "metadata": {},
   "outputs": [],
   "source": [
    "df_bad_loan_2['purpose'] = df_no_dummy.purpose[ind_bad]\n",
    "df_bad_loan_2['grade'] = df_no_dummy.grade[ind_bad]\n",
    "df_bad_loan_2['home_ownership'] = df_no_dummy.home_ownership[ind_bad]\n",
    "df_bad_loan_2['term'] = df_no_dummy.term[ind_bad]\n",
    "df_bad_loan_2['last_delinq_none'] = df_no_dummy.last_delinq_none[ind_bad]\n",
    "\n",
    "fig,ax = plt.subplots(5,1,figsize=(6,30))\n",
    "grade_order = ['A', 'B', 'C', 'D', 'E', 'F', 'G']\n",
    "\n",
    "sns.countplot(x=df_bad_loan_2.purpose, hue=df_bad_loan_2.anomaly, ax=ax[0]);\n",
    "ax[0].set_xticklabels(ax[0].get_xticklabels(), rotation=45)\n",
    "ax[0].set_title('Loan Purpose Distribution');\n",
    "\n",
    "sns.countplot(x=df_bad_loan_2.grade, hue=df_bad_loan_2.anomaly, order=grade_order, ax=ax[1]);\n",
    "ax[1].set_title('Loan Grade Distribution');\n",
    "\n",
    "sns.countplot(x=df_bad_loan_2.home_ownership, hue=df_bad_loan_2.anomaly, ax=ax[2]);\n",
    "ax[2].set_title('Home Ownership Distribution');\n",
    "\n",
    "sns.countplot(x=df_bad_loan_2.term, hue=df_bad_loan_2.anomaly, ax=ax[3]);\n",
    "ax[3].set_title('Loan Term Distribution');\n",
    "\n",
    "sns.countplot(x=df_bad_loan_2.last_delinq_none, hue=df_bad_loan_2.anomaly, ax=ax[4]);\n",
    "ax[4].set_title('Default Histroy');\n"
   ]
  },
  {
   "cell_type": "code",
   "execution_count": null,
   "id": "3195fcba",
   "metadata": {},
   "outputs": [],
   "source": [
    "df_bad_loan.anomaly.sum()"
   ]
  },
  {
   "cell_type": "code",
   "execution_count": null,
   "id": "a2471967",
   "metadata": {},
   "outputs": [],
   "source": [
    "df_new = pd.concat([df_good_loan,df_bad_loan])"
   ]
  },
  {
   "cell_type": "code",
   "execution_count": null,
   "id": "ed942d04",
   "metadata": {},
   "outputs": [],
   "source": [
    "df_new.shape"
   ]
  },
  {
   "cell_type": "code",
   "execution_count": null,
   "id": "197d626b",
   "metadata": {},
   "outputs": [],
   "source": [
    "df_norm = df_new[df_new.anomaly==0]\n",
    "df_anom = df_new[df_new.anomaly==1]\n",
    "df_norm.shape, df_anom.shape"
   ]
  },
  {
   "cell_type": "code",
   "execution_count": 140,
   "id": "f88c695c",
   "metadata": {},
   "outputs": [
    {
     "data": {
      "text/plain": [
       "Index(['id', 'annual_income', 'short_employee', 'emp_length_num',\n",
       "       'Debt-To-Income Ratio', 'revol_util', 'total_rec_late_fee', 'od_ratio',\n",
       "       'bad_loan', 'grade_A', 'grade_B', 'grade_C', 'grade_D', 'grade_E',\n",
       "       'grade_F', 'grade_G', 'home_ownership_MORTGAGE', 'home_ownership_OWN',\n",
       "       'home_ownership_RENT', 'purpose_car', 'purpose_credit_card',\n",
       "       'purpose_debt_consolidation', 'purpose_home_improvement',\n",
       "       'purpose_house', 'purpose_major_purchase', 'purpose_medical',\n",
       "       'purpose_moving', 'purpose_other', 'purpose_small_business',\n",
       "       'purpose_vacation', 'purpose_wedding', 'term_36 months',\n",
       "       'term_60 months', 'last_delinq_none_0', 'last_delinq_none_1',\n",
       "       'annual_income_log'],\n",
       "      dtype='object')"
      ]
     },
     "execution_count": 140,
     "metadata": {},
     "output_type": "execute_result"
    }
   ],
   "source": [
    "df_joined.columns"
   ]
  },
  {
   "cell_type": "code",
   "execution_count": 141,
   "id": "bd23e50a",
   "metadata": {},
   "outputs": [],
   "source": [
    "X = df_joined.drop(columns=['id', 'annual_income','bad_loan','grade_A',\n",
    "                     'home_ownership_MORTGAGE','purpose_car','term_36 months',\n",
    "                     'last_delinq_none_0'])\n",
    "\n",
    "y = df_joined['bad_loan'].astype(int)\n",
    "\n",
    "sss = StratifiedShuffleSplit(n_splits=1, test_size=0.2, train_size=0.8, random_state=123)\n",
    "train_ind, test_ind = next(sss.split(X,y,groups=None))\n",
    "X_train, y_train, X_test, y_test = X.iloc[train_ind], y.iloc[train_ind], X.iloc[test_ind], y.iloc[test_ind]\n",
    "\n",
    "scaler = StandardScaler()\n",
    "X_train = scaler.fit_transform(X_train)\n",
    "X_test = scaler.transform(X_test)"
   ]
  },
  {
   "cell_type": "code",
   "execution_count": 142,
   "id": "eee8eb80",
   "metadata": {},
   "outputs": [],
   "source": [
    "class_weights = class_weight.compute_class_weight('balanced', classes=np.unique(y_train), y=y_train)\n",
    "class_weights = {0: class_weights[0], 1: class_weights[1]}"
   ]
  },
  {
   "cell_type": "markdown",
   "id": "1c2cf6ec",
   "metadata": {},
   "source": [
    "### Logistic Regression"
   ]
  },
  {
   "cell_type": "code",
   "execution_count": 177,
   "id": "6dc8e2a7",
   "metadata": {},
   "outputs": [
    {
     "data": {
      "text/plain": [
       "{'C': 800}"
      ]
     },
     "execution_count": 177,
     "metadata": {},
     "output_type": "execute_result"
    }
   ],
   "source": [
    "param_grid = [{'C': [790, 800, 810]}]\n",
    "\n",
    "lg_clf = LogisticRegression(class_weight='balanced',\n",
    "                            random_state = 123\n",
    "                           )\n",
    "     \n",
    "grid_search = GridSearchCV(lg_clf, param_grid, cv=5,\n",
    "                          scoring = 'average_precision',\n",
    "                          return_train_score = True)\n",
    "               \n",
    "grid_search.fit(X_train, y_train)\n",
    "\n",
    "grid_search.best_params_"
   ]
  },
  {
   "cell_type": "code",
   "execution_count": 178,
   "id": "c987b2ea",
   "metadata": {},
   "outputs": [
    {
     "data": {
      "text/html": [
       "<div>\n",
       "<style scoped>\n",
       "    .dataframe tbody tr th:only-of-type {\n",
       "        vertical-align: middle;\n",
       "    }\n",
       "\n",
       "    .dataframe tbody tr th {\n",
       "        vertical-align: top;\n",
       "    }\n",
       "\n",
       "    .dataframe thead th {\n",
       "        text-align: right;\n",
       "    }\n",
       "</style>\n",
       "<table border=\"1\" class=\"dataframe\">\n",
       "  <thead>\n",
       "    <tr style=\"text-align: right;\">\n",
       "      <th></th>\n",
       "      <th>Predicted Negative</th>\n",
       "      <th>Predicted Positive</th>\n",
       "    </tr>\n",
       "  </thead>\n",
       "  <tbody>\n",
       "    <tr>\n",
       "      <th>Actual Negative</th>\n",
       "      <td>542</td>\n",
       "      <td>265</td>\n",
       "    </tr>\n",
       "    <tr>\n",
       "      <th>Actual Positive</th>\n",
       "      <td>611</td>\n",
       "      <td>2256</td>\n",
       "    </tr>\n",
       "  </tbody>\n",
       "</table>\n",
       "</div>"
      ],
      "text/plain": [
       "                 Predicted Negative  Predicted Positive\n",
       "Actual Negative                 542                 265\n",
       "Actual Positive                 611                2256"
      ]
     },
     "execution_count": 178,
     "metadata": {},
     "output_type": "execute_result"
    }
   ],
   "source": [
    "lg_clf = grid_search.best_estimator_\n",
    "lg_clf.fit(X_train, y_train)\n",
    "y_pred = lg_clf.predict(X_test)\n",
    "y_score = lg_clf.predict_proba(X_test)[:, 1]\n",
    "\n",
    "get_confusion_matrix(y_test, y_pred)"
   ]
  },
  {
   "cell_type": "code",
   "execution_count": 179,
   "id": "efd04e76",
   "metadata": {},
   "outputs": [
    {
     "name": "stdout",
     "output_type": "stream",
     "text": [
      "AUC is 0.93\n"
     ]
    }
   ],
   "source": [
    "lg_precision, lg_recall, lg_pr_auc = get_metrics(y_test, y_score)"
   ]
  },
  {
   "cell_type": "markdown",
   "id": "6d5aaaba",
   "metadata": {},
   "source": [
    "### XGBoost"
   ]
  },
  {
   "cell_type": "code",
   "execution_count": 187,
   "id": "04100a78",
   "metadata": {},
   "outputs": [
    {
     "data": {
      "text/plain": [
       "{'learning_rate': 0.1, 'max_depth': 8, 'n_estimators': 50}"
      ]
     },
     "execution_count": 187,
     "metadata": {},
     "output_type": "execute_result"
    }
   ],
   "source": [
    "param_grid = [\n",
    "    {'n_estimators': [50, 60, 70, 80],\n",
    "     'max_depth': [5, 6, 7, 8, 9, 10],\n",
    "     'learning_rate': [0.01, 0.1, 1]}]\n",
    "\n",
    "xgb_classifier = xgb.XGBClassifier(objective='binary:logistic',\n",
    "                                    eval_metric='logloss',\n",
    "                                    scale_pos_weight=class_weights[0]/class_weights[1],\n",
    "                                    random_state = 123)\n",
    "\n",
    "grid_search = GridSearchCV(xgb_classifier, param_grid, cv=5,\n",
    "                          scoring = 'average_precision',\n",
    "                          return_train_score = True)\n",
    "\n",
    "grid_search.fit(X_train, y_train)\n",
    "\n",
    "grid_search.best_params_"
   ]
  },
  {
   "cell_type": "code",
   "execution_count": 188,
   "id": "8f5b1fed",
   "metadata": {},
   "outputs": [
    {
     "data": {
      "text/html": [
       "<div>\n",
       "<style scoped>\n",
       "    .dataframe tbody tr th:only-of-type {\n",
       "        vertical-align: middle;\n",
       "    }\n",
       "\n",
       "    .dataframe tbody tr th {\n",
       "        vertical-align: top;\n",
       "    }\n",
       "\n",
       "    .dataframe thead th {\n",
       "        text-align: right;\n",
       "    }\n",
       "</style>\n",
       "<table border=\"1\" class=\"dataframe\">\n",
       "  <thead>\n",
       "    <tr style=\"text-align: right;\">\n",
       "      <th></th>\n",
       "      <th>Predicted Negative</th>\n",
       "      <th>Predicted Positive</th>\n",
       "    </tr>\n",
       "  </thead>\n",
       "  <tbody>\n",
       "    <tr>\n",
       "      <th>Actual Negative</th>\n",
       "      <td>219</td>\n",
       "      <td>588</td>\n",
       "    </tr>\n",
       "    <tr>\n",
       "      <th>Actual Positive</th>\n",
       "      <td>13</td>\n",
       "      <td>2854</td>\n",
       "    </tr>\n",
       "  </tbody>\n",
       "</table>\n",
       "</div>"
      ],
      "text/plain": [
       "                 Predicted Negative  Predicted Positive\n",
       "Actual Negative                 219                 588\n",
       "Actual Positive                  13                2854"
      ]
     },
     "execution_count": 188,
     "metadata": {},
     "output_type": "execute_result"
    }
   ],
   "source": [
    "xgb_classifier = grid_search.best_estimator_\n",
    "xgb_classifier.fit(X_train, y_train)\n",
    "y_pred = xgb_classifier.predict(X_test)\n",
    "y_score = xgb_classifier.predict_proba(X_test)[:, 1]\n",
    "\n",
    "get_confusion_matrix(y_test, y_pred)"
   ]
  },
  {
   "cell_type": "code",
   "execution_count": 189,
   "id": "3cfaa081",
   "metadata": {},
   "outputs": [
    {
     "name": "stdout",
     "output_type": "stream",
     "text": [
      "AUC is 0.93\n"
     ]
    }
   ],
   "source": [
    "xgb_precision, xgb_recall, xgb_pr_auc = get_metrics(y_test, y_score)"
   ]
  },
  {
   "cell_type": "code",
   "execution_count": 190,
   "id": "352d5182",
   "metadata": {},
   "outputs": [
    {
     "data": {
      "image/png": "[encoded data removed]",
      "text/plain": [
       "<Figure size 640x480 with 1 Axes>"
      ]
     },
     "metadata": {},
     "output_type": "display_data"
    }
   ],
   "source": [
    "xgb_classifier.get_booster().feature_names =  list(X.columns)\n",
    "xgb.plot_importance(xgb_classifier);"
   ]
  },
  {
   "cell_type": "markdown",
   "id": "0f19d1fa",
   "metadata": {},
   "source": [
    "### Random Forest"
   ]
  },
  {
   "cell_type": "code",
   "execution_count": 191,
   "id": "a5e073fd",
   "metadata": {},
   "outputs": [
    {
     "data": {
      "text/plain": [
       "{'max_depth': 10, 'n_estimators': 400}"
      ]
     },
     "execution_count": 191,
     "metadata": {},
     "output_type": "execute_result"
    }
   ],
   "source": [
    "param_grid = [\n",
    "    {'n_estimators': [350, 400, 450],\n",
    "     'max_depth': [5, 10, 15]}\n",
    "]\n",
    "\n",
    "rf_classifier = RandomForestClassifier(class_weight=class_weights,\n",
    "                                       random_state = 123)\n",
    "\n",
    "grid_search = GridSearchCV(rf_classifier, param_grid, cv=5,\n",
    "                          scoring = 'average_precision',\n",
    "                          return_train_score = True)\n",
    "\n",
    "grid_search.fit(X_train, y_train)\n",
    "\n",
    "grid_search.best_params_"
   ]
  },
  {
   "cell_type": "code",
   "execution_count": 192,
   "id": "94669dad",
   "metadata": {},
   "outputs": [
    {
     "data": {
      "text/html": [
       "<div>\n",
       "<style scoped>\n",
       "    .dataframe tbody tr th:only-of-type {\n",
       "        vertical-align: middle;\n",
       "    }\n",
       "\n",
       "    .dataframe tbody tr th {\n",
       "        vertical-align: top;\n",
       "    }\n",
       "\n",
       "    .dataframe thead th {\n",
       "        text-align: right;\n",
       "    }\n",
       "</style>\n",
       "<table border=\"1\" class=\"dataframe\">\n",
       "  <thead>\n",
       "    <tr style=\"text-align: right;\">\n",
       "      <th></th>\n",
       "      <th>Predicted Negative</th>\n",
       "      <th>Predicted Positive</th>\n",
       "    </tr>\n",
       "  </thead>\n",
       "  <tbody>\n",
       "    <tr>\n",
       "      <th>Actual Negative</th>\n",
       "      <td>259</td>\n",
       "      <td>548</td>\n",
       "    </tr>\n",
       "    <tr>\n",
       "      <th>Actual Positive</th>\n",
       "      <td>59</td>\n",
       "      <td>2808</td>\n",
       "    </tr>\n",
       "  </tbody>\n",
       "</table>\n",
       "</div>"
      ],
      "text/plain": [
       "                 Predicted Negative  Predicted Positive\n",
       "Actual Negative                 259                 548\n",
       "Actual Positive                  59                2808"
      ]
     },
     "execution_count": 192,
     "metadata": {},
     "output_type": "execute_result"
    }
   ],
   "source": [
    "best_params = grid_search.best_estimator_\n",
    "rf_classifier.fit(X_train, y_train)\n",
    "y_pred = rf_classifier.predict(X_test)\n",
    "y_score = rf_classifier.predict_proba(X_test)[:, 1]\n",
    "\n",
    "get_confusion_matrix(y_test, y_pred)"
   ]
  },
  {
   "cell_type": "code",
   "execution_count": 193,
   "id": "be2f1043",
   "metadata": {},
   "outputs": [
    {
     "name": "stdout",
     "output_type": "stream",
     "text": [
      "AUC is 0.92\n"
     ]
    }
   ],
   "source": [
    "rf_precision, rf_recall, rf_pr_auc = get_metrics(y_test, y_score)"
   ]
  },
  {
   "cell_type": "code",
   "execution_count": 194,
   "id": "b01e1088",
   "metadata": {},
   "outputs": [
    {
     "data": {
      "text/plain": [
       "[('Debt-To-Income Ratio', 0.15510965886226152),\n",
       " ('revol_util', 0.14537801175908996),\n",
       " ('od_ratio', 0.13956296975887864),\n",
       " ('annual_income_log', 0.13924382655673734),\n",
       " ('emp_length_num', 0.07010002520974433),\n",
       " ('grade_F', 0.06211711819357181),\n",
       " ('term_60 months', 0.03232125268881546),\n",
       " ('purpose_small_business', 0.026906866627953004),\n",
       " ('last_delinq_none_1', 0.021345367925922204),\n",
       " ('grade_B', 0.019284038264851866),\n",
       " ('purpose_other', 0.017735284720585418),\n",
       " ('home_ownership_RENT', 0.017611306265321907),\n",
       " ('purpose_home_improvement', 0.015278954520317939),\n",
       " ('grade_D', 0.014884101322929416),\n",
       " ('purpose_debt_consolidation', 0.014084940211234983),\n",
       " ('grade_C', 0.013454752356881238),\n",
       " ('purpose_moving', 0.012835523525253136),\n",
       " ('purpose_credit_card', 0.011344588075093922),\n",
       " ('grade_E', 0.010525503528865835),\n",
       " ('purpose_house', 0.010143114463406945),\n",
       " ('home_ownership_OWN', 0.009443314907787048),\n",
       " ('total_rec_late_fee', 0.008633550707325636),\n",
       " ('short_employee', 0.008591517302369001),\n",
       " ('purpose_vacation', 0.007635758826946311),\n",
       " ('purpose_wedding', 0.004928810951323828),\n",
       " ('grade_G', 0.004885277622977413),\n",
       " ('purpose_major_purchase', 0.004413386859443179),\n",
       " ('purpose_medical', 0.0022011779841108153)]"
      ]
     },
     "execution_count": 194,
     "metadata": {},
     "output_type": "execute_result"
    }
   ],
   "source": [
    "feature_names = list(X.columns)\n",
    "feature_importances = list()\n",
    "\n",
    "for name, score in zip(feature_names, rf_classifier.feature_importances_):\n",
    "    p = (name, score)\n",
    "    feature_importances.append(p)\n",
    "\n",
    "feature_importances = sorted(feature_importances, key=lambda x:x[1],reverse=True)\n",
    "feature_importances"
   ]
  },
  {
   "cell_type": "code",
   "execution_count": null,
   "id": "217265de",
   "metadata": {},
   "outputs": [],
   "source": []
  },
  {
   "cell_type": "code",
   "execution_count": null,
   "id": "bdabc4d8",
   "metadata": {},
   "outputs": [],
   "source": []
  },
  {
   "cell_type": "markdown",
   "id": "dd5209ad",
   "metadata": {},
   "source": [
    "#### Gradient Descent Optimization"
   ]
  },
  {
   "cell_type": "code",
   "execution_count": 154,
   "id": "5907327f",
   "metadata": {},
   "outputs": [
    {
     "data": {
      "text/plain": [
       "{'max_iter': 100}"
      ]
     },
     "execution_count": 154,
     "metadata": {},
     "output_type": "execute_result"
    }
   ],
   "source": [
    "param_grid = [\n",
    "    {'max_iter': list(range(0, 951, 100))}\n",
    "]\n",
    "\n",
    "sgd_clf = SGDClassifier(loss='log', \n",
    "                        learning_rate='optimal',\n",
    "                        tol=1e-3,\n",
    "                        class_weight=class_weights,\n",
    "                        random_state = 123)\n",
    "\n",
    "grid_search = GridSearchCV(sgd_clf, param_grid, cv=5,\n",
    "                          scoring = 'average_precision',\n",
    "                          return_train_score = True)\n",
    "\n",
    "grid_search.fit(X_train, y_train)\n",
    "\n",
    "grid_search.best_params_"
   ]
  },
  {
   "cell_type": "code",
   "execution_count": 155,
   "id": "c702083e",
   "metadata": {},
   "outputs": [
    {
     "data": {
      "text/html": [
       "<div>\n",
       "<style scoped>\n",
       "    .dataframe tbody tr th:only-of-type {\n",
       "        vertical-align: middle;\n",
       "    }\n",
       "\n",
       "    .dataframe tbody tr th {\n",
       "        vertical-align: top;\n",
       "    }\n",
       "\n",
       "    .dataframe thead th {\n",
       "        text-align: right;\n",
       "    }\n",
       "</style>\n",
       "<table border=\"1\" class=\"dataframe\">\n",
       "  <thead>\n",
       "    <tr style=\"text-align: right;\">\n",
       "      <th></th>\n",
       "      <th>Predicted Negative</th>\n",
       "      <th>Predicted Positive</th>\n",
       "    </tr>\n",
       "  </thead>\n",
       "  <tbody>\n",
       "    <tr>\n",
       "      <th>Actual Negative</th>\n",
       "      <td>541</td>\n",
       "      <td>266</td>\n",
       "    </tr>\n",
       "    <tr>\n",
       "      <th>Actual Positive</th>\n",
       "      <td>644</td>\n",
       "      <td>2223</td>\n",
       "    </tr>\n",
       "  </tbody>\n",
       "</table>\n",
       "</div>"
      ],
      "text/plain": [
       "                 Predicted Negative  Predicted Positive\n",
       "Actual Negative                 541                 266\n",
       "Actual Positive                 644                2223"
      ]
     },
     "execution_count": 155,
     "metadata": {},
     "output_type": "execute_result"
    }
   ],
   "source": [
    "sgd_clf = grid_search.best_estimator_\n",
    "sgd_clf.fit(X_train, y_train)\n",
    "y_pred = sgd_clf.predict(X_test)\n",
    "y_score = sgd_clf.predict_proba(X_test)[:, 1]\n",
    "\n",
    "get_confusion_matrix(y_test, y_pred)"
   ]
  },
  {
   "cell_type": "code",
   "execution_count": 156,
   "id": "e1c95f53",
   "metadata": {},
   "outputs": [
    {
     "name": "stdout",
     "output_type": "stream",
     "text": [
      "AUC is 0.92\n"
     ]
    }
   ],
   "source": [
    "sgd_precision, sgd_recall, sgd_pr_auc = get_metrics(y_test, y_score)"
   ]
  },
  {
   "cell_type": "markdown",
   "id": "c2bb5926",
   "metadata": {},
   "source": [
    "### Mini-batch Gradient Descent"
   ]
  },
  {
   "cell_type": "code",
   "execution_count": 157,
   "id": "18f59043",
   "metadata": {},
   "outputs": [
    {
     "data": {
      "text/html": [
       "<div>\n",
       "<style scoped>\n",
       "    .dataframe tbody tr th:only-of-type {\n",
       "        vertical-align: middle;\n",
       "    }\n",
       "\n",
       "    .dataframe tbody tr th {\n",
       "        vertical-align: top;\n",
       "    }\n",
       "\n",
       "    .dataframe thead th {\n",
       "        text-align: right;\n",
       "    }\n",
       "</style>\n",
       "<table border=\"1\" class=\"dataframe\">\n",
       "  <thead>\n",
       "    <tr style=\"text-align: right;\">\n",
       "      <th></th>\n",
       "      <th>Predicted Negative</th>\n",
       "      <th>Predicted Positive</th>\n",
       "    </tr>\n",
       "  </thead>\n",
       "  <tbody>\n",
       "    <tr>\n",
       "      <th>Actual Negative</th>\n",
       "      <td>541</td>\n",
       "      <td>266</td>\n",
       "    </tr>\n",
       "    <tr>\n",
       "      <th>Actual Positive</th>\n",
       "      <td>644</td>\n",
       "      <td>2223</td>\n",
       "    </tr>\n",
       "  </tbody>\n",
       "</table>\n",
       "</div>"
      ],
      "text/plain": [
       "                 Predicted Negative  Predicted Positive\n",
       "Actual Negative                 541                 266\n",
       "Actual Positive                 644                2223"
      ]
     },
     "execution_count": 157,
     "metadata": {},
     "output_type": "execute_result"
    }
   ],
   "source": [
    "from sklearn.base import clone\n",
    "\n",
    "batch_size = 150\n",
    "sample_size = len(X_train)\n",
    "\n",
    "#set aside a validation batch for mini-batch SGD\n",
    "sss_2 = StratifiedShuffleSplit(n_splits=1, test_size=batch_size, train_size=sample_size-batch_size)\n",
    "train_ind, val_ind = next(sss_2.split(X_train, y_train))\n",
    "X_train_2, y_train_2, X_mini_val, y_mini_val = X_train[list(train_ind)], y_train.iloc[train_ind], X_train[list(val_ind)], y_train.iloc[val_ind]\n",
    "y_train_2 = y_train_2.to_numpy().reshape(-1,1)\n",
    "combined_training_data = np.concatenate((X_train_2, y_train_2), axis = 1)\n",
    "\n",
    "minimum_val_error = float(\"inf\") \n",
    "best_model = None\n",
    "\n",
    "for i in range(100):\n",
    "    \n",
    "    np.random.shuffle(combined_training_data)\n",
    "    \n",
    "    X_mini_train = combined_training_data[0:batch_size, :-1]\n",
    "    y_mini_train = combined_training_data[0:batch_size, -1]\n",
    "                                          \n",
    "    sgd_clf.partial_fit(X_mini_train, y_mini_train, classes=np.unique(y_train_2))\n",
    "    y_val_proba = sgd_clf.predict_proba(X_mini_val)\n",
    "    val_error = log_loss(y_mini_val, y_val_proba)\n",
    "    \n",
    "    if val_error < minimum_val_error:\n",
    "        minimum_val_error = val_error\n",
    "        best_model = clone(sgd_clf)\n",
    "\n",
    "best_model.fit(X_train, y_train)\n",
    "y_pred = best_model.predict(X_test)\n",
    "y_score = best_model.predict_proba(X_test)[:, 1]\n",
    "\n",
    "get_confusion_matrix(y_test, y_pred)\n"
   ]
  },
  {
   "cell_type": "code",
   "execution_count": 158,
   "id": "ef6dcc23",
   "metadata": {},
   "outputs": [
    {
     "name": "stdout",
     "output_type": "stream",
     "text": [
      "AUC is 0.92\n"
     ]
    }
   ],
   "source": [
    "mbgd_precision, mbgd_recall, mbgd_pr_auc = get_metrics(y_test, y_score)"
   ]
  },
  {
   "cell_type": "code",
   "execution_count": 159,
   "id": "3be3b210",
   "metadata": {},
   "outputs": [],
   "source": [
    "import xgboost as xgb\n",
    "from sklearn.ensemble import RandomForestClassifier, StackingClassifier\n",
    "from sklearn.linear_model import LogisticRegression, SGDClassifier\n",
    "from sklearn.svm import LinearSVC, SVC\n",
    "from sklearn.preprocessing import StandardScaler\n",
    "from sklearn.model_selection import GridSearchCV, cross_val_score, cross_val_predict, StratifiedShuffleSplit\n",
    "from sklearn.metrics import make_scorer, log_loss, recall_score, accuracy_score, classification_report, average_precision_score, precision_recall_curve, roc_curve, confusion_matrix, auc"
   ]
  },
  {
   "cell_type": "markdown",
   "id": "da10b924",
   "metadata": {},
   "source": [
    "### Support Vector Machine"
   ]
  },
  {
   "cell_type": "markdown",
   "id": "6677ad58",
   "metadata": {},
   "source": [
    "#### Linear SVM"
   ]
  },
  {
   "cell_type": "code",
   "execution_count": 160,
   "id": "66924192",
   "metadata": {},
   "outputs": [
    {
     "data": {
      "text/plain": [
       "{'C': 13, 'max_iter': 7}"
      ]
     },
     "execution_count": 160,
     "metadata": {},
     "output_type": "execute_result"
    }
   ],
   "source": [
    "param_grid = [\n",
    "    {'max_iter': np.arange(2, 8, 1),\n",
    "     'C': np.arange(1, 15, 1)}\n",
    "]\n",
    "\n",
    "lin_svm_clf = LinearSVC(dual=False, \n",
    "                        loss='squared_hinge',\n",
    "                        random_state=123)\n",
    "\n",
    "grid_search = GridSearchCV(lin_svm_clf, param_grid, cv=5,\n",
    "                          scoring = 'average_precision',\n",
    "                          return_train_score = True)\n",
    "\n",
    "grid_search.fit(X_train, y_train)\n",
    "\n",
    "grid_search.best_params_"
   ]
  },
  {
   "cell_type": "code",
   "execution_count": 161,
   "id": "2a3bed2f",
   "metadata": {},
   "outputs": [
    {
     "data": {
      "text/html": [
       "<div>\n",
       "<style scoped>\n",
       "    .dataframe tbody tr th:only-of-type {\n",
       "        vertical-align: middle;\n",
       "    }\n",
       "\n",
       "    .dataframe tbody tr th {\n",
       "        vertical-align: top;\n",
       "    }\n",
       "\n",
       "    .dataframe thead th {\n",
       "        text-align: right;\n",
       "    }\n",
       "</style>\n",
       "<table border=\"1\" class=\"dataframe\">\n",
       "  <thead>\n",
       "    <tr style=\"text-align: right;\">\n",
       "      <th></th>\n",
       "      <th>Predicted Negative</th>\n",
       "      <th>Predicted Positive</th>\n",
       "    </tr>\n",
       "  </thead>\n",
       "  <tbody>\n",
       "    <tr>\n",
       "      <th>Actual Negative</th>\n",
       "      <td>257</td>\n",
       "      <td>550</td>\n",
       "    </tr>\n",
       "    <tr>\n",
       "      <th>Actual Positive</th>\n",
       "      <td>29</td>\n",
       "      <td>2838</td>\n",
       "    </tr>\n",
       "  </tbody>\n",
       "</table>\n",
       "</div>"
      ],
      "text/plain": [
       "                 Predicted Negative  Predicted Positive\n",
       "Actual Negative                 257                 550\n",
       "Actual Positive                  29                2838"
      ]
     },
     "execution_count": 161,
     "metadata": {},
     "output_type": "execute_result"
    }
   ],
   "source": [
    "from sklearn.calibration import CalibratedClassifierCV\n",
    "\n",
    "lin_svm_clf = grid_search.best_estimator_\n",
    "lin_svm_clf.fit(X_train, y_train)\n",
    "y_pred = lin_svm_clf.predict(X_test)\n",
    "\n",
    "clf = CalibratedClassifierCV(grid_search.best_estimator_) \n",
    "clf.fit(X_train, y_train)\n",
    "y_score = clf.predict_proba(X_test)[:,1]\n",
    "\n",
    "get_confusion_matrix(y_test, y_pred)"
   ]
  },
  {
   "cell_type": "code",
   "execution_count": 162,
   "id": "c23eda08",
   "metadata": {},
   "outputs": [
    {
     "name": "stdout",
     "output_type": "stream",
     "text": [
      "AUC is 0.93\n"
     ]
    }
   ],
   "source": [
    "lsvm_precision, lsvm_recall, lsvm_pr_auc = get_metrics(y_test, y_score)"
   ]
  },
  {
   "cell_type": "markdown",
   "id": "9edc05e1",
   "metadata": {},
   "source": [
    "#### Polynomial Kernel Support Vector Classifier\n",
    "\n",
    "SVC's time complexity is O(n^2 xd) to O(n^3 xd). To lower the time required to train kernel SVM models, i will use a smaller training dataset"
   ]
  },
  {
   "cell_type": "code",
   "execution_count": 195,
   "id": "5983eb21",
   "metadata": {},
   "outputs": [],
   "source": [
    "sss = StratifiedShuffleSplit(n_splits=1, test_size=0.8, train_size=0.2, random_state=123)\n",
    "train_ind, test_ind = next(sss.split(X,y,groups=None))\n",
    "X_train_2, y_train_2, X_test_2, y_test_2 = X.iloc[train_ind], y.iloc[train_ind], X.iloc[test_ind], y.iloc[test_ind]\n",
    "\n",
    "scaler = StandardScaler()\n",
    "X_train_2 = scaler.fit_transform(X_train_2)\n",
    "X_test_2 = scaler.transform(X_test_2)"
   ]
  },
  {
   "cell_type": "code",
   "execution_count": null,
   "id": "1e1bd199",
   "metadata": {},
   "outputs": [],
   "source": [
    "param_grid = [\n",
    "    {'degree': [0, 1, 2],\n",
    "     'coef0': [1, 2],\n",
    "     'C': [1, 10, 100, 1000]}\n",
    "]\n",
    "\n",
    "poly_kernel_svm_clf = SVC(kernel = 'poly',\n",
    "                          probability = True,\n",
    "                          class_weight=class_weights)\n",
    "\n",
    "grid_search = GridSearchCV(poly_kernel_svm_clf, param_grid, cv=2,\n",
    "                          scoring = 'average_precision',\n",
    "                          return_train_score = True,\n",
    "                          n_jobs=-1)\n",
    "\n",
    "grid_search.fit(X_train_2, y_train_2)\n",
    "\n",
    "grid_search.best_params_"
   ]
  },
  {
   "cell_type": "code",
   "execution_count": 165,
   "id": "68399e02",
   "metadata": {},
   "outputs": [
    {
     "data": {
      "text/html": [
       "<div>\n",
       "<style scoped>\n",
       "    .dataframe tbody tr th:only-of-type {\n",
       "        vertical-align: middle;\n",
       "    }\n",
       "\n",
       "    .dataframe tbody tr th {\n",
       "        vertical-align: top;\n",
       "    }\n",
       "\n",
       "    .dataframe thead th {\n",
       "        text-align: right;\n",
       "    }\n",
       "</style>\n",
       "<table border=\"1\" class=\"dataframe\">\n",
       "  <thead>\n",
       "    <tr style=\"text-align: right;\">\n",
       "      <th></th>\n",
       "      <th>Predicted Negative</th>\n",
       "      <th>Predicted Positive</th>\n",
       "    </tr>\n",
       "  </thead>\n",
       "  <tbody>\n",
       "    <tr>\n",
       "      <th>Actual Negative</th>\n",
       "      <td>1862</td>\n",
       "      <td>1365</td>\n",
       "    </tr>\n",
       "    <tr>\n",
       "      <th>Actual Positive</th>\n",
       "      <td>2235</td>\n",
       "      <td>9234</td>\n",
       "    </tr>\n",
       "  </tbody>\n",
       "</table>\n",
       "</div>"
      ],
      "text/plain": [
       "                 Predicted Negative  Predicted Positive\n",
       "Actual Negative                1862                1365\n",
       "Actual Positive                2235                9234"
      ]
     },
     "execution_count": 165,
     "metadata": {},
     "output_type": "execute_result"
    }
   ],
   "source": [
    "poly_kernel_svm_clf = grid_search.best_estimator_\n",
    "poly_kernel_svm_clf.fit(X_train_2, y_train_2)\n",
    "y_pred = poly_kernel_svm_clf.predict(X_test_2)\n",
    "y_score = poly_kernel_svm_clf.predict_proba(X_test_2)[:, 1]\n",
    "\n",
    "get_confusion_matrix(y_test_2, y_pred)"
   ]
  },
  {
   "cell_type": "code",
   "execution_count": 166,
   "id": "41321af7",
   "metadata": {},
   "outputs": [
    {
     "name": "stdout",
     "output_type": "stream",
     "text": [
      "AUC is 0.92\n"
     ]
    }
   ],
   "source": [
    "pksvm_precision, pksvm_recall, pksvm_pr_auc = get_metrics(y_test_2, y_score)"
   ]
  },
  {
   "cell_type": "markdown",
   "id": "fc9b1ef7",
   "metadata": {},
   "source": [
    "#### Gaussian RBF Kernel Support Vector Classifier"
   ]
  },
  {
   "cell_type": "code",
   "execution_count": 167,
   "id": "4b57c780",
   "metadata": {},
   "outputs": [
    {
     "data": {
      "text/plain": [
       "{'C': 10, 'gamma': 0.001}"
      ]
     },
     "execution_count": 167,
     "metadata": {},
     "output_type": "execute_result"
    }
   ],
   "source": [
    "param_grid = [\n",
    "    {'gamma': [0.0001, 0.001, 0.01, 0.1],\n",
    "     'C': [0.1, 1, 10, 100, 1000]}\n",
    "]\n",
    "#https://scikit-learn.org/stable/modules/svm.html#svm-kernels\n",
    "rbf_kernel_svm_clf = SVC(kernel = 'rbf',\n",
    "                         probability = True,\n",
    "                         class_weight=class_weights)\n",
    "\n",
    "grid_search = GridSearchCV(rbf_kernel_svm_clf, param_grid, cv=2,\n",
    "                          scoring = 'average_precision',\n",
    "                          return_train_score = True,\n",
    "                          n_jobs=-1)\n",
    "\n",
    "grid_search.fit(X_train_2, y_train_2)\n",
    "\n",
    "grid_search.best_params_"
   ]
  },
  {
   "cell_type": "code",
   "execution_count": 168,
   "id": "01191fa1",
   "metadata": {},
   "outputs": [
    {
     "data": {
      "text/html": [
       "<div>\n",
       "<style scoped>\n",
       "    .dataframe tbody tr th:only-of-type {\n",
       "        vertical-align: middle;\n",
       "    }\n",
       "\n",
       "    .dataframe tbody tr th {\n",
       "        vertical-align: top;\n",
       "    }\n",
       "\n",
       "    .dataframe thead th {\n",
       "        text-align: right;\n",
       "    }\n",
       "</style>\n",
       "<table border=\"1\" class=\"dataframe\">\n",
       "  <thead>\n",
       "    <tr style=\"text-align: right;\">\n",
       "      <th></th>\n",
       "      <th>Predicted Negative</th>\n",
       "      <th>Predicted Positive</th>\n",
       "    </tr>\n",
       "  </thead>\n",
       "  <tbody>\n",
       "    <tr>\n",
       "      <th>Actual Negative</th>\n",
       "      <td>1921</td>\n",
       "      <td>1306</td>\n",
       "    </tr>\n",
       "    <tr>\n",
       "      <th>Actual Positive</th>\n",
       "      <td>2241</td>\n",
       "      <td>9228</td>\n",
       "    </tr>\n",
       "  </tbody>\n",
       "</table>\n",
       "</div>"
      ],
      "text/plain": [
       "                 Predicted Negative  Predicted Positive\n",
       "Actual Negative                1921                1306\n",
       "Actual Positive                2241                9228"
      ]
     },
     "execution_count": 168,
     "metadata": {},
     "output_type": "execute_result"
    }
   ],
   "source": [
    "rbf_kernel_svm_clf = grid_search.best_estimator_\n",
    "rbf_kernel_svm_clf.fit(X_train_2, y_train_2)\n",
    "y_pred = rbf_kernel_svm_clf.predict(X_test_2)\n",
    "y_score = rbf_kernel_svm_clf.predict_proba(X_test_2)[:, 1]\n",
    "\n",
    "get_confusion_matrix(y_test_2, y_pred)"
   ]
  },
  {
   "cell_type": "code",
   "execution_count": 169,
   "id": "826ab523",
   "metadata": {},
   "outputs": [
    {
     "name": "stdout",
     "output_type": "stream",
     "text": [
      "AUC is 0.92\n"
     ]
    }
   ],
   "source": [
    "rbfksvm_precision, rbfksvm_recall, rbfksvm_pr_auc = get_metrics(y_test_2, y_score)"
   ]
  },
  {
   "cell_type": "markdown",
   "id": "02b09d95",
   "metadata": {},
   "source": [
    "#### Stacking/Stacked Generalization"
   ]
  },
  {
   "cell_type": "code",
   "execution_count": 170,
   "id": "45c3f5fe",
   "metadata": {},
   "outputs": [
    {
     "data": {
      "text/html": [
       "<div>\n",
       "<style scoped>\n",
       "    .dataframe tbody tr th:only-of-type {\n",
       "        vertical-align: middle;\n",
       "    }\n",
       "\n",
       "    .dataframe tbody tr th {\n",
       "        vertical-align: top;\n",
       "    }\n",
       "\n",
       "    .dataframe thead th {\n",
       "        text-align: right;\n",
       "    }\n",
       "</style>\n",
       "<table border=\"1\" class=\"dataframe\">\n",
       "  <thead>\n",
       "    <tr style=\"text-align: right;\">\n",
       "      <th></th>\n",
       "      <th>Predicted Negative</th>\n",
       "      <th>Predicted Positive</th>\n",
       "    </tr>\n",
       "  </thead>\n",
       "  <tbody>\n",
       "    <tr>\n",
       "      <th>Actual Negative</th>\n",
       "      <td>528</td>\n",
       "      <td>279</td>\n",
       "    </tr>\n",
       "    <tr>\n",
       "      <th>Actual Positive</th>\n",
       "      <td>595</td>\n",
       "      <td>2272</td>\n",
       "    </tr>\n",
       "  </tbody>\n",
       "</table>\n",
       "</div>"
      ],
      "text/plain": [
       "                 Predicted Negative  Predicted Positive\n",
       "Actual Negative                 528                 279\n",
       "Actual Positive                 595                2272"
      ]
     },
     "execution_count": 170,
     "metadata": {},
     "output_type": "execute_result"
    }
   ],
   "source": [
    "base_learners = [\n",
    "    ('rf', rf_classifier),\n",
    "    ('sgd', sgd_clf),\n",
    "    ('xgb', xgb_classifier),\n",
    "]\n",
    "\n",
    "meta_learner = LogisticRegression(class_weight=class_weights)\n",
    "\n",
    "stacking_model = StackingClassifier(estimators=base_learners, final_estimator=meta_learner)\n",
    "\n",
    "stacking_model.fit(X_train, y_train)\n",
    "y_pred = stacking_model.predict(X_test)\n",
    "y_score = stacking_model.predict_proba(X_test)[:, 1]\n",
    "\n",
    "get_confusion_matrix(y_test, y_pred)"
   ]
  },
  {
   "cell_type": "code",
   "execution_count": 171,
   "id": "78d1c367",
   "metadata": {},
   "outputs": [
    {
     "name": "stdout",
     "output_type": "stream",
     "text": [
      "AUC is 0.93\n"
     ]
    }
   ],
   "source": [
    "stack_precision, stack_recall, stack_pr_auc = get_metrics(y_test, y_score)"
   ]
  },
  {
   "cell_type": "code",
   "execution_count": 172,
   "id": "57dcf2e5",
   "metadata": {
    "scrolled": true
   },
   "outputs": [
    {
     "data": {
      "image/png": "[encoded data removed]",
      "text/plain": [
       "<Figure size 800x600 with 1 Axes>"
      ]
     },
     "metadata": {},
     "output_type": "display_data"
    }
   ],
   "source": [
    "plt.figure(figsize=(8, 6))\n",
    "\n",
    "plt.plot(xgb_recall, xgb_precision, color='r', lw=2, label=f'XGB PR Curve (AUC = {xgb_pr_auc:.2f})')\n",
    "plt.plot(stack_recall, stack_precision, color='b', lw=2, label=f'Stacking PR Curve (AUC = {stack_pr_auc:.2f})')\n",
    "plt.plot(rf_recall, rf_precision, color='g', lw=2, label=f'Random Forest PR Curve (AUC = {rf_pr_auc:.2f})')\n",
    "plt.plot(mbgd_recall, mbgd_precision, color='y', lw=2, label=f'MBGD PR Curve (AUC = {mbgd_pr_auc:.2f})')\n",
    "plt.plot(lsvm_recall, lsvm_precision, color='m', lw=2, label=f'Linear SVM PR Curve (AUC = {lsvm_pr_auc:.2f})')\n",
    "plt.plot(pksvm_recall, pksvm_precision, color='k', lw=2, label=f'Poly Kernel SVM PR Curve (AUC = {pksvm_pr_auc:.2f})')\n",
    "plt.plot(rbfksvm_recall, rbfksvm_precision, color='#FF5733', lw=2, label=f'RBF Kernel SVM PR Curve (AUC = {rbfksvm_pr_auc:.2f})')\n",
    "plt.plot(lg_recall, lg_precision, color='c', lw=2, label=f'LR PR Curve (AUC = {lg_pr_auc:.2f})')\n",
    "\n",
    "plt.xlabel('Recall')\n",
    "plt.ylabel('Precision')\n",
    "plt.title('Classifier Precision-Recall Curves')\n",
    "plt.legend(loc='lower left')\n",
    "plt.grid(True)\n",
    "plt.show()"
   ]
  },
  {
   "cell_type": "code",
   "execution_count": null,
   "id": "f696c07a",
   "metadata": {},
   "outputs": [],
   "source": []
  },
  {
   "cell_type": "code",
   "execution_count": null,
   "id": "e84a0a33",
   "metadata": {},
   "outputs": [],
   "source": []
  },
  {
   "cell_type": "code",
   "execution_count": null,
   "id": "c0757293",
   "metadata": {},
   "outputs": [],
   "source": []
  }
 ],
 "metadata": {
  "kernelspec": {
   "display_name": "Python 3 (ipykernel)",
   "language": "python",
   "name": "python3"
  },
  "language_info": {
   "codemirror_mode": {
    "name": "ipython",
    "version": 3
   },
   "file_extension": ".py",
   "mimetype": "text/x-python",
   "name": "python",
   "nbconvert_exporter": "python",
   "pygments_lexer": "ipython3",
   "version": "3.9.13"
  }
 },
 "nbformat": 4,
 "nbformat_minor": 5
}
