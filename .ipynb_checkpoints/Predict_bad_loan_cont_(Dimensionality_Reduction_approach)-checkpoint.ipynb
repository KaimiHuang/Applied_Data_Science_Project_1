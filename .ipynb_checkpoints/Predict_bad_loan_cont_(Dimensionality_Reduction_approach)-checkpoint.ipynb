{
 "cells": [
  {
   "cell_type": "markdown",
   "id": "55211531",
   "metadata": {},
   "source": [
    "Approach: use PCA to reduce the dimension of the features, and then apply classifier on the reduced data. \n",
    "\n",
    "The motivation behind the approach is that I suspect some of the features in the original dataset may not contribute to classification performance, and PCA may be able to reduce noise in the dataset by capturing the underlying structure or patterns in the data by finding a lower-dimensional representation that retains most of the variance. Additionally, a benefit of dimensionality reduction is the decrease in computational resource required."
   ]
  },
  {
   "cell_type": "code",
   "execution_count": 131,
   "id": "4e2d8f57",
   "metadata": {},
   "outputs": [],
   "source": [
    "import pandas as pd\n",
    "import numpy as np\n",
    "import matplotlib.pyplot as plt\n",
    "from sklearn.decomposition import PCA\n",
    "from sklearn.model_selection import StratifiedShuffleSplit, GridSearchCV\n",
    "from sklearn.ensemble import RandomForestClassifier\n",
    "from sklearn.preprocessing import StandardScaler\n",
    "from sklearn import cluster\n",
    "from sklearn.neighbors import KNeighborsClassifier, kneighbors_graph\n",
    "from sklearn.pipeline import Pipeline\n",
    "from sklearn.linear_model import LogisticRegression\n",
    "from sklearn.metrics import precision_recall_curve, confusion_matrix, classification_report, average_precision_score, accuracy_score"
   ]
  },
  {
   "cell_type": "code",
   "execution_count": 132,
   "id": "7887eb24",
   "metadata": {},
   "outputs": [
    {
     "data": {
      "text/plain": [
       "['./Predict_bad_loan.ipynb',\n",
       " './Loan_Dataset.csv',\n",
       " './Predict_bad_loan_cont_(Unsupervised_&_Supervised_approach).ipynb',\n",
       " './Loan_Dataset_2.csv',\n",
       " './Predict_bad_loan_cont_(Dimensionality_Reduction_approach).ipynb',\n",
       " './Predict_bad_loan_cont_(all_combined).ipynb',\n",
       " './variable_descriptions']"
      ]
     },
     "execution_count": 132,
     "metadata": {},
     "output_type": "execute_result"
    }
   ],
   "source": [
    "from glob import glob\n",
    "glob('./*')"
   ]
  },
  {
   "cell_type": "code",
   "execution_count": 133,
   "id": "c54b7449",
   "metadata": {},
   "outputs": [
    {
     "data": {
      "text/html": [
       "<div>\n",
       "<style scoped>\n",
       "    .dataframe tbody tr th:only-of-type {\n",
       "        vertical-align: middle;\n",
       "    }\n",
       "\n",
       "    .dataframe tbody tr th {\n",
       "        vertical-align: top;\n",
       "    }\n",
       "\n",
       "    .dataframe thead th {\n",
       "        text-align: right;\n",
       "    }\n",
       "</style>\n",
       "<table border=\"1\" class=\"dataframe\">\n",
       "  <thead>\n",
       "    <tr style=\"text-align: right;\">\n",
       "      <th></th>\n",
       "      <th>id</th>\n",
       "      <th>annual_income</th>\n",
       "      <th>short_employee</th>\n",
       "      <th>emp_length_num</th>\n",
       "      <th>Debt-To-Income Ratio</th>\n",
       "      <th>revol_util</th>\n",
       "      <th>total_rec_late_fee</th>\n",
       "      <th>od_ratio</th>\n",
       "      <th>bad_loan</th>\n",
       "      <th>annual_income_log</th>\n",
       "      <th>...</th>\n",
       "      <th>purpose_medical</th>\n",
       "      <th>purpose_moving</th>\n",
       "      <th>purpose_other</th>\n",
       "      <th>purpose_small_business</th>\n",
       "      <th>purpose_vacation</th>\n",
       "      <th>purpose_wedding</th>\n",
       "      <th>term_36 months</th>\n",
       "      <th>term_60 months</th>\n",
       "      <th>last_delinq_none_0</th>\n",
       "      <th>last_delinq_none_1</th>\n",
       "    </tr>\n",
       "  </thead>\n",
       "  <tbody>\n",
       "    <tr>\n",
       "      <th>0</th>\n",
       "      <td>11454641</td>\n",
       "      <td>100000</td>\n",
       "      <td>1</td>\n",
       "      <td>1</td>\n",
       "      <td>26.27</td>\n",
       "      <td>43.2</td>\n",
       "      <td>0.0</td>\n",
       "      <td>0.160624</td>\n",
       "      <td>0</td>\n",
       "      <td>11.512935</td>\n",
       "      <td>...</td>\n",
       "      <td>0</td>\n",
       "      <td>0</td>\n",
       "      <td>0</td>\n",
       "      <td>0</td>\n",
       "      <td>0</td>\n",
       "      <td>0</td>\n",
       "      <td>1</td>\n",
       "      <td>0</td>\n",
       "      <td>0</td>\n",
       "      <td>1</td>\n",
       "    </tr>\n",
       "    <tr>\n",
       "      <th>1</th>\n",
       "      <td>9604874</td>\n",
       "      <td>83000</td>\n",
       "      <td>0</td>\n",
       "      <td>4</td>\n",
       "      <td>5.39</td>\n",
       "      <td>21.5</td>\n",
       "      <td>0.0</td>\n",
       "      <td>0.810777</td>\n",
       "      <td>0</td>\n",
       "      <td>11.326608</td>\n",
       "      <td>...</td>\n",
       "      <td>0</td>\n",
       "      <td>0</td>\n",
       "      <td>0</td>\n",
       "      <td>0</td>\n",
       "      <td>0</td>\n",
       "      <td>0</td>\n",
       "      <td>1</td>\n",
       "      <td>0</td>\n",
       "      <td>1</td>\n",
       "      <td>0</td>\n",
       "    </tr>\n",
       "    <tr>\n",
       "      <th>2</th>\n",
       "      <td>9684700</td>\n",
       "      <td>78000</td>\n",
       "      <td>0</td>\n",
       "      <td>11</td>\n",
       "      <td>18.45</td>\n",
       "      <td>46.3</td>\n",
       "      <td>0.0</td>\n",
       "      <td>0.035147</td>\n",
       "      <td>1</td>\n",
       "      <td>11.264477</td>\n",
       "      <td>...</td>\n",
       "      <td>0</td>\n",
       "      <td>0</td>\n",
       "      <td>0</td>\n",
       "      <td>0</td>\n",
       "      <td>0</td>\n",
       "      <td>0</td>\n",
       "      <td>0</td>\n",
       "      <td>1</td>\n",
       "      <td>0</td>\n",
       "      <td>1</td>\n",
       "    </tr>\n",
       "    <tr>\n",
       "      <th>3</th>\n",
       "      <td>9695736</td>\n",
       "      <td>37536</td>\n",
       "      <td>0</td>\n",
       "      <td>6</td>\n",
       "      <td>12.28</td>\n",
       "      <td>10.7</td>\n",
       "      <td>0.0</td>\n",
       "      <td>0.534887</td>\n",
       "      <td>1</td>\n",
       "      <td>10.533082</td>\n",
       "      <td>...</td>\n",
       "      <td>1</td>\n",
       "      <td>0</td>\n",
       "      <td>0</td>\n",
       "      <td>0</td>\n",
       "      <td>0</td>\n",
       "      <td>0</td>\n",
       "      <td>0</td>\n",
       "      <td>1</td>\n",
       "      <td>1</td>\n",
       "      <td>0</td>\n",
       "    </tr>\n",
       "    <tr>\n",
       "      <th>4</th>\n",
       "      <td>9795013</td>\n",
       "      <td>65000</td>\n",
       "      <td>0</td>\n",
       "      <td>11</td>\n",
       "      <td>11.26</td>\n",
       "      <td>15.2</td>\n",
       "      <td>0.0</td>\n",
       "      <td>0.166500</td>\n",
       "      <td>0</td>\n",
       "      <td>11.082158</td>\n",
       "      <td>...</td>\n",
       "      <td>0</td>\n",
       "      <td>0</td>\n",
       "      <td>0</td>\n",
       "      <td>0</td>\n",
       "      <td>0</td>\n",
       "      <td>0</td>\n",
       "      <td>1</td>\n",
       "      <td>0</td>\n",
       "      <td>1</td>\n",
       "      <td>0</td>\n",
       "    </tr>\n",
       "  </tbody>\n",
       "</table>\n",
       "<p>5 rows × 36 columns</p>\n",
       "</div>"
      ],
      "text/plain": [
       "         id  annual_income  short_employee  emp_length_num  \\\n",
       "0  11454641         100000               1               1   \n",
       "1   9604874          83000               0               4   \n",
       "2   9684700          78000               0              11   \n",
       "3   9695736          37536               0               6   \n",
       "4   9795013          65000               0              11   \n",
       "\n",
       "   Debt-To-Income Ratio  revol_util  total_rec_late_fee  od_ratio  bad_loan  \\\n",
       "0                 26.27        43.2                 0.0  0.160624         0   \n",
       "1                  5.39        21.5                 0.0  0.810777         0   \n",
       "2                 18.45        46.3                 0.0  0.035147         1   \n",
       "3                 12.28        10.7                 0.0  0.534887         1   \n",
       "4                 11.26        15.2                 0.0  0.166500         0   \n",
       "\n",
       "   annual_income_log  ...  purpose_medical  purpose_moving  purpose_other  \\\n",
       "0          11.512935  ...                0               0              0   \n",
       "1          11.326608  ...                0               0              0   \n",
       "2          11.264477  ...                0               0              0   \n",
       "3          10.533082  ...                1               0              0   \n",
       "4          11.082158  ...                0               0              0   \n",
       "\n",
       "   purpose_small_business  purpose_vacation  purpose_wedding  term_36 months  \\\n",
       "0                       0                 0                0               1   \n",
       "1                       0                 0                0               1   \n",
       "2                       0                 0                0               0   \n",
       "3                       0                 0                0               0   \n",
       "4                       0                 0                0               1   \n",
       "\n",
       "   term_60 months  last_delinq_none_0  last_delinq_none_1  \n",
       "0               0                   0                   1  \n",
       "1               0                   1                   0  \n",
       "2               1                   0                   1  \n",
       "3               1                   1                   0  \n",
       "4               0                   1                   0  \n",
       "\n",
       "[5 rows x 36 columns]"
      ]
     },
     "execution_count": 133,
     "metadata": {},
     "output_type": "execute_result"
    }
   ],
   "source": [
    "df = pd.read_csv('Loan_Dataset_2.csv')\n",
    "df.head()"
   ]
  },
  {
   "cell_type": "code",
   "execution_count": 134,
   "id": "bd23e50a",
   "metadata": {},
   "outputs": [],
   "source": [
    "X = df.drop(columns=['id', 'annual_income','bad_loan','grade_A',\n",
    "                     'home_ownership_MORTGAGE','purpose_car','term_36 months',\n",
    "                     'last_delinq_none_0'])\n",
    "\n",
    "y = df['bad_loan'].astype(int)\n",
    "\n",
    "sss = StratifiedShuffleSplit(n_splits=1, test_size=0.2, train_size=0.8, random_state=123)\n",
    "train_ind, test_ind = next(sss.split(X,y,groups=None))\n",
    "X_train, y_train, X_test, y_test = X.iloc[train_ind], y.iloc[train_ind], X.iloc[test_ind], y.iloc[test_ind]\n",
    "\n",
    "scaler = StandardScaler()\n",
    "X_train = scaler.fit_transform(X_train)\n",
    "X_test = scaler.transform(X_test)"
   ]
  },
  {
   "cell_type": "code",
   "execution_count": 135,
   "id": "eee8eb80",
   "metadata": {},
   "outputs": [
    {
     "data": {
      "text/plain": [
       "(14696, 28)"
      ]
     },
     "execution_count": 135,
     "metadata": {},
     "output_type": "execute_result"
    }
   ],
   "source": [
    "X_train.shape"
   ]
  },
  {
   "cell_type": "markdown",
   "id": "0f040e66",
   "metadata": {},
   "source": [
    "### PCA"
   ]
  },
  {
   "cell_type": "code",
   "execution_count": 136,
   "id": "3cf65e7f",
   "metadata": {},
   "outputs": [],
   "source": [
    "pca = PCA(n_components=0.95)\n",
    "pca.fit(X_train)\n",
    "X_train_reduced = pca.transform(X_train)\n",
    "X_test_reduced = pca.transform(X_test)"
   ]
  },
  {
   "cell_type": "code",
   "execution_count": 137,
   "id": "247ac4c7",
   "metadata": {},
   "outputs": [
    {
     "data": {
      "text/plain": [
       "((14696, 24), (3674, 24))"
      ]
     },
     "execution_count": 137,
     "metadata": {},
     "output_type": "execute_result"
    }
   ],
   "source": [
    "X_train_reduced.shape, X_test_reduced.shape"
   ]
  },
  {
   "cell_type": "markdown",
   "id": "99574101",
   "metadata": {},
   "source": [
    "plot the function of explained variance and the number of dimensions"
   ]
  },
  {
   "cell_type": "code",
   "execution_count": 138,
   "id": "dac7c12d",
   "metadata": {},
   "outputs": [
    {
     "data": {
      "text/plain": [
       "array([0.06896967, 0.13257863, 0.19346103, 0.24415574, 0.29254533,\n",
       "       0.33783746, 0.38225461, 0.42200181, 0.46150239, 0.49982266,\n",
       "       0.53679816, 0.57307769, 0.60912588, 0.64511369, 0.6809095 ,\n",
       "       0.71636425, 0.7514488 , 0.78630271, 0.82094643, 0.85477035,\n",
       "       0.88743229, 0.9172962 , 0.94355762, 0.96379375])"
      ]
     },
     "execution_count": 138,
     "metadata": {},
     "output_type": "execute_result"
    }
   ],
   "source": [
    "cumsum = np.cumsum(pca.explained_variance_ratio_)\n",
    "cumsum"
   ]
  },
  {
   "cell_type": "code",
   "execution_count": 139,
   "id": "e6ce4b8f",
   "metadata": {},
   "outputs": [
    {
     "data": {
      "text/plain": [
       "array([0.        , 0.06896967, 0.13257863, 0.19346103, 0.24415574,\n",
       "       0.29254533, 0.33783746, 0.38225461, 0.42200181, 0.46150239,\n",
       "       0.49982266, 0.53679816, 0.57307769, 0.60912588, 0.64511369,\n",
       "       0.6809095 , 0.71636425, 0.7514488 , 0.78630271, 0.82094643,\n",
       "       0.85477035, 0.88743229, 0.9172962 , 0.94355762, 0.96379375])"
      ]
     },
     "execution_count": 139,
     "metadata": {},
     "output_type": "execute_result"
    }
   ],
   "source": [
    "cumsum = np.insert(cumsum, 0, 0)\n",
    "cumsum"
   ]
  },
  {
   "cell_type": "code",
   "execution_count": 174,
   "id": "00b90148",
   "metadata": {},
   "outputs": [
    {
     "data": {
      "image/png": "[encoded data removed]",
      "text/plain": [
       "<Figure size 640x480 with 1 Axes>"
      ]
     },
     "metadata": {},
     "output_type": "display_data"
    }
   ],
   "source": [
    "dim = np.linspace(start=0, stop=cumsum.shape[0], num=cumsum.shape[0], dtype=int)\n",
    "sns.lineplot(x=dim, y=cumsum)\n",
    "plt.xlabel('Dimensions')\n",
    "plt.ylabel('Explained Variance')\n",
    "plt.grid(True)\n",
    "plt.title('PCA Explained Variance as a Function of Dimensions')\n",
    "plt.yticks(np.arange(0, 1.1, 0.1))\n",
    "#plt.xticks(np.arange(0, cumsum.shape[0], 1))\n",
    "plt.show()"
   ]
  },
  {
   "cell_type": "code",
   "execution_count": 141,
   "id": "67437e90",
   "metadata": {},
   "outputs": [],
   "source": [
    "def get_metrics(target_test, target_score):\n",
    "    precision, recall, thresholds = precision_recall_curve(target_test, target_score)\n",
    "    pr_auc = average_precision_score(y_test, y_score)\n",
    "    print(f'AUC is {pr_auc:.2f}')\n",
    "    return precision, recall, pr_auc\n",
    "\n",
    "def get_confusion_matrix(target_test, target_pred):\n",
    "    matrix = confusion_matrix(target_test, target_pred)\n",
    "    df = pd.DataFrame(matrix, index=['Actual Negative', 'Actual Positive'], \n",
    "                 columns=['Predicted Negative', 'Predicted Positive'])\n",
    "    return df"
   ]
  },
  {
   "cell_type": "markdown",
   "id": "5e4a4b5c",
   "metadata": {},
   "source": [
    "### Logistic Regression"
   ]
  },
  {
   "cell_type": "code",
   "execution_count": 142,
   "id": "04100a78",
   "metadata": {},
   "outputs": [],
   "source": [
    "log_reg = LogisticRegression(class_weight='balanced')\n",
    "log_reg.fit(X_train_reduced, y_train)\n",
    "\n",
    "y_pred = log_reg.predict(X_test_reduced)\n",
    "y_score = log_reg.predict_proba(X_test_reduced)[:,1]"
   ]
  },
  {
   "cell_type": "code",
   "execution_count": 143,
   "id": "8f5b1fed",
   "metadata": {},
   "outputs": [
    {
     "data": {
      "text/html": [
       "<div>\n",
       "<style scoped>\n",
       "    .dataframe tbody tr th:only-of-type {\n",
       "        vertical-align: middle;\n",
       "    }\n",
       "\n",
       "    .dataframe tbody tr th {\n",
       "        vertical-align: top;\n",
       "    }\n",
       "\n",
       "    .dataframe thead th {\n",
       "        text-align: right;\n",
       "    }\n",
       "</style>\n",
       "<table border=\"1\" class=\"dataframe\">\n",
       "  <thead>\n",
       "    <tr style=\"text-align: right;\">\n",
       "      <th></th>\n",
       "      <th>Predicted Negative</th>\n",
       "      <th>Predicted Positive</th>\n",
       "    </tr>\n",
       "  </thead>\n",
       "  <tbody>\n",
       "    <tr>\n",
       "      <th>Actual Negative</th>\n",
       "      <td>1963</td>\n",
       "      <td>974</td>\n",
       "    </tr>\n",
       "    <tr>\n",
       "      <th>Actual Positive</th>\n",
       "      <td>274</td>\n",
       "      <td>463</td>\n",
       "    </tr>\n",
       "  </tbody>\n",
       "</table>\n",
       "</div>"
      ],
      "text/plain": [
       "                 Predicted Negative  Predicted Positive\n",
       "Actual Negative                1963                 974\n",
       "Actual Positive                 274                 463"
      ]
     },
     "execution_count": 143,
     "metadata": {},
     "output_type": "execute_result"
    }
   ],
   "source": [
    "get_confusion_matrix(y_test, y_pred)"
   ]
  },
  {
   "cell_type": "code",
   "execution_count": 144,
   "id": "2a251d81",
   "metadata": {},
   "outputs": [
    {
     "name": "stdout",
     "output_type": "stream",
     "text": [
      "AUC is 0.38\n"
     ]
    }
   ],
   "source": [
    "lg_precision, lg_recall, lg_pr_auc = get_metrics(y_test, y_score)"
   ]
  },
  {
   "cell_type": "markdown",
   "id": "dd5209ad",
   "metadata": {},
   "source": [
    "### Random Forest"
   ]
  },
  {
   "cell_type": "code",
   "execution_count": 145,
   "id": "5907327f",
   "metadata": {},
   "outputs": [],
   "source": [
    "from sklearn.utils import class_weight\n",
    "\n",
    "class_weights = class_weight.compute_class_weight('balanced', classes=np.unique(y_train), y=y_train)\n",
    "class_weights = {0: class_weights[0], 1: class_weights[1]}"
   ]
  },
  {
   "cell_type": "code",
   "execution_count": null,
   "id": "c702083e",
   "metadata": {},
   "outputs": [],
   "source": [
    "#random forest \n",
    "param_grid = [\n",
    "    {'n_estimators': list(np.arange(50, 451, 100)),\n",
    "     'max_depth': [1, 10, 20]}\n",
    "]\n",
    "\n",
    "rf_classifier = RandomForestClassifier(class_weight=class_weights,\n",
    "                                       random_state = 123)\n",
    "\n",
    "grid_search = GridSearchCV(rf_classifier, param_grid, cv=5,\n",
    "                          scoring = 'average_precision',\n",
    "                          return_train_score = True)\n",
    "\n",
    "grid_search.fit(X_train_reduced, y_train)\n",
    "\n",
    "grid_search.best_estimator_"
   ]
  },
  {
   "cell_type": "code",
   "execution_count": null,
   "id": "e1c95f53",
   "metadata": {},
   "outputs": [],
   "source": [
    "best_params = grid_search.best_estimator_\n",
    "rf_classifier.fit(X_train_reduced, y_train)\n",
    "y_pred = rf_classifier.predict(X_test_reduced)\n",
    "y_score = rf_classifier.predict_proba(X_test_reduced)[:, 1]\n",
    "\n",
    "get_confusion_matrix(y_test, y_pred)"
   ]
  },
  {
   "cell_type": "code",
   "execution_count": 182,
   "id": "17af9d9a",
   "metadata": {},
   "outputs": [
    {
     "name": "stdout",
     "output_type": "stream",
     "text": [
      "AUC is 0.34\n"
     ]
    }
   ],
   "source": [
    "rf_precision, rf_recall, rf_pr_auc = get_metrics(y_test, y_score)"
   ]
  },
  {
   "cell_type": "markdown",
   "id": "16009573",
   "metadata": {},
   "source": [
    "### XGBoost"
   ]
  },
  {
   "cell_type": "code",
   "execution_count": 177,
   "id": "b91fb64a",
   "metadata": {},
   "outputs": [
    {
     "name": "stderr",
     "output_type": "stream",
     "text": [
      "/Users/kaimihuang/opt/anaconda3/lib/python3.9/site-packages/sklearn/metrics/_classification.py:2442: RuntimeWarning: divide by zero encountered in log\n",
      "  loss = -(transformed_labels * np.log(y_pred)).sum(axis=1)\n",
      "/Users/kaimihuang/opt/anaconda3/lib/python3.9/site-packages/sklearn/metrics/_classification.py:2442: RuntimeWarning: invalid value encountered in multiply\n",
      "  loss = -(transformed_labels * np.log(y_pred)).sum(axis=1)\n",
      "/Users/kaimihuang/opt/anaconda3/lib/python3.9/site-packages/sklearn/model_selection/_search.py:969: UserWarning: One or more of the train scores are non-finite: [-0.52667346 -0.52878181 -0.53081633 -0.52024651 -0.52174873 -0.52323371\n",
      " -0.51281021 -0.51358415 -0.51435431 -0.50453457 -0.50440347 -0.50426224\n",
      " -0.52985612 -0.52718554 -0.52460333 -0.5033521  -0.4988171  -0.49482155\n",
      " -0.46753956 -0.46052897 -0.4542004  -0.42689684 -0.41736978 -0.40817395\n",
      " -0.40441681 -0.39140385 -0.37847921 -0.2803115  -0.26034764 -0.2405801\n",
      " -0.14902341 -0.1271542          nan -0.06667761 -0.05402201 -0.04537224]\n",
      "  warnings.warn(\n"
     ]
    },
    {
     "data": {
      "text/plain": [
       "{'learning_rate': 0.01, 'max_depth': 6, 'n_estimators': 90}"
      ]
     },
     "execution_count": 177,
     "metadata": {},
     "output_type": "execute_result"
    }
   ],
   "source": [
    "param_grid = [\n",
    "    {'n_estimators': [90, 100, 110],\n",
    "     'max_depth': [3, 4, 5, 6],\n",
    "     'learning_rate': [0.01, 0.1, 1]}]\n",
    "\n",
    "xgb_classifier = xgb.XGBClassifier(objective='binary:logistic',\n",
    "                                    eval_metric='logloss',\n",
    "                                    scale_pos_weight=class_weights[0]/class_weights[1],\n",
    "                                    random_state = 123)\n",
    "\n",
    "grid_search = GridSearchCV(xgb_classifier, param_grid, cv=5,\n",
    "                          scoring = 'neg_log_loss',\n",
    "                          return_train_score = True)\n",
    "\n",
    "grid_search.fit(X_train_reduced, y_train)\n",
    "\n",
    "grid_search.best_params_"
   ]
  },
  {
   "cell_type": "code",
   "execution_count": 178,
   "id": "606d46a8",
   "metadata": {},
   "outputs": [
    {
     "data": {
      "text/html": [
       "<div>\n",
       "<style scoped>\n",
       "    .dataframe tbody tr th:only-of-type {\n",
       "        vertical-align: middle;\n",
       "    }\n",
       "\n",
       "    .dataframe tbody tr th {\n",
       "        vertical-align: top;\n",
       "    }\n",
       "\n",
       "    .dataframe thead th {\n",
       "        text-align: right;\n",
       "    }\n",
       "</style>\n",
       "<table border=\"1\" class=\"dataframe\">\n",
       "  <thead>\n",
       "    <tr style=\"text-align: right;\">\n",
       "      <th></th>\n",
       "      <th>Predicted Negative</th>\n",
       "      <th>Predicted Positive</th>\n",
       "    </tr>\n",
       "  </thead>\n",
       "  <tbody>\n",
       "    <tr>\n",
       "      <th>Actual Negative</th>\n",
       "      <td>2937</td>\n",
       "      <td>0</td>\n",
       "    </tr>\n",
       "    <tr>\n",
       "      <th>Actual Positive</th>\n",
       "      <td>736</td>\n",
       "      <td>1</td>\n",
       "    </tr>\n",
       "  </tbody>\n",
       "</table>\n",
       "</div>"
      ],
      "text/plain": [
       "                 Predicted Negative  Predicted Positive\n",
       "Actual Negative                2937                   0\n",
       "Actual Positive                 736                   1"
      ]
     },
     "execution_count": 178,
     "metadata": {},
     "output_type": "execute_result"
    }
   ],
   "source": [
    "xgb_classifier = grid_search.best_estimator_\n",
    "xgb_classifier.fit(X_train_reduced, y_train)\n",
    "y_pred = xgb_classifier.predict(X_test_reduced)\n",
    "y_score = xgb_classifier.predict_proba(X_test_reduced)[:, 1]\n",
    "\n",
    "get_confusion_matrix(y_test, y_pred)"
   ]
  },
  {
   "cell_type": "code",
   "execution_count": 179,
   "id": "e9478e2e",
   "metadata": {},
   "outputs": [
    {
     "name": "stdout",
     "output_type": "stream",
     "text": [
      "AUC is 0.36\n"
     ]
    }
   ],
   "source": [
    "xgb_precision, xgb_recall, xgb_pr_auc = get_metrics(y_test, y_score)"
   ]
  },
  {
   "cell_type": "markdown",
   "id": "a69a65d8",
   "metadata": {},
   "source": [
    "### Stochastic Gradient Descent"
   ]
  },
  {
   "cell_type": "code",
   "execution_count": 158,
   "id": "bac745cf",
   "metadata": {},
   "outputs": [
    {
     "name": "stderr",
     "output_type": "stream",
     "text": [
      "/Users/kaimihuang/opt/anaconda3/lib/python3.9/site-packages/sklearn/linear_model/_stochastic_gradient.py:696: ConvergenceWarning: Maximum number of iteration reached before convergence. Consider increasing max_iter to improve the fit.\n",
      "  warnings.warn(\n",
      "/Users/kaimihuang/opt/anaconda3/lib/python3.9/site-packages/sklearn/linear_model/_stochastic_gradient.py:696: ConvergenceWarning: Maximum number of iteration reached before convergence. Consider increasing max_iter to improve the fit.\n",
      "  warnings.warn(\n",
      "/Users/kaimihuang/opt/anaconda3/lib/python3.9/site-packages/sklearn/linear_model/_stochastic_gradient.py:696: ConvergenceWarning: Maximum number of iteration reached before convergence. Consider increasing max_iter to improve the fit.\n",
      "  warnings.warn(\n",
      "/Users/kaimihuang/opt/anaconda3/lib/python3.9/site-packages/sklearn/linear_model/_stochastic_gradient.py:696: ConvergenceWarning: Maximum number of iteration reached before convergence. Consider increasing max_iter to improve the fit.\n",
      "  warnings.warn(\n",
      "/Users/kaimihuang/opt/anaconda3/lib/python3.9/site-packages/sklearn/linear_model/_stochastic_gradient.py:696: ConvergenceWarning: Maximum number of iteration reached before convergence. Consider increasing max_iter to improve the fit.\n",
      "  warnings.warn(\n"
     ]
    },
    {
     "data": {
      "text/plain": [
       "{'max_iter': 150}"
      ]
     },
     "execution_count": 158,
     "metadata": {},
     "output_type": "execute_result"
    }
   ],
   "source": [
    "param_grid = [\n",
    "    {'max_iter': list(range(50, 551, 100))}\n",
    "]\n",
    "\n",
    "sgd_clf = SGDClassifier(loss='log', \n",
    "                        learning_rate='optimal',\n",
    "                        tol=1e-3,\n",
    "                        class_weight=class_weights,\n",
    "                        random_state = 123)\n",
    "\n",
    "grid_search = GridSearchCV(sgd_clf, param_grid, cv=5,\n",
    "                          scoring = 'recall',\n",
    "                          return_train_score = True)\n",
    "\n",
    "grid_search.fit(X_train_reduced, y_train)\n",
    "\n",
    "grid_search.best_estimator_"
   ]
  },
  {
   "cell_type": "code",
   "execution_count": 175,
   "id": "3dbd4680",
   "metadata": {},
   "outputs": [
    {
     "data": {
      "text/html": [
       "<div>\n",
       "<style scoped>\n",
       "    .dataframe tbody tr th:only-of-type {\n",
       "        vertical-align: middle;\n",
       "    }\n",
       "\n",
       "    .dataframe tbody tr th {\n",
       "        vertical-align: top;\n",
       "    }\n",
       "\n",
       "    .dataframe thead th {\n",
       "        text-align: right;\n",
       "    }\n",
       "</style>\n",
       "<table border=\"1\" class=\"dataframe\">\n",
       "  <thead>\n",
       "    <tr style=\"text-align: right;\">\n",
       "      <th></th>\n",
       "      <th>Predicted Negative</th>\n",
       "      <th>Predicted Positive</th>\n",
       "    </tr>\n",
       "  </thead>\n",
       "  <tbody>\n",
       "    <tr>\n",
       "      <th>Actual Negative</th>\n",
       "      <td>1762</td>\n",
       "      <td>1175</td>\n",
       "    </tr>\n",
       "    <tr>\n",
       "      <th>Actual Positive</th>\n",
       "      <td>265</td>\n",
       "      <td>472</td>\n",
       "    </tr>\n",
       "  </tbody>\n",
       "</table>\n",
       "</div>"
      ],
      "text/plain": [
       "                 Predicted Negative  Predicted Positive\n",
       "Actual Negative                1762                1175\n",
       "Actual Positive                 265                 472"
      ]
     },
     "execution_count": 175,
     "metadata": {},
     "output_type": "execute_result"
    }
   ],
   "source": [
    "sgd_clf = grid_search.best_estimator_\n",
    "sgd_clf.fit(X_train_reduced, y_train)\n",
    "y_pred = sgd_clf.predict(X_test_reduced)\n",
    "y_score = sgd_clf.predict_proba(X_test_reduced)[:, 1]\n",
    "\n",
    "get_confusion_matrix(y_test, y_pred)"
   ]
  },
  {
   "cell_type": "code",
   "execution_count": 176,
   "id": "875e8b09",
   "metadata": {},
   "outputs": [
    {
     "name": "stdout",
     "output_type": "stream",
     "text": [
      "AUC is 0.34\n"
     ]
    }
   ],
   "source": [
    "sgd_precision, sgd_recall, sgd_pr_auc = get_metrics(y_test, y_score)"
   ]
  },
  {
   "cell_type": "markdown",
   "id": "d6cd8ff1",
   "metadata": {},
   "source": [
    "### Mini-batch Gradient Descent"
   ]
  },
  {
   "cell_type": "code",
   "execution_count": 162,
   "id": "ce146690",
   "metadata": {},
   "outputs": [
    {
     "data": {
      "text/html": [
       "<div>\n",
       "<style scoped>\n",
       "    .dataframe tbody tr th:only-of-type {\n",
       "        vertical-align: middle;\n",
       "    }\n",
       "\n",
       "    .dataframe tbody tr th {\n",
       "        vertical-align: top;\n",
       "    }\n",
       "\n",
       "    .dataframe thead th {\n",
       "        text-align: right;\n",
       "    }\n",
       "</style>\n",
       "<table border=\"1\" class=\"dataframe\">\n",
       "  <thead>\n",
       "    <tr style=\"text-align: right;\">\n",
       "      <th></th>\n",
       "      <th>Predicted Negative</th>\n",
       "      <th>Predicted Positive</th>\n",
       "    </tr>\n",
       "  </thead>\n",
       "  <tbody>\n",
       "    <tr>\n",
       "      <th>Actual Negative</th>\n",
       "      <td>1762</td>\n",
       "      <td>1175</td>\n",
       "    </tr>\n",
       "    <tr>\n",
       "      <th>Actual Positive</th>\n",
       "      <td>265</td>\n",
       "      <td>472</td>\n",
       "    </tr>\n",
       "  </tbody>\n",
       "</table>\n",
       "</div>"
      ],
      "text/plain": [
       "                 Predicted Negative  Predicted Positive\n",
       "Actual Negative                1762                1175\n",
       "Actual Positive                 265                 472"
      ]
     },
     "execution_count": 162,
     "metadata": {},
     "output_type": "execute_result"
    }
   ],
   "source": [
    "from sklearn.base import clone\n",
    "\n",
    "batch_size = 150\n",
    "sample_size = len(X_train_reduced)\n",
    "\n",
    "#set aside a validation batch for mini-batch SGD\n",
    "sss_2 = StratifiedShuffleSplit(n_splits=1, test_size=batch_size, train_size=sample_size-batch_size, random_state=123)\n",
    "train_ind, val_ind = next(sss_2.split(X_train_reduced, y_train))\n",
    "\n",
    "X_train_2, y_train_2 = X_train_reduced[list(train_ind)], y_train.iloc[train_ind]\n",
    "X_mini_val, y_mini_val = X_train_reduced[list(val_ind)], y_train.iloc[val_ind]\n",
    "\n",
    "y_train_2 = y_train_2.to_numpy().reshape(-1,1)\n",
    "\n",
    "combined_training_data = np.concatenate((X_train_2, y_train_2), axis = 1)\n",
    "\n",
    "minimum_val_error = float(\"inf\") \n",
    "best_model = None\n",
    "\n",
    "for i in range(100):\n",
    "    \n",
    "    np.random.shuffle(combined_training_data)\n",
    "    \n",
    "    X_mini_train = combined_training_data[0:batch_size, :-1]\n",
    "    y_mini_train = combined_training_data[0:batch_size, -1]\n",
    "                                          \n",
    "    sgd_clf.partial_fit(X_mini_train, y_mini_train, classes=np.unique(y_train_2))\n",
    "    y_val_proba = sgd_clf.predict_proba(X_mini_val)\n",
    "    val_error = log_loss(y_mini_val, y_val_proba)\n",
    "    \n",
    "    if val_error < minimum_val_error:\n",
    "        minimum_val_error = val_error\n",
    "        best_model = clone(sgd_clf)f\n",
    "\n",
    "best_model.fit(X_train_reduced, y_train)\n",
    "y_pred = best_model.predict(X_test_reduced)\n",
    "y_score = best_model.predict_proba(X_test_reduced)[:, 1]\n",
    "threshold = 0.3 \n",
    "\n",
    "get_confusion_matrix(y_test, y_pred)"
   ]
  },
  {
   "cell_type": "code",
   "execution_count": 163,
   "id": "a680f71a",
   "metadata": {},
   "outputs": [
    {
     "name": "stdout",
     "output_type": "stream",
     "text": [
      "AUC is 0.34\n"
     ]
    }
   ],
   "source": [
    "mbgd_precision, mbgd_recall, mbgd_pr_auc = get_metrics(y_test, y_score)"
   ]
  },
  {
   "cell_type": "markdown",
   "id": "113c16c2",
   "metadata": {},
   "source": [
    "### Stacking/Stacked Generalization"
   ]
  },
  {
   "cell_type": "code",
   "execution_count": 164,
   "id": "65503c5b",
   "metadata": {},
   "outputs": [
    {
     "data": {
      "text/html": [
       "<div>\n",
       "<style scoped>\n",
       "    .dataframe tbody tr th:only-of-type {\n",
       "        vertical-align: middle;\n",
       "    }\n",
       "\n",
       "    .dataframe tbody tr th {\n",
       "        vertical-align: top;\n",
       "    }\n",
       "\n",
       "    .dataframe thead th {\n",
       "        text-align: right;\n",
       "    }\n",
       "</style>\n",
       "<table border=\"1\" class=\"dataframe\">\n",
       "  <thead>\n",
       "    <tr style=\"text-align: right;\">\n",
       "      <th></th>\n",
       "      <th>Predicted Negative</th>\n",
       "      <th>Predicted Positive</th>\n",
       "    </tr>\n",
       "  </thead>\n",
       "  <tbody>\n",
       "    <tr>\n",
       "      <th>Actual Negative</th>\n",
       "      <td>2905</td>\n",
       "      <td>32</td>\n",
       "    </tr>\n",
       "    <tr>\n",
       "      <th>Actual Positive</th>\n",
       "      <td>698</td>\n",
       "      <td>39</td>\n",
       "    </tr>\n",
       "  </tbody>\n",
       "</table>\n",
       "</div>"
      ],
      "text/plain": [
       "                 Predicted Negative  Predicted Positive\n",
       "Actual Negative                2905                  32\n",
       "Actual Positive                 698                  39"
      ]
     },
     "execution_count": 164,
     "metadata": {},
     "output_type": "execute_result"
    }
   ],
   "source": [
    "base_learners = [\n",
    "    ('rf', rf_classifier),\n",
    "    ('sgd', sgd_clf),\n",
    "    ('xgb', xgb_classifier),\n",
    "]\n",
    "\n",
    "meta_learner = LogisticRegression()\n",
    "\n",
    "stacking_model = StackingClassifier(estimators=base_learners, final_estimator=meta_learner)\n",
    "\n",
    "stacking_model.fit(X_train_reduced, y_train)\n",
    "\n",
    "y_pred = stacking_model.predict(X_test_reduced)\n",
    "\n",
    "y_score = stacking_model.predict_proba(X_test_reduced)[:, 1]\n",
    "\n",
    "get_confusion_matrix(y_test, y_pred)"
   ]
  },
  {
   "cell_type": "code",
   "execution_count": 165,
   "id": "a1dceea3",
   "metadata": {},
   "outputs": [
    {
     "name": "stdout",
     "output_type": "stream",
     "text": [
      "AUC is 0.36\n"
     ]
    }
   ],
   "source": [
    "stack_precision, stack_recall, stack_pr_auc = get_metrics(y_test, y_score)"
   ]
  },
  {
   "cell_type": "code",
   "execution_count": 168,
   "id": "7de1e151",
   "metadata": {},
   "outputs": [
    {
     "data": {
      "image/png": "[encoded data removed]",
      "text/plain": [
       "<Figure size 800x600 with 1 Axes>"
      ]
     },
     "metadata": {},
     "output_type": "display_data"
    }
   ],
   "source": [
    "plt.figure(figsize=(8, 6))\n",
    "plt.plot(lg_recall, lg_precision, color='c', lw=2, label=f'LG PR Curve (AUC = {lg_pr_auc:.2f})')\n",
    "plt.plot(xgb_recall, xgb_precision, color='r', lw=2, label=f'XGB PR Curve (AUC = {xgb_pr_auc:.2f})')\n",
    "plt.plot(stack_recall, stack_precision, color='b', lw=2, label=f'Stacking PR Curve (AUC = {stack_pr_auc:.2f})')\n",
    "plt.plot(rf_recall, rf_precision, color='g', lw=2, label=f'Random Forest PR Curve (AUC = {rf_pr_auc:.2f})')\n",
    "plt.plot(mbgd_recall, mbgd_precision, color='y', lw=2, label=f'MBGD PR Curve (AUC = {mbgd_pr_auc:.2f})')\n",
    "#plt.plot(poly_kernel_svm_recall, poly_kernel_svm_precision, color='m', lw=2, label=f'Poly Kernel SVC PR Curve (AUC = {poly_kernel_svm_pr_auc:.2f})')\n",
    "plt.xlabel('Recall')\n",
    "plt.ylabel('Precision')\n",
    "plt.title('Classifier Precision-Recall Curves')\n",
    "plt.legend(loc='upper right')\n",
    "plt.grid(True)\n",
    "plt.show()"
   ]
  },
  {
   "cell_type": "code",
   "execution_count": null,
   "id": "c0757293",
   "metadata": {},
   "outputs": [],
   "source": []
  }
 ],
 "metadata": {
  "kernelspec": {
   "display_name": "Python 3 (ipykernel)",
   "language": "python",
   "name": "python3"
  },
  "language_info": {
   "codemirror_mode": {
    "name": "ipython",
    "version": 3
   },
   "file_extension": ".py",
   "mimetype": "text/x-python",
   "name": "python",
   "nbconvert_exporter": "python",
   "pygments_lexer": "ipython3",
   "version": "3.9.13"
  }
 },
 "nbformat": 4,
 "nbformat_minor": 5
}
