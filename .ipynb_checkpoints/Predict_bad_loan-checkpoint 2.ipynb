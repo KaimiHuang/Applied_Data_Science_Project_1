{
 "cells": [
  {
   "cell_type": "code",
   "execution_count": 1,
   "id": "8bf86bf1",
   "metadata": {},
   "outputs": [],
   "source": [
    "import pandas as pd\n",
    "import numpy as np\n",
    "import matplotlib.pyplot as plt\n",
    "import seaborn as sns\n",
    "from scipy.stats import chi2_contingency"
   ]
  },
  {
   "cell_type": "code",
   "execution_count": 2,
   "id": "db771dac",
   "metadata": {},
   "outputs": [
    {
     "data": {
      "text/plain": [
       "['./Predict_bad_loan.ipynb',\n",
       " './GR5243_Project_1-main.zip',\n",
       " './Loan_Dataset.csv',\n",
       " './variable_descriptions']"
      ]
     },
     "execution_count": 2,
     "metadata": {},
     "output_type": "execute_result"
    }
   ],
   "source": [
    "from glob import glob \n",
    "glob('./*')"
   ]
  },
  {
   "cell_type": "code",
   "execution_count": 3,
   "id": "ac0de260",
   "metadata": {},
   "outputs": [],
   "source": [
    "df = pd.read_csv('Loan_Dataset.csv')"
   ]
  },
  {
   "cell_type": "code",
   "execution_count": 4,
   "id": "76c08542",
   "metadata": {},
   "outputs": [
    {
     "data": {
      "text/html": [
       "<div>\n",
       "<style scoped>\n",
       "    .dataframe tbody tr th:only-of-type {\n",
       "        vertical-align: middle;\n",
       "    }\n",
       "\n",
       "    .dataframe tbody tr th {\n",
       "        vertical-align: top;\n",
       "    }\n",
       "\n",
       "    .dataframe thead th {\n",
       "        text-align: right;\n",
       "    }\n",
       "</style>\n",
       "<table border=\"1\" class=\"dataframe\">\n",
       "  <thead>\n",
       "    <tr style=\"text-align: right;\">\n",
       "      <th></th>\n",
       "      <th>id</th>\n",
       "      <th>grade</th>\n",
       "      <th>annual_income</th>\n",
       "      <th>short_employee</th>\n",
       "      <th>emp_length_num</th>\n",
       "      <th>home_ownership</th>\n",
       "      <th>Debt-To-Income Ratio</th>\n",
       "      <th>purpose</th>\n",
       "      <th>term</th>\n",
       "      <th>last_delinq_none</th>\n",
       "      <th>last_major_derog_none</th>\n",
       "      <th>revol_util</th>\n",
       "      <th>total_rec_late_fee</th>\n",
       "      <th>od_ratio</th>\n",
       "      <th>bad_loan</th>\n",
       "    </tr>\n",
       "  </thead>\n",
       "  <tbody>\n",
       "    <tr>\n",
       "      <th>0</th>\n",
       "      <td>11454641</td>\n",
       "      <td>A</td>\n",
       "      <td>100000</td>\n",
       "      <td>1</td>\n",
       "      <td>1</td>\n",
       "      <td>RENT</td>\n",
       "      <td>26.27</td>\n",
       "      <td>credit_card</td>\n",
       "      <td>36 months</td>\n",
       "      <td>1</td>\n",
       "      <td>NaN</td>\n",
       "      <td>43.2</td>\n",
       "      <td>0.0</td>\n",
       "      <td>0.160624</td>\n",
       "      <td>0</td>\n",
       "    </tr>\n",
       "    <tr>\n",
       "      <th>1</th>\n",
       "      <td>9604874</td>\n",
       "      <td>A</td>\n",
       "      <td>83000</td>\n",
       "      <td>0</td>\n",
       "      <td>4</td>\n",
       "      <td>OWN</td>\n",
       "      <td>5.39</td>\n",
       "      <td>credit_card</td>\n",
       "      <td>36 months</td>\n",
       "      <td>0</td>\n",
       "      <td>NaN</td>\n",
       "      <td>21.5</td>\n",
       "      <td>0.0</td>\n",
       "      <td>0.810777</td>\n",
       "      <td>0</td>\n",
       "    </tr>\n",
       "    <tr>\n",
       "      <th>2</th>\n",
       "      <td>9684700</td>\n",
       "      <td>D</td>\n",
       "      <td>78000</td>\n",
       "      <td>0</td>\n",
       "      <td>11</td>\n",
       "      <td>MORTGAGE</td>\n",
       "      <td>18.45</td>\n",
       "      <td>debt_consolidation</td>\n",
       "      <td>60 months</td>\n",
       "      <td>1</td>\n",
       "      <td>NaN</td>\n",
       "      <td>46.3</td>\n",
       "      <td>0.0</td>\n",
       "      <td>0.035147</td>\n",
       "      <td>1</td>\n",
       "    </tr>\n",
       "    <tr>\n",
       "      <th>3</th>\n",
       "      <td>9695736</td>\n",
       "      <td>D</td>\n",
       "      <td>37536</td>\n",
       "      <td>0</td>\n",
       "      <td>6</td>\n",
       "      <td>MORTGAGE</td>\n",
       "      <td>12.28</td>\n",
       "      <td>medical</td>\n",
       "      <td>60 months</td>\n",
       "      <td>0</td>\n",
       "      <td>NaN</td>\n",
       "      <td>10.7</td>\n",
       "      <td>0.0</td>\n",
       "      <td>0.534887</td>\n",
       "      <td>1</td>\n",
       "    </tr>\n",
       "    <tr>\n",
       "      <th>4</th>\n",
       "      <td>9795013</td>\n",
       "      <td>D</td>\n",
       "      <td>65000</td>\n",
       "      <td>0</td>\n",
       "      <td>11</td>\n",
       "      <td>MORTGAGE</td>\n",
       "      <td>11.26</td>\n",
       "      <td>debt_consolidation</td>\n",
       "      <td>36 months</td>\n",
       "      <td>0</td>\n",
       "      <td>NaN</td>\n",
       "      <td>15.2</td>\n",
       "      <td>0.0</td>\n",
       "      <td>0.166500</td>\n",
       "      <td>0</td>\n",
       "    </tr>\n",
       "  </tbody>\n",
       "</table>\n",
       "</div>"
      ],
      "text/plain": [
       "         id grade  annual_income  short_employee  emp_length_num  \\\n",
       "0  11454641     A         100000               1               1   \n",
       "1   9604874     A          83000               0               4   \n",
       "2   9684700     D          78000               0              11   \n",
       "3   9695736     D          37536               0               6   \n",
       "4   9795013     D          65000               0              11   \n",
       "\n",
       "  home_ownership  Debt-To-Income Ratio             purpose        term  \\\n",
       "0           RENT                 26.27         credit_card   36 months   \n",
       "1            OWN                  5.39         credit_card   36 months   \n",
       "2       MORTGAGE                 18.45  debt_consolidation   60 months   \n",
       "3       MORTGAGE                 12.28             medical   60 months   \n",
       "4       MORTGAGE                 11.26  debt_consolidation   36 months   \n",
       "\n",
       "   last_delinq_none  last_major_derog_none  revol_util  total_rec_late_fee  \\\n",
       "0                 1                    NaN        43.2                 0.0   \n",
       "1                 0                    NaN        21.5                 0.0   \n",
       "2                 1                    NaN        46.3                 0.0   \n",
       "3                 0                    NaN        10.7                 0.0   \n",
       "4                 0                    NaN        15.2                 0.0   \n",
       "\n",
       "   od_ratio  bad_loan  \n",
       "0  0.160624         0  \n",
       "1  0.810777         0  \n",
       "2  0.035147         1  \n",
       "3  0.534887         1  \n",
       "4  0.166500         0  "
      ]
     },
     "execution_count": 4,
     "metadata": {},
     "output_type": "execute_result"
    }
   ],
   "source": [
    "df.head()"
   ]
  },
  {
   "cell_type": "code",
   "execution_count": 5,
   "id": "ec955617",
   "metadata": {},
   "outputs": [
    {
     "name": "stdout",
     "output_type": "stream",
     "text": [
      "<class 'pandas.core.frame.DataFrame'>\n",
      "RangeIndex: 20000 entries, 0 to 19999\n",
      "Data columns (total 15 columns):\n",
      " #   Column                 Non-Null Count  Dtype  \n",
      "---  ------                 --------------  -----  \n",
      " 0   id                     20000 non-null  int64  \n",
      " 1   grade                  20000 non-null  object \n",
      " 2   annual_income          20000 non-null  int64  \n",
      " 3   short_employee         20000 non-null  int64  \n",
      " 4   emp_length_num         20000 non-null  int64  \n",
      " 5   home_ownership         18509 non-null  object \n",
      " 6   Debt-To-Income Ratio   19846 non-null  float64\n",
      " 7   purpose                20000 non-null  object \n",
      " 8   term                   20000 non-null  object \n",
      " 9   last_delinq_none       20000 non-null  int64  \n",
      " 10  last_major_derog_none  574 non-null    float64\n",
      " 11  revol_util             20000 non-null  float64\n",
      " 12  total_rec_late_fee     20000 non-null  float64\n",
      " 13  od_ratio               20000 non-null  float64\n",
      " 14  bad_loan               20000 non-null  int64  \n",
      "dtypes: float64(5), int64(6), object(4)\n",
      "memory usage: 2.3+ MB\n"
     ]
    }
   ],
   "source": [
    "df.info()"
   ]
  },
  {
   "cell_type": "code",
   "execution_count": 6,
   "id": "74102805",
   "metadata": {},
   "outputs": [
    {
     "data": {
      "text/plain": [
       "1.0    436\n",
       "0.0    138\n",
       "Name: last_major_derog_none, dtype: int64"
      ]
     },
     "execution_count": 6,
     "metadata": {},
     "output_type": "execute_result"
    }
   ],
   "source": [
    "#last_major_derog_none - 1 when the loaner has a bad rating for at least 90 days.\n",
    "df.last_major_derog_none.value_counts()"
   ]
  },
  {
   "cell_type": "code",
   "execution_count": 7,
   "id": "b29b98b3",
   "metadata": {},
   "outputs": [
    {
     "data": {
      "text/plain": [
       "(20000, 14)"
      ]
     },
     "execution_count": 7,
     "metadata": {},
     "output_type": "execute_result"
    }
   ],
   "source": [
    "#decide how to deal with missing values\n",
    "\n",
    "#since the majority of the values in last_major_derog_none are missing, dropping the whole column\n",
    "df.drop(columns= ['last_major_derog_none'], inplace=True)\n",
    "df.shape"
   ]
  },
  {
   "cell_type": "code",
   "execution_count": 8,
   "id": "db7e7798",
   "metadata": {},
   "outputs": [],
   "source": [
    "df.fillna('NA',inplace=True)"
   ]
  },
  {
   "cell_type": "code",
   "execution_count": 9,
   "id": "baa485c5",
   "metadata": {},
   "outputs": [
    {
     "data": {
      "text/plain": [
       "MORTGAGE    9844\n",
       "RENT        7052\n",
       "OWN         1613\n",
       "NA          1491\n",
       "Name: home_ownership, dtype: int64"
      ]
     },
     "execution_count": 9,
     "metadata": {},
     "output_type": "execute_result"
    }
   ],
   "source": [
    "df.home_ownership.value_counts()"
   ]
  },
  {
   "cell_type": "code",
   "execution_count": 10,
   "id": "8090b4dc",
   "metadata": {},
   "outputs": [
    {
     "data": {
      "text/html": [
       "<div>\n",
       "<style scoped>\n",
       "    .dataframe tbody tr th:only-of-type {\n",
       "        vertical-align: middle;\n",
       "    }\n",
       "\n",
       "    .dataframe tbody tr th {\n",
       "        vertical-align: top;\n",
       "    }\n",
       "\n",
       "    .dataframe thead th {\n",
       "        text-align: right;\n",
       "    }\n",
       "</style>\n",
       "<table border=\"1\" class=\"dataframe\">\n",
       "  <thead>\n",
       "    <tr style=\"text-align: right;\">\n",
       "      <th>home_ownership</th>\n",
       "      <th>MORTGAGE</th>\n",
       "      <th>NA</th>\n",
       "      <th>OWN</th>\n",
       "      <th>RENT</th>\n",
       "      <th>Total</th>\n",
       "    </tr>\n",
       "    <tr>\n",
       "      <th>bad_loan</th>\n",
       "      <th></th>\n",
       "      <th></th>\n",
       "      <th></th>\n",
       "      <th></th>\n",
       "      <th></th>\n",
       "    </tr>\n",
       "  </thead>\n",
       "  <tbody>\n",
       "    <tr>\n",
       "      <th>0</th>\n",
       "      <td>8136</td>\n",
       "      <td>1199</td>\n",
       "      <td>1297</td>\n",
       "      <td>5368</td>\n",
       "      <td>16000</td>\n",
       "    </tr>\n",
       "    <tr>\n",
       "      <th>1</th>\n",
       "      <td>1708</td>\n",
       "      <td>292</td>\n",
       "      <td>316</td>\n",
       "      <td>1684</td>\n",
       "      <td>4000</td>\n",
       "    </tr>\n",
       "    <tr>\n",
       "      <th>Total</th>\n",
       "      <td>9844</td>\n",
       "      <td>1491</td>\n",
       "      <td>1613</td>\n",
       "      <td>7052</td>\n",
       "      <td>20000</td>\n",
       "    </tr>\n",
       "  </tbody>\n",
       "</table>\n",
       "</div>"
      ],
      "text/plain": [
       "home_ownership  MORTGAGE    NA   OWN  RENT  Total\n",
       "bad_loan                                         \n",
       "0                   8136  1199  1297  5368  16000\n",
       "1                   1708   292   316  1684   4000\n",
       "Total               9844  1491  1613  7052  20000"
      ]
     },
     "execution_count": 10,
     "metadata": {},
     "output_type": "execute_result"
    }
   ],
   "source": [
    "#is missing values in home_ownership related to the target, bad_loan?\n",
    "#if yes, then we should not just drop all the rows with missing home_ownership values\n",
    "#if no, then we can drop those rows\n",
    "#use chi-square test to test\n",
    "\n",
    "#table = df.groupby(['bad_loan','home_ownership']).id.agg(['count'])\n",
    "table = pd.crosstab(df.bad_loan, df.home_ownership,margins=True, margins_name='Total')\n",
    "table"
   ]
  },
  {
   "cell_type": "code",
   "execution_count": 11,
   "id": "80f87e8d",
   "metadata": {},
   "outputs": [
    {
     "data": {
      "text/plain": [
       "([1199, 292], [16000, 4000])"
      ]
     },
     "execution_count": 11,
     "metadata": {},
     "output_type": "execute_result"
    }
   ],
   "source": [
    "table_2 = list(table.loc[[0,1],'NA']), list(table.loc[[0,1],'Total'])\n",
    "table_2"
   ]
  },
  {
   "cell_type": "code",
   "execution_count": 12,
   "id": "85c55138",
   "metadata": {},
   "outputs": [
    {
     "name": "stdout",
     "output_type": "stream",
     "text": [
      "Chi-square statistic: 0.125226721135046\n"
     ]
    },
    {
     "ename": "NameError",
     "evalue": "name 'p_val' is not defined",
     "output_type": "error",
     "traceback": [
      "\u001b[0;31m---------------------------------------------------------------------------\u001b[0m",
      "\u001b[0;31mNameError\u001b[0m                                 Traceback (most recent call last)",
      "\u001b[0;32m/var/folders/6t/qq3z1qdx60s0sj_h80x_2wz40000gn/T/ipykernel_74773/3480206648.py\u001b[0m in \u001b[0;36m<module>\u001b[0;34m\u001b[0m\n\u001b[1;32m      1\u001b[0m \u001b[0mchi2_stat\u001b[0m\u001b[0;34m,\u001b[0m \u001b[0mp_value\u001b[0m\u001b[0;34m,\u001b[0m \u001b[0mdof\u001b[0m\u001b[0;34m,\u001b[0m \u001b[0mexpected_values\u001b[0m \u001b[0;34m=\u001b[0m \u001b[0mchi2_contingency\u001b[0m\u001b[0;34m(\u001b[0m\u001b[0mtable_2\u001b[0m\u001b[0;34m)\u001b[0m\u001b[0;34m\u001b[0m\u001b[0;34m\u001b[0m\u001b[0m\n\u001b[1;32m      2\u001b[0m \u001b[0mprint\u001b[0m\u001b[0;34m(\u001b[0m\u001b[0;34m\"Chi-square statistic:\"\u001b[0m\u001b[0;34m,\u001b[0m \u001b[0mchi2_stat\u001b[0m\u001b[0;34m)\u001b[0m\u001b[0;34m\u001b[0m\u001b[0;34m\u001b[0m\u001b[0m\n\u001b[0;32m----> 3\u001b[0;31m \u001b[0mprint\u001b[0m\u001b[0;34m(\u001b[0m\u001b[0;34m\"P-value:\"\u001b[0m\u001b[0;34m,\u001b[0m \u001b[0mp_val\u001b[0m\u001b[0;34m)\u001b[0m\u001b[0;34m\u001b[0m\u001b[0;34m\u001b[0m\u001b[0m\n\u001b[0m\u001b[1;32m      4\u001b[0m \u001b[0mprint\u001b[0m\u001b[0;34m(\u001b[0m\u001b[0;34m\"Degrees of freedom:\"\u001b[0m\u001b[0;34m,\u001b[0m \u001b[0mdof\u001b[0m\u001b[0;34m)\u001b[0m\u001b[0;34m\u001b[0m\u001b[0;34m\u001b[0m\u001b[0m\n\u001b[1;32m      5\u001b[0m \u001b[0mprint\u001b[0m\u001b[0;34m(\u001b[0m\u001b[0;34m\"Expected values table:\"\u001b[0m\u001b[0;34m)\u001b[0m\u001b[0;34m\u001b[0m\u001b[0;34m\u001b[0m\u001b[0m\n",
      "\u001b[0;31mNameError\u001b[0m: name 'p_val' is not defined"
     ]
    }
   ],
   "source": [
    "chi2_stat, p_value, dof, expected_values = chi2_contingency(table_2)\n",
    "print(\"Chi-square statistic:\", chi2_stat)\n",
    "print(\"P-value:\", p_val)\n",
    "print(\"Degrees of freedom:\", dof)\n",
    "print(\"Expected values table:\")\n",
    "print(expected_values)\n",
    "\n",
    "if p_value < 0.05:\n",
    "  print(f'Chi-square Statistic is {chi2_stat}. P-value is {p_value}. Reject the null hypothesis. The number of missing values in home_ownership and bad_loan are dependent. Observations with missing home_ownership values may not be dropped.')\n",
    "else:\n",
    "  print(f'Chi-square Statistic is {chi2_stat}. P-value is {p_value}. Fail to reject the null hypothesis. The number of missing values in home_ownership and bad_loan are independent. Observations with missing home_ownership values may be dropped. Remaining observations will still represent the population.')"
   ]
  },
  {
   "cell_type": "code",
   "execution_count": null,
   "id": "c8873e04",
   "metadata": {},
   "outputs": [],
   "source": [
    "row_num_be4 = df.shape[0]\n",
    "row_num_to_drop = df.home_ownership.value_counts()['NA']\n",
    "\n",
    "df = df[df.home_ownership!='NA']\n",
    "row_num_aft = df.shape[0]\n",
    "\n",
    "assert row_num_aft == row_num_be4 - row_num_to_drop"
   ]
  },
  {
   "cell_type": "code",
   "execution_count": null,
   "id": "f0e7dff7",
   "metadata": {},
   "outputs": [],
   "source": [
    "#is missing values in Debt-To-Income Ratio related to the target, bad_loan?\n",
    "#if yes, then we should not just drop all the rows with missing home_ownership values\n",
    "#if no, then we can drop those rows\n",
    "#use chi-square test to test\n",
    "\n",
    "dti_ratio = df['Debt-To-Income Ratio'].apply(lambda x: 'non-NA' if x != 'NA' else 'NA')\n",
    "table_3 = pd.crosstab(df.bad_loan, dti_ratio, margins=True, margins_name='Total')\n",
    "table_3"
   ]
  },
  {
   "cell_type": "code",
   "execution_count": null,
   "id": "25141ea0",
   "metadata": {},
   "outputs": [],
   "source": [
    "chi2_stat, p_value, dof, expected_values = chi2_contingency(table_3)\n",
    "print(\"Chi-square statistic:\", chi2_stat)\n",
    "print(\"P-value:\", p_val)\n",
    "print(\"Degrees of freedom:\", dof)\n",
    "print(\"Expected values table:\")\n",
    "print(expected_values)\n",
    "\n",
    "if p_value < 0.05:\n",
    "  print(f'Chi-square Statistic is {chi2_stat}. P-value is {p_value}. Reject the null hypothesis. The number of missing values in debt-to-income_ratio and bad_loan are dependent. Observations with missing debt-to-income_ratio values may not be dropped.')\n",
    "else:\n",
    "  print(f'Chi-square Statistic is {chi2_stat}. P-value is {p_value}. Fail to reject the null hypothesis. The number of missing values in debt-to-income_ratio and bad_loan are independent. Observations with missing debt-to-income_ratio values may be dropped. Remaining observations will still represent the population.')"
   ]
  },
  {
   "cell_type": "code",
   "execution_count": null,
   "id": "4f1098e0",
   "metadata": {},
   "outputs": [],
   "source": [
    "row_num_be4 = df.shape[0]\n",
    "row_num_to_drop = df['Debt-To-Income Ratio'].value_counts()['NA']\n",
    "\n",
    "df = df[df['Debt-To-Income Ratio']!='NA']\n",
    "row_num_aft = df.shape[0]\n",
    "\n",
    "assert row_num_aft == row_num_be4 - row_num_to_drop"
   ]
  },
  {
   "cell_type": "code",
   "execution_count": null,
   "id": "32a7f213",
   "metadata": {},
   "outputs": [],
   "source": [
    "#change Debt-To-Income Ratio to float\n",
    "df['Debt-To-Income Ratio'] = df['Debt-To-Income Ratio'].astype(float)\n",
    "df.info()"
   ]
  },
  {
   "cell_type": "code",
   "execution_count": null,
   "id": "3193e924",
   "metadata": {},
   "outputs": [],
   "source": [
    "#after dropping all the rows with missing info, there is no more missing value\n",
    "(df=='NA').sum(axis=0).sum()"
   ]
  },
  {
   "cell_type": "code",
   "execution_count": null,
   "id": "72b7a03b",
   "metadata": {},
   "outputs": [],
   "source": [
    "df.describe()"
   ]
  },
  {
   "cell_type": "code",
   "execution_count": null,
   "id": "d5032093",
   "metadata": {},
   "outputs": [],
   "source": [
    "'''\n",
    "From the variable_description file:\n",
    "Short _ emp - 1 when the borrower has been employed for 1 year or less.\n",
    "Emp _ length _ num - Number of years worked (in years). It ranges from 0 to 10, \n",
    "where 0 means less than a year and 10 means a decade or more.\n",
    "'''\n",
    "\n",
    "#mmm, i see max is 11 in emp_length_num. not a big deal??"
   ]
  },
  {
   "cell_type": "code",
   "execution_count": null,
   "id": "b18886b9",
   "metadata": {},
   "outputs": [],
   "source": [
    "#double check to make sure obs with value 1 in short_employee have emp_length_num <=1\n",
    "\n",
    "assert (df[df.short_employee==1]['emp_length_num']<=1).mean() ==1"
   ]
  },
  {
   "cell_type": "code",
   "execution_count": null,
   "id": "b17d1e6e",
   "metadata": {},
   "outputs": [],
   "source": [
    "#outliers in revol_util and total_rec_late_fee?\n",
    "sns.jointplot(x='revol_util',y='total_rec_late_fee',data=df);\n",
    "plt.show()"
   ]
  },
  {
   "cell_type": "code",
   "execution_count": null,
   "id": "a6ab57cc",
   "metadata": {},
   "outputs": [],
   "source": [
    "df.revol_util.nlargest(10)"
   ]
  },
  {
   "cell_type": "code",
   "execution_count": null,
   "id": "7f8eecb4",
   "metadata": {},
   "outputs": [],
   "source": [
    "df = df[df.revol_util!=5010.0]\n",
    "df.shape"
   ]
  },
  {
   "cell_type": "code",
   "execution_count": null,
   "id": "1752ab72",
   "metadata": {},
   "outputs": [],
   "source": [
    "#outliers in revol_util and total_rec_late_fee?\n",
    "sns.jointplot(x='revol_util',y='total_rec_late_fee',data=df);"
   ]
  },
  {
   "cell_type": "code",
   "execution_count": null,
   "id": "89d27691",
   "metadata": {},
   "outputs": [],
   "source": [
    "df.head()"
   ]
  },
  {
   "cell_type": "code",
   "execution_count": null,
   "id": "ad8d36f0",
   "metadata": {},
   "outputs": [],
   "source": [
    "counts = df.grade.value_counts()\n",
    "perc = counts/len(df.grade)\n",
    "counts, perc"
   ]
  },
  {
   "cell_type": "code",
   "execution_count": null,
   "id": "1a459752",
   "metadata": {},
   "outputs": [],
   "source": [
    "plt.pie(perc, labels=list(counts.index), autopct='%1.1f%%', startangle=140)\n",
    "plt.title('Loan Grade Pie Chart')\n",
    "plt.axis('equal')\n",
    "plt.show()"
   ]
  },
  {
   "cell_type": "code",
   "execution_count": null,
   "id": "a2c73de5",
   "metadata": {},
   "outputs": [],
   "source": [
    "sns.countplot(x=df.grade, hue=df.term, color='pink')"
   ]
  },
  {
   "cell_type": "code",
   "execution_count": null,
   "id": "02ffade2",
   "metadata": {},
   "outputs": [],
   "source": [
    "df.term.value_counts()"
   ]
  },
  {
   "cell_type": "code",
   "execution_count": null,
   "id": "53964ee9",
   "metadata": {},
   "outputs": [],
   "source": [
    "df.term = df.term.apply(lambda x: ' 36 months' if x == ' 36 Months' else x)\n",
    "df.term.value_counts()"
   ]
  },
  {
   "cell_type": "code",
   "execution_count": null,
   "id": "3cacfd6e",
   "metadata": {},
   "outputs": [],
   "source": [
    "fig,ax = plt.subplots(5,1,figsize=(7,30))\n",
    "\n",
    "# sns.barplot(x='grade',\n",
    "#             y='annual_income',\n",
    "#             data=df,\n",
    "#             hue = 'bad_loan',\n",
    "#             estimator=np.mean,\n",
    "#             ci=95,\n",
    "#             ax=ax[0]);\n",
    "# ax[0].set_ylabel('mean annual_income');\n",
    "\n",
    "sns.countplot(x=df.purpose, hue=df.bad_loan, ax=ax[0]);\n",
    "ax[0].set_xticklabels(ax[0].get_xticklabels(), rotation=45)\n",
    "ax[0].set_title('Loan Purpose Distribution');\n",
    "\n",
    "\n",
    "sns.countplot(x=df.grade, hue=df.bad_loan, ax=ax[1]);\n",
    "ax[1].set_title('Loan Grade Distribution');\n",
    "\n",
    "\n",
    "sns.countplot(x=df.home_ownership, hue=df.bad_loan, ax=ax[2]);\n",
    "ax[2].set_title('Home Ownership Distribution');\n",
    "\n",
    "sns.countplot(x=df.term, hue=df.bad_loan, ax=ax[3]);\n",
    "ax[3].set_title('Loan Term Distribution');\n",
    "\n",
    "sns.countplot(x=df.last_delinq_none, hue=df.bad_loan, ax=ax[4]);\n",
    "ax[4].set_title('Default Histroy');\n"
   ]
  },
  {
   "cell_type": "code",
   "execution_count": null,
   "id": "7f4f2259",
   "metadata": {},
   "outputs": [],
   "source": [
    "fig,ax = plt.subplots(5,1,figsize=(7,20))\n",
    "\n",
    "sns.scatterplot(x='emp_length_num',\n",
    "                y='annual_income',\n",
    "                hue = 'bad_loan', \n",
    "                data=df, \n",
    "                ax=ax[0]);\n",
    "\n",
    "sns.scatterplot(x='Debt-To-Income Ratio',\n",
    "                y='annual_income',\n",
    "                hue = 'bad_loan', \n",
    "                data=df, \n",
    "                ax=ax[1]);\n",
    "\n",
    "sns.scatterplot(x='revol_util',\n",
    "                y='annual_income',\n",
    "                hue = 'bad_loan', \n",
    "                data=df, \n",
    "                ax=ax[2]);\n",
    "\n",
    "sns.scatterplot(x='total_rec_late_fee',\n",
    "                y='annual_income',\n",
    "                hue = 'bad_loan', \n",
    "                data=df, \n",
    "                ax=ax[3]);\n",
    "\n",
    "sns.scatterplot(x='od_ratio',\n",
    "                y='annual_income',\n",
    "                hue = 'bad_loan', \n",
    "                data=df, \n",
    "                ax=ax[4]);"
   ]
  },
  {
   "cell_type": "code",
   "execution_count": null,
   "id": "bd7788a9",
   "metadata": {},
   "outputs": [],
   "source": [
    "sns.pairplot(df[['annual_income','emp_length_num',\\\n",
    "                 'Debt-To-Income Ratio','revol_util',\\\n",
    "                 'total_rec_late_fee','od_ratio']]);"
   ]
  },
  {
   "cell_type": "code",
   "execution_count": null,
   "id": "69fb852f",
   "metadata": {},
   "outputs": [],
   "source": []
  }
 ],
 "metadata": {
  "kernelspec": {
   "display_name": "Python 3 (ipykernel)",
   "language": "python",
   "name": "python3"
  },
  "language_info": {
   "codemirror_mode": {
    "name": "ipython",
    "version": 3
   },
   "file_extension": ".py",
   "mimetype": "text/x-python",
   "name": "python",
   "nbconvert_exporter": "python",
   "pygments_lexer": "ipython3",
   "version": "3.9.13"
  }
 },
 "nbformat": 4,
 "nbformat_minor": 5
}
