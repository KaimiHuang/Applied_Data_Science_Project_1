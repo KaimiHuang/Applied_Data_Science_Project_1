{
 "cells": [
  {
   "cell_type": "markdown",
   "id": "55211531",
   "metadata": {},
   "source": [
    "idea: try using Clustering(Unsupervised Learning) for preprocessing\n",
    "- step 1: cluster observations (X_train only) into multiple loan applicant profiles\n",
    "        - K-means\n",
    "        - DBSCAN\n",
    "        - Agglomerative clustering\n",
    "- step 2: use cluster assignment as a feature to create a classifier. Alternatively, include cluster assignment as one of the features"
   ]
  },
  {
   "cell_type": "code",
   "execution_count": 126,
   "id": "4e2d8f57",
   "metadata": {},
   "outputs": [],
   "source": [
    "import pandas as pd\n",
    "import numpy as np\n",
    "import matplotlib.pyplot as plt\n",
    "from sklearn.model_selection import StratifiedShuffleSplit, GridSearchCV\n",
    "from sklearn.ensemble import RandomForestClassifier\n",
    "import xgboost as xgb\n",
    "from sklearn.utils import class_weight\n",
    "from sklearn.preprocessing import StandardScaler\n",
    "from sklearn.cluster import KMeans, DBSCAN\n",
    "from sklearn.neighbors import KNeighborsClassifier, kneighbors_graph\n",
    "from sklearn.pipeline import Pipeline\n",
    "from sklearn.linear_model import LogisticRegression\n",
    "from sklearn.metrics import precision_recall_curve, confusion_matrix, classification_report, average_precision_score, accuracy_score"
   ]
  },
  {
   "cell_type": "code",
   "execution_count": 197,
   "id": "6469042b",
   "metadata": {},
   "outputs": [],
   "source": [
    "import warnings\n",
    "warnings.filterwarnings(\"ignore\")"
   ]
  },
  {
   "cell_type": "code",
   "execution_count": 127,
   "id": "7887eb24",
   "metadata": {},
   "outputs": [
    {
     "data": {
      "text/plain": [
       "['./Predict_bad_loan.ipynb',\n",
       " './Loan_Dataset_3.csv',\n",
       " './Loan_Dataset.csv',\n",
       " './Predict_bad_loan_cont_(Unsupervised_&_Supervised_approach).ipynb',\n",
       " './Loan_Dataset_2.csv',\n",
       " './bad_data.csv',\n",
       " './Predict_bad_loan_cont_Anomaly_Detection_last_step.ipynb',\n",
       " './Predict_bad_loan_cont_Anomaly_Detection.ipynb',\n",
       " './Predict_bad_loan_cont_Anomaly_Detection_good_data.ipynb',\n",
       " './Predict_bad_loan_cont_(Dimensionality_Reduction_approach).ipynb',\n",
       " './Predict_bad_loan_cont_Anomaly_Detection_questionable_data.ipynb',\n",
       " './variable_descriptions',\n",
       " './good_data.csv']"
      ]
     },
     "execution_count": 127,
     "metadata": {},
     "output_type": "execute_result"
    }
   ],
   "source": [
    "from glob import glob\n",
    "glob('./*')"
   ]
  },
  {
   "cell_type": "code",
   "execution_count": 128,
   "id": "c54b7449",
   "metadata": {},
   "outputs": [
    {
     "data": {
      "text/html": [
       "<div>\n",
       "<style scoped>\n",
       "    .dataframe tbody tr th:only-of-type {\n",
       "        vertical-align: middle;\n",
       "    }\n",
       "\n",
       "    .dataframe tbody tr th {\n",
       "        vertical-align: top;\n",
       "    }\n",
       "\n",
       "    .dataframe thead th {\n",
       "        text-align: right;\n",
       "    }\n",
       "</style>\n",
       "<table border=\"1\" class=\"dataframe\">\n",
       "  <thead>\n",
       "    <tr style=\"text-align: right;\">\n",
       "      <th></th>\n",
       "      <th>id</th>\n",
       "      <th>annual_income</th>\n",
       "      <th>short_employee</th>\n",
       "      <th>emp_length_num</th>\n",
       "      <th>Debt-To-Income Ratio</th>\n",
       "      <th>revol_util</th>\n",
       "      <th>total_rec_late_fee</th>\n",
       "      <th>od_ratio</th>\n",
       "      <th>bad_loan</th>\n",
       "      <th>annual_income_log</th>\n",
       "      <th>...</th>\n",
       "      <th>purpose_medical</th>\n",
       "      <th>purpose_moving</th>\n",
       "      <th>purpose_other</th>\n",
       "      <th>purpose_small_business</th>\n",
       "      <th>purpose_vacation</th>\n",
       "      <th>purpose_wedding</th>\n",
       "      <th>term_36 months</th>\n",
       "      <th>term_60 months</th>\n",
       "      <th>last_delinq_none_0</th>\n",
       "      <th>last_delinq_none_1</th>\n",
       "    </tr>\n",
       "  </thead>\n",
       "  <tbody>\n",
       "    <tr>\n",
       "      <th>0</th>\n",
       "      <td>11454641</td>\n",
       "      <td>100000</td>\n",
       "      <td>1</td>\n",
       "      <td>1</td>\n",
       "      <td>26.27</td>\n",
       "      <td>43.2</td>\n",
       "      <td>0.0</td>\n",
       "      <td>0.160624</td>\n",
       "      <td>0</td>\n",
       "      <td>11.512935</td>\n",
       "      <td>...</td>\n",
       "      <td>0</td>\n",
       "      <td>0</td>\n",
       "      <td>0</td>\n",
       "      <td>0</td>\n",
       "      <td>0</td>\n",
       "      <td>0</td>\n",
       "      <td>1</td>\n",
       "      <td>0</td>\n",
       "      <td>0</td>\n",
       "      <td>1</td>\n",
       "    </tr>\n",
       "    <tr>\n",
       "      <th>1</th>\n",
       "      <td>9604874</td>\n",
       "      <td>83000</td>\n",
       "      <td>0</td>\n",
       "      <td>4</td>\n",
       "      <td>5.39</td>\n",
       "      <td>21.5</td>\n",
       "      <td>0.0</td>\n",
       "      <td>0.810777</td>\n",
       "      <td>0</td>\n",
       "      <td>11.326608</td>\n",
       "      <td>...</td>\n",
       "      <td>0</td>\n",
       "      <td>0</td>\n",
       "      <td>0</td>\n",
       "      <td>0</td>\n",
       "      <td>0</td>\n",
       "      <td>0</td>\n",
       "      <td>1</td>\n",
       "      <td>0</td>\n",
       "      <td>1</td>\n",
       "      <td>0</td>\n",
       "    </tr>\n",
       "    <tr>\n",
       "      <th>2</th>\n",
       "      <td>9684700</td>\n",
       "      <td>78000</td>\n",
       "      <td>0</td>\n",
       "      <td>11</td>\n",
       "      <td>18.45</td>\n",
       "      <td>46.3</td>\n",
       "      <td>0.0</td>\n",
       "      <td>0.035147</td>\n",
       "      <td>1</td>\n",
       "      <td>11.264477</td>\n",
       "      <td>...</td>\n",
       "      <td>0</td>\n",
       "      <td>0</td>\n",
       "      <td>0</td>\n",
       "      <td>0</td>\n",
       "      <td>0</td>\n",
       "      <td>0</td>\n",
       "      <td>0</td>\n",
       "      <td>1</td>\n",
       "      <td>0</td>\n",
       "      <td>1</td>\n",
       "    </tr>\n",
       "    <tr>\n",
       "      <th>3</th>\n",
       "      <td>9695736</td>\n",
       "      <td>37536</td>\n",
       "      <td>0</td>\n",
       "      <td>6</td>\n",
       "      <td>12.28</td>\n",
       "      <td>10.7</td>\n",
       "      <td>0.0</td>\n",
       "      <td>0.534887</td>\n",
       "      <td>1</td>\n",
       "      <td>10.533082</td>\n",
       "      <td>...</td>\n",
       "      <td>1</td>\n",
       "      <td>0</td>\n",
       "      <td>0</td>\n",
       "      <td>0</td>\n",
       "      <td>0</td>\n",
       "      <td>0</td>\n",
       "      <td>0</td>\n",
       "      <td>1</td>\n",
       "      <td>1</td>\n",
       "      <td>0</td>\n",
       "    </tr>\n",
       "    <tr>\n",
       "      <th>4</th>\n",
       "      <td>9795013</td>\n",
       "      <td>65000</td>\n",
       "      <td>0</td>\n",
       "      <td>11</td>\n",
       "      <td>11.26</td>\n",
       "      <td>15.2</td>\n",
       "      <td>0.0</td>\n",
       "      <td>0.166500</td>\n",
       "      <td>0</td>\n",
       "      <td>11.082158</td>\n",
       "      <td>...</td>\n",
       "      <td>0</td>\n",
       "      <td>0</td>\n",
       "      <td>0</td>\n",
       "      <td>0</td>\n",
       "      <td>0</td>\n",
       "      <td>0</td>\n",
       "      <td>1</td>\n",
       "      <td>0</td>\n",
       "      <td>1</td>\n",
       "      <td>0</td>\n",
       "    </tr>\n",
       "  </tbody>\n",
       "</table>\n",
       "<p>5 rows × 36 columns</p>\n",
       "</div>"
      ],
      "text/plain": [
       "         id  annual_income  short_employee  emp_length_num  \\\n",
       "0  11454641         100000               1               1   \n",
       "1   9604874          83000               0               4   \n",
       "2   9684700          78000               0              11   \n",
       "3   9695736          37536               0               6   \n",
       "4   9795013          65000               0              11   \n",
       "\n",
       "   Debt-To-Income Ratio  revol_util  total_rec_late_fee  od_ratio  bad_loan  \\\n",
       "0                 26.27        43.2                 0.0  0.160624         0   \n",
       "1                  5.39        21.5                 0.0  0.810777         0   \n",
       "2                 18.45        46.3                 0.0  0.035147         1   \n",
       "3                 12.28        10.7                 0.0  0.534887         1   \n",
       "4                 11.26        15.2                 0.0  0.166500         0   \n",
       "\n",
       "   annual_income_log  ...  purpose_medical  purpose_moving  purpose_other  \\\n",
       "0          11.512935  ...                0               0              0   \n",
       "1          11.326608  ...                0               0              0   \n",
       "2          11.264477  ...                0               0              0   \n",
       "3          10.533082  ...                1               0              0   \n",
       "4          11.082158  ...                0               0              0   \n",
       "\n",
       "   purpose_small_business  purpose_vacation  purpose_wedding  term_36 months  \\\n",
       "0                       0                 0                0               1   \n",
       "1                       0                 0                0               1   \n",
       "2                       0                 0                0               0   \n",
       "3                       0                 0                0               0   \n",
       "4                       0                 0                0               1   \n",
       "\n",
       "   term_60 months  last_delinq_none_0  last_delinq_none_1  \n",
       "0               0                   0                   1  \n",
       "1               0                   1                   0  \n",
       "2               1                   0                   1  \n",
       "3               1                   1                   0  \n",
       "4               0                   1                   0  \n",
       "\n",
       "[5 rows x 36 columns]"
      ]
     },
     "execution_count": 128,
     "metadata": {},
     "output_type": "execute_result"
    }
   ],
   "source": [
    "df = pd.read_csv('Loan_Dataset_2.csv')\n",
    "df.head()"
   ]
  },
  {
   "cell_type": "code",
   "execution_count": 129,
   "id": "bd23e50a",
   "metadata": {},
   "outputs": [],
   "source": [
    "X = df.drop(columns=['id', 'annual_income','bad_loan','grade_A',\n",
    "                     'home_ownership_MORTGAGE','purpose_car','term_36 months',\n",
    "                     'last_delinq_none_0'])\n",
    "\n",
    "y = df['bad_loan'].astype(int)\n",
    "\n",
    "sss = StratifiedShuffleSplit(n_splits=1, test_size=0.2, train_size=0.8, random_state=123)\n",
    "train_ind, test_ind = next(sss.split(X,y,groups=None))\n",
    "X_train, y_train, X_test, y_test = X.iloc[train_ind], y.iloc[train_ind], X.iloc[test_ind], y.iloc[test_ind]\n",
    "\n",
    "scaler = StandardScaler()\n",
    "X_train = scaler.fit_transform(X_train)\n",
    "X_test = scaler.transform(X_test)"
   ]
  },
  {
   "cell_type": "code",
   "execution_count": 130,
   "id": "eee8eb80",
   "metadata": {},
   "outputs": [
    {
     "data": {
      "text/plain": [
       "{0: 0.6253617021276596, 1: 2.4942294636795657}"
      ]
     },
     "execution_count": 130,
     "metadata": {},
     "output_type": "execute_result"
    }
   ],
   "source": [
    "class_weights = class_weight.compute_class_weight('balanced', classes=np.unique(y_train), y=y_train)\n",
    "class_weights = {0: class_weights[0], 1: class_weights[1]}\n",
    "class_weights"
   ]
  },
  {
   "cell_type": "code",
   "execution_count": 131,
   "id": "636fd8c3",
   "metadata": {},
   "outputs": [],
   "source": [
    "def get_metrics(target_test, target_score):\n",
    "    precision, recall, thresholds = precision_recall_curve(target_test, target_score)\n",
    "    pr_auc = average_precision_score(target_test, target_score)\n",
    "    print(f'AUC is {pr_auc:.2f}')\n",
    "    return precision, recall, pr_auc\n",
    "\n",
    "def get_confusion_matrix(target_test, target_pred):\n",
    "    matrix = confusion_matrix(target_test, target_pred)\n",
    "    df = pd.DataFrame(matrix, index=['Actual Negative', 'Actual Positive'], \n",
    "                 columns=['Predicted Negative', 'Predicted Positive'])\n",
    "    return df"
   ]
  },
  {
   "cell_type": "markdown",
   "id": "0f040e66",
   "metadata": {},
   "source": [
    "### K-Means"
   ]
  },
  {
   "cell_type": "markdown",
   "id": "bd70cabd",
   "metadata": {},
   "source": [
    "#### Logistic Regression"
   ]
  },
  {
   "cell_type": "markdown",
   "id": "3d24b67b",
   "metadata": {},
   "source": [
    "Attempt 1: classifier is trained on cluster assignments only"
   ]
  },
  {
   "cell_type": "code",
   "execution_count": 132,
   "id": "c987b2ea",
   "metadata": {},
   "outputs": [
    {
     "data": {
      "text/plain": [
       "{'kmeans__n_clusters': 3}"
      ]
     },
     "execution_count": 132,
     "metadata": {},
     "output_type": "execute_result"
    }
   ],
   "source": [
    "lg_clf = LogisticRegression(class_weight='balanced', \n",
    "                                   C=10,\n",
    "                                   max_iter=10000,\n",
    "                                   random_state = 123)\n",
    "\n",
    "pipeline = Pipeline([\n",
    "    #The output of this step is the cluster assignments for each data point in the input dataset\n",
    "    ('kmeans', KMeans()),\n",
    "    #The logistic regression model is trained on the cluster assignments \n",
    "    #(features) and the corresponding labels (target)\n",
    "    ('log_reg', lg_clf)\n",
    "])\n",
    "\n",
    "param_grid = dict(kmeans__n_clusters=range(2, 100))\n",
    "grid_clf = GridSearchCV(pipeline, param_grid, cv = 5, verbose = 0, n_jobs=-1)\n",
    "grid_clf.fit(X_train, y_train)\n",
    "grid_clf.best_params_"
   ]
  },
  {
   "cell_type": "code",
   "execution_count": 133,
   "id": "efd04e76",
   "metadata": {},
   "outputs": [
    {
     "data": {
      "text/plain": [
       "Pipeline(steps=[('kmeans', KMeans(n_clusters=3)),\n",
       "                ('log_reg',\n",
       "                 LogisticRegression(C=10, class_weight='balanced',\n",
       "                                    max_iter=10000, random_state=123))])"
      ]
     },
     "execution_count": 133,
     "metadata": {},
     "output_type": "execute_result"
    }
   ],
   "source": [
    "grid_clf.best_estimator_"
   ]
  },
  {
   "cell_type": "code",
   "execution_count": 134,
   "id": "6bb952c7",
   "metadata": {},
   "outputs": [],
   "source": [
    "best_pl = grid_clf.best_estimator_\n",
    "kmeans_model = best_pl['kmeans']\n",
    "train_cluster_assignments = kmeans_model.fit_predict(X_train).reshape(-1,1)\n",
    "test_cluster_assignments = kmeans_model.predict(X_test).reshape(-1,1)"
   ]
  },
  {
   "cell_type": "code",
   "execution_count": 135,
   "id": "74592a15",
   "metadata": {},
   "outputs": [
    {
     "data": {
      "text/html": [
       "<div>\n",
       "<style scoped>\n",
       "    .dataframe tbody tr th:only-of-type {\n",
       "        vertical-align: middle;\n",
       "    }\n",
       "\n",
       "    .dataframe tbody tr th {\n",
       "        vertical-align: top;\n",
       "    }\n",
       "\n",
       "    .dataframe thead th {\n",
       "        text-align: right;\n",
       "    }\n",
       "</style>\n",
       "<table border=\"1\" class=\"dataframe\">\n",
       "  <thead>\n",
       "    <tr style=\"text-align: right;\">\n",
       "      <th></th>\n",
       "      <th>Predicted Negative</th>\n",
       "      <th>Predicted Positive</th>\n",
       "    </tr>\n",
       "  </thead>\n",
       "  <tbody>\n",
       "    <tr>\n",
       "      <th>Actual Negative</th>\n",
       "      <td>1934</td>\n",
       "      <td>1003</td>\n",
       "    </tr>\n",
       "    <tr>\n",
       "      <th>Actual Positive</th>\n",
       "      <td>498</td>\n",
       "      <td>239</td>\n",
       "    </tr>\n",
       "  </tbody>\n",
       "</table>\n",
       "</div>"
      ],
      "text/plain": [
       "                 Predicted Negative  Predicted Positive\n",
       "Actual Negative                1934                1003\n",
       "Actual Positive                 498                 239"
      ]
     },
     "execution_count": 135,
     "metadata": {},
     "output_type": "execute_result"
    }
   ],
   "source": [
    "lg_clf.fit(train_cluster_assignments, y_train)\n",
    "y_pred = lg_clf.predict(test_cluster_assignments)\n",
    "y_score = lg_clf.predict_proba(test_cluster_assignments)[:,1]\n",
    "get_confusion_matrix(y_test, y_pred)"
   ]
  },
  {
   "cell_type": "code",
   "execution_count": 136,
   "id": "5ad46e6b",
   "metadata": {},
   "outputs": [
    {
     "name": "stdout",
     "output_type": "stream",
     "text": [
      "AUC is 0.20\n"
     ]
    }
   ],
   "source": [
    "lg_precision, lg_recall, lg_pr_auc = get_metrics(y_test, y_score)"
   ]
  },
  {
   "cell_type": "code",
   "execution_count": null,
   "id": "49502044",
   "metadata": {},
   "outputs": [],
   "source": []
  },
  {
   "cell_type": "markdown",
   "id": "ada5a983",
   "metadata": {},
   "source": [
    "Performance got much worse"
   ]
  },
  {
   "cell_type": "markdown",
   "id": "55bd3318",
   "metadata": {},
   "source": [
    "Attempt 2: what if the cluster assignment becomes one of the features"
   ]
  },
  {
   "cell_type": "code",
   "execution_count": 141,
   "id": "4213c29a",
   "metadata": {},
   "outputs": [
    {
     "name": "stdout",
     "output_type": "stream",
     "text": [
      "X_train.shape before appending dbscan label dummy columns: (14696, 28)\n"
     ]
    }
   ],
   "source": [
    "print(f'X_train.shape before appending dbscan label dummy columns: {X_train.shape}')"
   ]
  },
  {
   "cell_type": "code",
   "execution_count": 147,
   "id": "352d5182",
   "metadata": {},
   "outputs": [],
   "source": [
    "rows = X_train.shape[0]\n",
    "labels = list(set(train_cluster_assignments.ravel()))\n",
    "X_train_km = X_train.copy()\n",
    "\n",
    "for l in labels[:-1]:\n",
    "    empty_col = np.zeros(rows)\n",
    "    empty_col[(train_cluster_assignments==l).ravel()]=1\n",
    "    X_train_km = np.hstack((X_train_km,empty_col.reshape(-1,1)))"
   ]
  },
  {
   "cell_type": "code",
   "execution_count": 148,
   "id": "c4c2eb4b",
   "metadata": {},
   "outputs": [
    {
     "name": "stdout",
     "output_type": "stream",
     "text": [
      "X_train.shape after appending dbscan label dummy columns: (14696, 30)\n"
     ]
    }
   ],
   "source": [
    "print(f'X_train.shape after appending dbscan label dummy columns: {X_train_km.shape}')"
   ]
  },
  {
   "cell_type": "code",
   "execution_count": 149,
   "id": "a5e073fd",
   "metadata": {},
   "outputs": [
    {
     "name": "stdout",
     "output_type": "stream",
     "text": [
      "X_train.shape before appending dbscan label dummy columns: (3674, 28)\n"
     ]
    }
   ],
   "source": [
    "print(f'X_train.shape before appending dbscan label dummy columns: {X_test.shape}')"
   ]
  },
  {
   "cell_type": "code",
   "execution_count": 150,
   "id": "94669dad",
   "metadata": {},
   "outputs": [],
   "source": [
    "rows = X_test.shape[0]\n",
    "labels = list(set(test_cluster_assignments.ravel()))\n",
    "X_test_km = X_test.copy()\n",
    "\n",
    "for l in labels[:-1]:\n",
    "    empty_col = np.zeros(rows)\n",
    "    empty_col[(test_cluster_assignments==l).ravel()]=1\n",
    "    X_test_km = np.hstack((X_test_km,empty_col.reshape(-1,1)))"
   ]
  },
  {
   "cell_type": "code",
   "execution_count": 151,
   "id": "1500355f",
   "metadata": {},
   "outputs": [
    {
     "name": "stdout",
     "output_type": "stream",
     "text": [
      "X_test.shape after appending dbscan label dummy columns: (3674, 30)\n"
     ]
    }
   ],
   "source": [
    "print(f'X_test.shape after appending dbscan label dummy columns: {X_test_km.shape}')"
   ]
  },
  {
   "cell_type": "code",
   "execution_count": 152,
   "id": "28f64daf",
   "metadata": {},
   "outputs": [],
   "source": [
    "lg_clf.fit(X_train_km, y_train)\n",
    "y_pred = lg_clf.predict(X_test_km)\n",
    "y_score = lg_clf.predict_proba(X_test_km)[:,1]"
   ]
  },
  {
   "cell_type": "code",
   "execution_count": 153,
   "id": "e149a981",
   "metadata": {},
   "outputs": [
    {
     "data": {
      "text/html": [
       "<div>\n",
       "<style scoped>\n",
       "    .dataframe tbody tr th:only-of-type {\n",
       "        vertical-align: middle;\n",
       "    }\n",
       "\n",
       "    .dataframe tbody tr th {\n",
       "        vertical-align: top;\n",
       "    }\n",
       "\n",
       "    .dataframe thead th {\n",
       "        text-align: right;\n",
       "    }\n",
       "</style>\n",
       "<table border=\"1\" class=\"dataframe\">\n",
       "  <thead>\n",
       "    <tr style=\"text-align: right;\">\n",
       "      <th></th>\n",
       "      <th>Predicted Negative</th>\n",
       "      <th>Predicted Positive</th>\n",
       "    </tr>\n",
       "  </thead>\n",
       "  <tbody>\n",
       "    <tr>\n",
       "      <th>Actual Negative</th>\n",
       "      <td>1923</td>\n",
       "      <td>1014</td>\n",
       "    </tr>\n",
       "    <tr>\n",
       "      <th>Actual Positive</th>\n",
       "      <td>244</td>\n",
       "      <td>493</td>\n",
       "    </tr>\n",
       "  </tbody>\n",
       "</table>\n",
       "</div>"
      ],
      "text/plain": [
       "                 Predicted Negative  Predicted Positive\n",
       "Actual Negative                1923                1014\n",
       "Actual Positive                 244                 493"
      ]
     },
     "execution_count": 153,
     "metadata": {},
     "output_type": "execute_result"
    }
   ],
   "source": [
    "get_confusion_matrix(y_test, y_pred)"
   ]
  },
  {
   "cell_type": "code",
   "execution_count": 154,
   "id": "33f4c183",
   "metadata": {},
   "outputs": [
    {
     "name": "stdout",
     "output_type": "stream",
     "text": [
      "AUC is 0.39\n"
     ]
    }
   ],
   "source": [
    "lg_precision, lg_recall, lg_pr_auc = get_metrics(y_test, y_score)"
   ]
  },
  {
   "cell_type": "markdown",
   "id": "f237fdcf",
   "metadata": {},
   "source": [
    "Same performance as the log reg in Predict_bad_loan.ipynb"
   ]
  },
  {
   "cell_type": "markdown",
   "id": "dd5209ad",
   "metadata": {},
   "source": [
    "#### XGBoost"
   ]
  },
  {
   "cell_type": "code",
   "execution_count": 155,
   "id": "5907327f",
   "metadata": {},
   "outputs": [
    {
     "data": {
      "text/plain": [
       "{'learning_rate': 0.1, 'max_depth': 2, 'n_estimators': 95}"
      ]
     },
     "execution_count": 155,
     "metadata": {},
     "output_type": "execute_result"
    }
   ],
   "source": [
    "param_grid = [\n",
    "    {'n_estimators': [94, 95, 96],\n",
    "     'max_depth': [1,2, 3, 4],\n",
    "     'learning_rate': [0.01, 0.1, 1]}]\n",
    "\n",
    "xgb_classifier = xgb.XGBClassifier(objective='binary:logistic',\n",
    "                                    eval_metric='logloss',\n",
    "                                    scale_pos_weight=class_weights[0]/class_weights[1],\n",
    "                                    random_state = 123)\n",
    "\n",
    "grid_search = GridSearchCV(xgb_classifier, param_grid, cv=5,\n",
    "                          scoring = 'average_precision',\n",
    "                          return_train_score = True,\n",
    "                          n_jobs=-1)\n",
    "\n",
    "grid_search.fit(X_train_km, y_train)\n",
    "\n",
    "grid_search.best_params_"
   ]
  },
  {
   "cell_type": "code",
   "execution_count": 157,
   "id": "c702083e",
   "metadata": {},
   "outputs": [
    {
     "data": {
      "text/html": [
       "<div>\n",
       "<style scoped>\n",
       "    .dataframe tbody tr th:only-of-type {\n",
       "        vertical-align: middle;\n",
       "    }\n",
       "\n",
       "    .dataframe tbody tr th {\n",
       "        vertical-align: top;\n",
       "    }\n",
       "\n",
       "    .dataframe thead th {\n",
       "        text-align: right;\n",
       "    }\n",
       "</style>\n",
       "<table border=\"1\" class=\"dataframe\">\n",
       "  <thead>\n",
       "    <tr style=\"text-align: right;\">\n",
       "      <th></th>\n",
       "      <th>Predicted Negative</th>\n",
       "      <th>Predicted Positive</th>\n",
       "    </tr>\n",
       "  </thead>\n",
       "  <tbody>\n",
       "    <tr>\n",
       "      <th>Actual Negative</th>\n",
       "      <td>2933</td>\n",
       "      <td>4</td>\n",
       "    </tr>\n",
       "    <tr>\n",
       "      <th>Actual Positive</th>\n",
       "      <td>725</td>\n",
       "      <td>12</td>\n",
       "    </tr>\n",
       "  </tbody>\n",
       "</table>\n",
       "</div>"
      ],
      "text/plain": [
       "                 Predicted Negative  Predicted Positive\n",
       "Actual Negative                2933                   4\n",
       "Actual Positive                 725                  12"
      ]
     },
     "execution_count": 157,
     "metadata": {},
     "output_type": "execute_result"
    }
   ],
   "source": [
    "xgb_classifier = grid_search.best_estimator_\n",
    "xgb_classifier.fit(X_train_km, y_train)\n",
    "y_pred = xgb_classifier.predict(X_test_km)\n",
    "y_score = xgb_classifier.predict_proba(X_test_km)[:, 1]\n",
    "\n",
    "get_confusion_matrix(y_test, y_pred)"
   ]
  },
  {
   "cell_type": "code",
   "execution_count": 158,
   "id": "e1c95f53",
   "metadata": {},
   "outputs": [
    {
     "name": "stdout",
     "output_type": "stream",
     "text": [
      "AUC is 0.38\n"
     ]
    }
   ],
   "source": [
    "xgb_precision, xgb_recall, xgb_pr_auc = get_metrics(y_test, y_score)"
   ]
  },
  {
   "cell_type": "code",
   "execution_count": 223,
   "id": "18f59043",
   "metadata": {},
   "outputs": [
    {
     "data": {
      "text/plain": [
       "['short_employee',\n",
       " 'emp_length_num',\n",
       " 'Debt-To-Income Ratio',\n",
       " 'revol_util',\n",
       " 'total_rec_late_fee',\n",
       " 'od_ratio',\n",
       " 'annual_income_log',\n",
       " 'grade_B',\n",
       " 'grade_C',\n",
       " 'grade_D',\n",
       " 'grade_E',\n",
       " 'grade_F',\n",
       " 'grade_G',\n",
       " 'home_ownership_OWN',\n",
       " 'home_ownership_RENT',\n",
       " 'purpose_credit_card',\n",
       " 'purpose_debt_consolidation',\n",
       " 'purpose_home_improvement',\n",
       " 'purpose_house',\n",
       " 'purpose_major_purchase',\n",
       " 'purpose_medical',\n",
       " 'purpose_moving',\n",
       " 'purpose_other',\n",
       " 'purpose_small_business',\n",
       " 'purpose_vacation',\n",
       " 'purpose_wedding',\n",
       " 'term_60 months',\n",
       " 'last_delinq_none_1',\n",
       " 'cluster_0',\n",
       " 'cluster_1']"
      ]
     },
     "execution_count": 223,
     "metadata": {},
     "output_type": "execute_result"
    }
   ],
   "source": [
    "features = list(X.columns)\n",
    "features.append('cluster_0')\n",
    "features.append('cluster_1')\n",
    "features"
   ]
  },
  {
   "cell_type": "code",
   "execution_count": 168,
   "id": "ef6dcc23",
   "metadata": {},
   "outputs": [
    {
     "data": {
      "image/png": "[encoded data removed]",
      "text/plain": [
       "<Figure size 640x480 with 1 Axes>"
      ]
     },
     "metadata": {},
     "output_type": "display_data"
    }
   ],
   "source": [
    "xgb_classifier.get_booster().feature_names =  features\n",
    "xgb.plot_importance(xgb_classifier);"
   ]
  },
  {
   "cell_type": "markdown",
   "id": "1e583179",
   "metadata": {},
   "source": [
    "the importance of the new feature, 'cluster', is low according to xgb's importance chart above.\n",
    "see if there is a pattern about the target variable in these clusters"
   ]
  },
  {
   "cell_type": "code",
   "execution_count": 169,
   "id": "c0c4f202",
   "metadata": {},
   "outputs": [
    {
     "data": {
      "text/plain": [
       "KMeans(n_clusters=3)"
      ]
     },
     "execution_count": 169,
     "metadata": {},
     "output_type": "execute_result"
    }
   ],
   "source": [
    "kmeans_model"
   ]
  },
  {
   "cell_type": "code",
   "execution_count": 170,
   "id": "66924192",
   "metadata": {},
   "outputs": [
    {
     "name": "stdout",
     "output_type": "stream",
     "text": [
      "In Cluster 0, the percentage of defaulted loan is  19%.\n",
      "In Cluster 1, the percentage of defaulted loan is  20%.\n"
     ]
    }
   ],
   "source": [
    "num_cluster = 2\n",
    "\n",
    "for cluster in list(range(num_cluster)):\n",
    "    default_p = (y_train[train_cluster_assignments.ravel()==cluster]).mean()\n",
    "    print(f'In Cluster {cluster}, the percentage of defaulted loan is {default_p*100: .0f}%.')"
   ]
  },
  {
   "cell_type": "markdown",
   "id": "e80a8010",
   "metadata": {},
   "source": [
    "cry. both clusters contain 20% bad loans. it is the same pattern as that in the original dataset. conclusion: kmeans cluster as an additional feature does not help improve classifers' performances. both of log reg and xgb classifiers' AUC's verify such."
   ]
  },
  {
   "cell_type": "markdown",
   "id": "dc1e059a",
   "metadata": {},
   "source": [
    "### DBSCAN"
   ]
  },
  {
   "cell_type": "code",
   "execution_count": 171,
   "id": "b91fb64a",
   "metadata": {},
   "outputs": [
    {
     "data": {
      "text/plain": [
       "DBSCAN(eps=6, min_samples=3)"
      ]
     },
     "execution_count": 171,
     "metadata": {},
     "output_type": "execute_result"
    }
   ],
   "source": [
    "dbscan = DBSCAN(eps = 6, min_samples = 3) #need to find the optimal hyperparameters\n",
    "dbscan.fit(X_train)"
   ]
  },
  {
   "cell_type": "code",
   "execution_count": 172,
   "id": "606d46a8",
   "metadata": {},
   "outputs": [
    {
     "data": {
      "text/plain": [
       "{-1, 0, 1, 2, 3, 4, 5, 6, 7, 8, 9, 10, 11}"
      ]
     },
     "execution_count": 172,
     "metadata": {},
     "output_type": "execute_result"
    }
   ],
   "source": [
    "set(dbscan.labels_)"
   ]
  },
  {
   "cell_type": "code",
   "execution_count": 173,
   "id": "60080c9b",
   "metadata": {},
   "outputs": [
    {
     "name": "stdout",
     "output_type": "stream",
     "text": [
      "In the X_train dataset, there are 13 clusters or unique labels, and 22 of the data points are anomalies.\n"
     ]
    }
   ],
   "source": [
    "print(f'In the X_train dataset, there are {len(set(dbscan.labels_))} clusters or unique labels, and \\\n",
    "{(dbscan.labels_ ==  -1).sum()} of the data points are anomalies.')"
   ]
  },
  {
   "cell_type": "code",
   "execution_count": 174,
   "id": "bac745cf",
   "metadata": {},
   "outputs": [
    {
     "data": {
      "text/plain": [
       "(14696, 14696)"
      ]
     },
     "execution_count": 174,
     "metadata": {},
     "output_type": "execute_result"
    }
   ],
   "source": [
    "len(dbscan.labels_), X_train.shape[0]"
   ]
  },
  {
   "cell_type": "code",
   "execution_count": 175,
   "id": "3dbd4680",
   "metadata": {},
   "outputs": [],
   "source": [
    "X_train_dbscan_label = dbscan.labels_.reshape(-1, 1)"
   ]
  },
  {
   "cell_type": "markdown",
   "id": "d6cd8ff1",
   "metadata": {},
   "source": [
    "DBSCAN class does not have a predict() method. Use KNN to predict the cluster for X_test based on maximum distance"
   ]
  },
  {
   "cell_type": "code",
   "execution_count": 176,
   "id": "ce146690",
   "metadata": {},
   "outputs": [
    {
     "data": {
      "text/plain": [
       "KNeighborsClassifier(n_neighbors=50)"
      ]
     },
     "execution_count": 176,
     "metadata": {},
     "output_type": "execute_result"
    }
   ],
   "source": [
    "#the n_neighbors parameter determines the number of neighbors that will be considered when making predictions\n",
    "knn = KNeighborsClassifier(n_neighbors = 50)\n",
    "\n",
    "#core instances are in the components_ instance variable\n",
    "knn.fit(dbscan.components_, dbscan.labels_[dbscan.core_sample_indices_])"
   ]
  },
  {
   "cell_type": "code",
   "execution_count": 177,
   "id": "ae399392",
   "metadata": {},
   "outputs": [],
   "source": [
    "#1. find the nearest neighbor of the data points X_test using the k-nearest neighbors algorithm\n",
    "dist, pred_idx = knn.kneighbors(X_test, n_neighbors = 1)\n",
    "\n",
    "#2. identify the cluster labels of the nearest neighbor\n",
    "label_pred = dbscan.labels_[dbscan.core_sample_indices_][pred_idx]\n",
    "\n",
    "#3. to label anomalies, identify points that are not close enough  (> 6)\n",
    "#to any cluster and consider them outliers.\n",
    "label_pred[dist > 6] = -1\n",
    "\n",
    "label_pred = label_pred.ravel()"
   ]
  },
  {
   "cell_type": "code",
   "execution_count": 178,
   "id": "65503c5b",
   "metadata": {},
   "outputs": [
    {
     "data": {
      "text/plain": [
       "({-1, 0, 1, 2, 3, 4, 5, 6, 7, 8, 9, 11}, 3674, 3674)"
      ]
     },
     "execution_count": 178,
     "metadata": {},
     "output_type": "execute_result"
    }
   ],
   "source": [
    "set(label_pred), len(label_pred), X_test.shape[0]"
   ]
  },
  {
   "cell_type": "code",
   "execution_count": 179,
   "id": "c3a3d78a",
   "metadata": {},
   "outputs": [],
   "source": [
    "X_test_dbscan_label = label_pred.reshape(-1, 1)"
   ]
  },
  {
   "cell_type": "markdown",
   "id": "1eeadd4a",
   "metadata": {},
   "source": [
    "#### Logistic Regression"
   ]
  },
  {
   "cell_type": "markdown",
   "id": "ad6c5143",
   "metadata": {},
   "source": [
    "Attempt 1: classifier is trained on DBSCAN labels only"
   ]
  },
  {
   "cell_type": "code",
   "execution_count": 185,
   "id": "6d2cd8cc",
   "metadata": {},
   "outputs": [
    {
     "data": {
      "text/plain": [
       "{'C': 0.001}"
      ]
     },
     "execution_count": 185,
     "metadata": {},
     "output_type": "execute_result"
    }
   ],
   "source": [
    "param_grid = [{'C': [0.001, 0.01, 0.1, 1]}]\n",
    "\n",
    "lg_clf = LogisticRegression(class_weight='balanced',\n",
    "                            random_state = 123\n",
    "                           )\n",
    "     \n",
    "grid_search = GridSearchCV(lg_clf, param_grid, cv=5,\n",
    "                          scoring = 'average_precision',\n",
    "                          return_train_score = True)\n",
    "               \n",
    "grid_search.fit(X_train_dbscan_label, y_train)\n",
    "\n",
    "grid_search.best_params_"
   ]
  },
  {
   "cell_type": "code",
   "execution_count": 188,
   "id": "a22d25d8",
   "metadata": {},
   "outputs": [
    {
     "data": {
      "text/html": [
       "<div>\n",
       "<style scoped>\n",
       "    .dataframe tbody tr th:only-of-type {\n",
       "        vertical-align: middle;\n",
       "    }\n",
       "\n",
       "    .dataframe tbody tr th {\n",
       "        vertical-align: top;\n",
       "    }\n",
       "\n",
       "    .dataframe thead th {\n",
       "        text-align: right;\n",
       "    }\n",
       "</style>\n",
       "<table border=\"1\" class=\"dataframe\">\n",
       "  <thead>\n",
       "    <tr style=\"text-align: right;\">\n",
       "      <th></th>\n",
       "      <th>Predicted Negative</th>\n",
       "      <th>Predicted Positive</th>\n",
       "    </tr>\n",
       "  </thead>\n",
       "  <tbody>\n",
       "    <tr>\n",
       "      <th>Actual Negative</th>\n",
       "      <td>140</td>\n",
       "      <td>2797</td>\n",
       "    </tr>\n",
       "    <tr>\n",
       "      <th>Actual Positive</th>\n",
       "      <td>46</td>\n",
       "      <td>691</td>\n",
       "    </tr>\n",
       "  </tbody>\n",
       "</table>\n",
       "</div>"
      ],
      "text/plain": [
       "                 Predicted Negative  Predicted Positive\n",
       "Actual Negative                 140                2797\n",
       "Actual Positive                  46                 691"
      ]
     },
     "execution_count": 188,
     "metadata": {},
     "output_type": "execute_result"
    }
   ],
   "source": [
    "lg_clf.fit(X_train_dbscan_label, y_train)\n",
    "y_pred = lg_clf.predict(X_test_dbscan_label)\n",
    "y_score = lg_clf.predict_proba(X_test_dbscan_label)[:,1]\n",
    "get_confusion_matrix(y_test, y_pred)"
   ]
  },
  {
   "cell_type": "code",
   "execution_count": 187,
   "id": "e9916c98",
   "metadata": {},
   "outputs": [
    {
     "name": "stdout",
     "output_type": "stream",
     "text": [
      "AUC is 0.21\n"
     ]
    }
   ],
   "source": [
    "lg_precision, lg_recall, lg_pr_auc = get_metrics(y_test, y_score)"
   ]
  },
  {
   "cell_type": "markdown",
   "id": "54a5d4a7",
   "metadata": {},
   "source": [
    "Attempt 2: DBSCAN label becomes one of the features"
   ]
  },
  {
   "cell_type": "code",
   "execution_count": 67,
   "id": "cf27fd75",
   "metadata": {},
   "outputs": [
    {
     "name": "stdout",
     "output_type": "stream",
     "text": [
      "X_train.shape before appending dbscan label dummy columns: (14696, 28)\n"
     ]
    }
   ],
   "source": [
    "print(f'X_train.shape before appending dbscan label dummy columns: {X_train.shape}')"
   ]
  },
  {
   "cell_type": "code",
   "execution_count": 191,
   "id": "2cd5f54e",
   "metadata": {},
   "outputs": [],
   "source": [
    "rows = X_train.shape[0]\n",
    "labels = list(set(dbscan.labels_))\n",
    "X_train_dbscan = X_train.copy()\n",
    "\n",
    "for l in labels[:-1]:\n",
    "    empty_col = np.zeros(rows)\n",
    "    empty_col[(X_train_dbscan_label==l).ravel()]=1\n",
    "    X_train_dbscan = np.hstack((X_train_dbscan,empty_col.reshape(-1,1)))"
   ]
  },
  {
   "cell_type": "code",
   "execution_count": 192,
   "id": "8d14fd61",
   "metadata": {},
   "outputs": [
    {
     "name": "stdout",
     "output_type": "stream",
     "text": [
      "X_train.shape after appending dbscan label dummy columns: (14696, 40)\n"
     ]
    }
   ],
   "source": [
    "print(f'X_train.shape after appending dbscan label dummy columns: {X_train_dbscan.shape}')"
   ]
  },
  {
   "cell_type": "code",
   "execution_count": 193,
   "id": "b6ebe37b",
   "metadata": {},
   "outputs": [
    {
     "name": "stdout",
     "output_type": "stream",
     "text": [
      "X_test.shape before appending dbscan label dummy columns: (3674, 28)\n"
     ]
    }
   ],
   "source": [
    "print(f'X_test.shape before appending dbscan label dummy columns: {X_test.shape}')"
   ]
  },
  {
   "cell_type": "code",
   "execution_count": 194,
   "id": "25525956",
   "metadata": {},
   "outputs": [],
   "source": [
    "rows_test = X_test.shape[0]\n",
    "X_test_dbscan = X_test.copy()\n",
    "\n",
    "for l in labels[:-1]:\n",
    "    empty_col = np.zeros(rows_test)\n",
    "    empty_col[(X_test_dbscan_label==l).ravel()]=1\n",
    "    X_test_dbscan = np.hstack((X_test_dbscan,empty_col.reshape(-1,1)))"
   ]
  },
  {
   "cell_type": "code",
   "execution_count": 195,
   "id": "b463ce7f",
   "metadata": {},
   "outputs": [
    {
     "name": "stdout",
     "output_type": "stream",
     "text": [
      "X_test.shape before appending dbscan label dummy columns: (3674, 40)\n"
     ]
    }
   ],
   "source": [
    "print(f'X_test.shape before appending dbscan label dummy columns: {X_test_dbscan.shape}')"
   ]
  },
  {
   "cell_type": "code",
   "execution_count": 200,
   "id": "707818ab",
   "metadata": {},
   "outputs": [
    {
     "data": {
      "text/plain": [
       "{'C': 1}"
      ]
     },
     "execution_count": 200,
     "metadata": {},
     "output_type": "execute_result"
    }
   ],
   "source": [
    "param_grid = [{'C': [ 0.1, 1, 10, 100]}]\n",
    "\n",
    "lg_clf = LogisticRegression(class_weight='balanced',\n",
    "                            random_state = 123\n",
    "                           )\n",
    "     \n",
    "grid_search = GridSearchCV(lg_clf, param_grid, cv=5,\n",
    "                          scoring = 'average_precision',\n",
    "                          return_train_score = True)\n",
    "               \n",
    "grid_search.fit(X_train_dbscan, y_train)\n",
    "\n",
    "grid_search.best_params_"
   ]
  },
  {
   "cell_type": "code",
   "execution_count": 201,
   "id": "1f72314a",
   "metadata": {},
   "outputs": [
    {
     "data": {
      "text/html": [
       "<div>\n",
       "<style scoped>\n",
       "    .dataframe tbody tr th:only-of-type {\n",
       "        vertical-align: middle;\n",
       "    }\n",
       "\n",
       "    .dataframe tbody tr th {\n",
       "        vertical-align: top;\n",
       "    }\n",
       "\n",
       "    .dataframe thead th {\n",
       "        text-align: right;\n",
       "    }\n",
       "</style>\n",
       "<table border=\"1\" class=\"dataframe\">\n",
       "  <thead>\n",
       "    <tr style=\"text-align: right;\">\n",
       "      <th></th>\n",
       "      <th>Predicted Negative</th>\n",
       "      <th>Predicted Positive</th>\n",
       "    </tr>\n",
       "  </thead>\n",
       "  <tbody>\n",
       "    <tr>\n",
       "      <th>Actual Negative</th>\n",
       "      <td>1922</td>\n",
       "      <td>1015</td>\n",
       "    </tr>\n",
       "    <tr>\n",
       "      <th>Actual Positive</th>\n",
       "      <td>241</td>\n",
       "      <td>496</td>\n",
       "    </tr>\n",
       "  </tbody>\n",
       "</table>\n",
       "</div>"
      ],
      "text/plain": [
       "                 Predicted Negative  Predicted Positive\n",
       "Actual Negative                1922                1015\n",
       "Actual Positive                 241                 496"
      ]
     },
     "execution_count": 201,
     "metadata": {},
     "output_type": "execute_result"
    }
   ],
   "source": [
    "lg_clf.fit(X_train_dbscan, y_train)\n",
    "y_pred = lg_clf.predict(X_test_dbscan)\n",
    "y_score = lg_clf.predict_proba(X_test_dbscan)[:,1]\n",
    "get_confusion_matrix(y_test, y_pred)"
   ]
  },
  {
   "cell_type": "code",
   "execution_count": 202,
   "id": "a3ec055a",
   "metadata": {},
   "outputs": [
    {
     "name": "stdout",
     "output_type": "stream",
     "text": [
      "AUC is 0.38\n"
     ]
    }
   ],
   "source": [
    "lg_precision, lg_recall, lg_pr_auc = get_metrics(y_test, y_score)"
   ]
  },
  {
   "cell_type": "markdown",
   "id": "5087543c",
   "metadata": {},
   "source": [
    "0.01 worse in performance compared with the log reg in Predict_bad_loan.ipynb"
   ]
  },
  {
   "cell_type": "markdown",
   "id": "85a60939",
   "metadata": {},
   "source": [
    "#### XGBoost"
   ]
  },
  {
   "cell_type": "code",
   "execution_count": 208,
   "id": "26e76b8f",
   "metadata": {},
   "outputs": [
    {
     "data": {
      "text/plain": [
       "{'learning_rate': 0.1, 'max_depth': 2, 'n_estimators': 140}"
      ]
     },
     "execution_count": 208,
     "metadata": {},
     "output_type": "execute_result"
    }
   ],
   "source": [
    "param_grid = [\n",
    "    {'n_estimators': [130, 140, 150],\n",
    "     'max_depth': [1,2, 3, 4],\n",
    "     'learning_rate': [0.01, 0.1, 1]}]\n",
    "\n",
    "xgb_classifier = xgb.XGBClassifier(objective='binary:logistic',\n",
    "                                    eval_metric='logloss',\n",
    "                                    scale_pos_weight=class_weights[0]/class_weights[1],\n",
    "                                    random_state = 123)\n",
    "\n",
    "grid_search = GridSearchCV(xgb_classifier, param_grid, cv=5,\n",
    "                          scoring = 'average_precision',\n",
    "                          return_train_score = True,\n",
    "                          n_jobs=-1)\n",
    "\n",
    "grid_search.fit(X_train_dbscan, y_train)\n",
    "\n",
    "grid_search.best_params_"
   ]
  },
  {
   "cell_type": "code",
   "execution_count": 209,
   "id": "8c041ffe",
   "metadata": {},
   "outputs": [
    {
     "data": {
      "text/html": [
       "<div>\n",
       "<style scoped>\n",
       "    .dataframe tbody tr th:only-of-type {\n",
       "        vertical-align: middle;\n",
       "    }\n",
       "\n",
       "    .dataframe tbody tr th {\n",
       "        vertical-align: top;\n",
       "    }\n",
       "\n",
       "    .dataframe thead th {\n",
       "        text-align: right;\n",
       "    }\n",
       "</style>\n",
       "<table border=\"1\" class=\"dataframe\">\n",
       "  <thead>\n",
       "    <tr style=\"text-align: right;\">\n",
       "      <th></th>\n",
       "      <th>Predicted Negative</th>\n",
       "      <th>Predicted Positive</th>\n",
       "    </tr>\n",
       "  </thead>\n",
       "  <tbody>\n",
       "    <tr>\n",
       "      <th>Actual Negative</th>\n",
       "      <td>2917</td>\n",
       "      <td>20</td>\n",
       "    </tr>\n",
       "    <tr>\n",
       "      <th>Actual Positive</th>\n",
       "      <td>697</td>\n",
       "      <td>40</td>\n",
       "    </tr>\n",
       "  </tbody>\n",
       "</table>\n",
       "</div>"
      ],
      "text/plain": [
       "                 Predicted Negative  Predicted Positive\n",
       "Actual Negative                2917                  20\n",
       "Actual Positive                 697                  40"
      ]
     },
     "execution_count": 209,
     "metadata": {},
     "output_type": "execute_result"
    }
   ],
   "source": [
    "xgb_classifier.fit(X_train_dbscan, y_train)\n",
    "y_pred = xgb_classifier.predict(X_test_dbscan)\n",
    "y_score = xgb_classifier.predict_proba(X_test_dbscan)[:, 1]\n",
    "\n",
    "get_confusion_matrix(y_test, y_pred)"
   ]
  },
  {
   "cell_type": "code",
   "execution_count": 210,
   "id": "f7eaeff2",
   "metadata": {},
   "outputs": [
    {
     "name": "stdout",
     "output_type": "stream",
     "text": [
      "AUC is 0.34\n"
     ]
    }
   ],
   "source": [
    "xgb_precision, xgb_recall, xgb_pr_auc = get_metrics(y_test, y_score)"
   ]
  },
  {
   "cell_type": "code",
   "execution_count": 217,
   "id": "0c3a3198",
   "metadata": {},
   "outputs": [
    {
     "data": {
      "text/plain": [
       "[0, 1, 2, 3, 4, 5, 6, 7, 8, 9, 10, 11, -1]"
      ]
     },
     "execution_count": 217,
     "metadata": {},
     "output_type": "execute_result"
    }
   ],
   "source": [
    "list(set(X_train_dbscan_label.ravel()))"
   ]
  },
  {
   "cell_type": "code",
   "execution_count": 216,
   "id": "25074984",
   "metadata": {},
   "outputs": [
    {
     "data": {
      "text/plain": [
       "['dbscan_label_0',\n",
       " 'dbscan_label_1',\n",
       " 'dbscan_label_2',\n",
       " 'dbscan_label_3',\n",
       " 'dbscan_label_4',\n",
       " 'dbscan_label_5',\n",
       " 'dbscan_label_6',\n",
       " 'dbscan_label_7',\n",
       " 'dbscan_label_8',\n",
       " 'dbscan_label_9',\n",
       " 'dbscan_label_10',\n",
       " 'dbscan_label_11']"
      ]
     },
     "execution_count": 216,
     "metadata": {},
     "output_type": "execute_result"
    }
   ],
   "source": [
    "extension = []\n",
    "dl_str = 'dbscan_label_'\n",
    "dl_num = list(set(X_train_dbscan_label.ravel()))[:-1]\n",
    "for num in dl_num:\n",
    "    ext = dl_str + str(num)\n",
    "    extension.append(ext)\n",
    "\n",
    "extension"
   ]
  },
  {
   "cell_type": "code",
   "execution_count": 221,
   "id": "455b8a5c",
   "metadata": {},
   "outputs": [
    {
     "data": {
      "text/plain": [
       "['short_employee',\n",
       " 'emp_length_num',\n",
       " 'Debt-To-Income Ratio',\n",
       " 'revol_util',\n",
       " 'total_rec_late_fee',\n",
       " 'od_ratio',\n",
       " 'annual_income_log',\n",
       " 'grade_B',\n",
       " 'grade_C',\n",
       " 'grade_D',\n",
       " 'grade_E',\n",
       " 'grade_F',\n",
       " 'grade_G',\n",
       " 'home_ownership_OWN',\n",
       " 'home_ownership_RENT',\n",
       " 'purpose_credit_card',\n",
       " 'purpose_debt_consolidation',\n",
       " 'purpose_home_improvement',\n",
       " 'purpose_house',\n",
       " 'purpose_major_purchase',\n",
       " 'purpose_medical',\n",
       " 'purpose_moving',\n",
       " 'purpose_other',\n",
       " 'purpose_small_business',\n",
       " 'purpose_vacation',\n",
       " 'purpose_wedding',\n",
       " 'term_60 months',\n",
       " 'last_delinq_none_1',\n",
       " 'dbscan_label_0',\n",
       " 'dbscan_label_1',\n",
       " 'dbscan_label_2',\n",
       " 'dbscan_label_3',\n",
       " 'dbscan_label_4',\n",
       " 'dbscan_label_5',\n",
       " 'dbscan_label_6',\n",
       " 'dbscan_label_7',\n",
       " 'dbscan_label_8',\n",
       " 'dbscan_label_9',\n",
       " 'dbscan_label_10',\n",
       " 'dbscan_label_11']"
      ]
     },
     "execution_count": 221,
     "metadata": {},
     "output_type": "execute_result"
    }
   ],
   "source": [
    "features = list(X.columns)\n",
    "features.extend(extension)\n",
    "features"
   ]
  },
  {
   "cell_type": "code",
   "execution_count": 222,
   "id": "ecc58cd1",
   "metadata": {},
   "outputs": [
    {
     "data": {
      "image/png": "[encoded data removed]",
      "text/plain": [
       "<Figure size 640x480 with 1 Axes>"
      ]
     },
     "metadata": {},
     "output_type": "display_data"
    }
   ],
   "source": [
    "xgb_classifier.get_booster().feature_names =  features\n",
    "xgb.plot_importance(xgb_classifier);"
   ]
  },
  {
   "cell_type": "markdown",
   "id": "997d0033",
   "metadata": {},
   "source": [
    "conclusion: neither DBSCAN label as a lone feature or an additional feature helps improve performance. perhaps tuning the hyperparameters more might help. ?"
   ]
  },
  {
   "cell_type": "markdown",
   "id": "45362519",
   "metadata": {},
   "source": [
    "### Agglomerative Hierarchical Clustering"
   ]
  },
  {
   "cell_type": "code",
   "execution_count": 45,
   "id": "20508abc",
   "metadata": {},
   "outputs": [
    {
     "name": "stderr",
     "output_type": "stream",
     "text": [
      "/Users/kaimihuang/opt/anaconda3/lib/python3.9/site-packages/sklearn/cluster/_agglomerative.py:550: UserWarning: the number of connected components of the connectivity matrix is 16 > 1. Completing it to avoid stopping the tree early.\n",
      "  connectivity, n_connected_components = _fix_connectivity(\n"
     ]
    }
   ],
   "source": [
    "connect = kneighbors_graph(X_train, n_neighbors=5, include_self=False)\n",
    "connectivity = cluster.AgglomerativeClustering(n_clusters=12, affinity='euclidean', \n",
    "                                              linkage='complete', connectivity=connect).fit_predict(X_train)"
   ]
  },
  {
   "cell_type": "code",
   "execution_count": 46,
   "id": "d48fb777",
   "metadata": {},
   "outputs": [
    {
     "name": "stdout",
     "output_type": "stream",
     "text": [
      "Cluster 0: 92\n",
      "Cluster 1: 3\n",
      "Cluster 2: 2\n",
      "Cluster 3: 128\n",
      "Cluster 4: 14145\n",
      "Cluster 5: 76\n",
      "Cluster 6: 65\n",
      "Cluster 7: 1\n",
      "Cluster 8: 72\n",
      "Cluster 9: 2\n",
      "Cluster 10: 108\n",
      "Cluster 11: 2\n"
     ]
    }
   ],
   "source": [
    "print(*[\"Cluster \"+str(i)+\": \"+ str(sum(connectivity==i)) for i in range(12)], sep='\\n')"
   ]
  },
  {
   "cell_type": "code",
   "execution_count": 66,
   "id": "7b3e3cb8",
   "metadata": {},
   "outputs": [
    {
     "name": "stdout",
     "output_type": "stream",
     "text": [
      "In Cluster 0, the percentage of defaulted loan is  26%.\n",
      "In Cluster 1, the percentage of defaulted loan is  67%.\n",
      "In Cluster 2, the percentage of defaulted loan is  100%.\n",
      "In Cluster 3, the percentage of defaulted loan is  22%.\n",
      "In Cluster 4, the percentage of defaulted loan is  20%.\n",
      "In Cluster 5, the percentage of defaulted loan is  24%.\n",
      "In Cluster 6, the percentage of defaulted loan is  25%.\n",
      "In Cluster 7, the percentage of defaulted loan is  100%.\n",
      "In Cluster 8, the percentage of defaulted loan is  14%.\n",
      "In Cluster 9, the percentage of defaulted loan is  100%.\n",
      "In Cluster 10, the percentage of defaulted loan is  41%.\n",
      "In Cluster 11, the percentage of defaulted loan is  50%.\n"
     ]
    }
   ],
   "source": [
    "#see if there is a pattern about the target variable in these clusters\n",
    "num_cluster = np.unique(connectivity)\n",
    "\n",
    "for cluster in num_cluster:\n",
    "    default_p = (y_train[connectivity==cluster]).mean()\n",
    "    print(f'In Cluster {cluster}, the percentage of defaulted loan is {default_p*100: .0f}%.')"
   ]
  },
  {
   "cell_type": "markdown",
   "id": "1e88e051",
   "metadata": {},
   "source": [
    "Most of the major clusters, such as 0, 3, 4, 5, 6, have around 20% bad loans, just like the full dataset. Seems like the clustering action does not classify loan applicants in a way that can help with default prediction."
   ]
  },
  {
   "cell_type": "code",
   "execution_count": null,
   "id": "c0757293",
   "metadata": {},
   "outputs": [],
   "source": []
  }
 ],
 "metadata": {
  "kernelspec": {
   "display_name": "Python 3 (ipykernel)",
   "language": "python",
   "name": "python3"
  },
  "language_info": {
   "codemirror_mode": {
    "name": "ipython",
    "version": 3
   },
   "file_extension": ".py",
   "mimetype": "text/x-python",
   "name": "python",
   "nbconvert_exporter": "python",
   "pygments_lexer": "ipython3",
   "version": "3.9.13"
  }
 },
 "nbformat": 4,
 "nbformat_minor": 5
}
