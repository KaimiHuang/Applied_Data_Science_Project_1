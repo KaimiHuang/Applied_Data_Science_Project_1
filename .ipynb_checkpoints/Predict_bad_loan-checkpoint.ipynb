{
 "cells": [
  {
   "cell_type": "code",
   "execution_count": 149,
   "id": "97ad70d5",
   "metadata": {},
   "outputs": [],
   "source": [
    "import pandas as pd\n",
    "import numpy as np\n",
    "import matplotlib.pyplot as plt\n",
    "import seaborn as sns\n",
    "from scipy.stats import chi2_contingency"
   ]
  },
  {
   "cell_type": "code",
   "execution_count": 115,
   "id": "836e1b01",
   "metadata": {},
   "outputs": [
    {
     "data": {
      "text/plain": [
       "['./Predict_bad_loan.ipynb', './Loan_Dataset.csv']"
      ]
     },
     "execution_count": 115,
     "metadata": {},
     "output_type": "execute_result"
    }
   ],
   "source": [
    "from glob import glob \n",
    "glob('./*')"
   ]
  },
  {
   "cell_type": "code",
   "execution_count": 116,
   "id": "a0e2c6ba",
   "metadata": {},
   "outputs": [],
   "source": [
    "df = pd.read_csv('Loan_Dataset.csv')"
   ]
  },
  {
   "cell_type": "code",
   "execution_count": 117,
   "id": "ac5407a2",
   "metadata": {},
   "outputs": [
    {
     "data": {
      "text/html": [
       "<div>\n",
       "<style scoped>\n",
       "    .dataframe tbody tr th:only-of-type {\n",
       "        vertical-align: middle;\n",
       "    }\n",
       "\n",
       "    .dataframe tbody tr th {\n",
       "        vertical-align: top;\n",
       "    }\n",
       "\n",
       "    .dataframe thead th {\n",
       "        text-align: right;\n",
       "    }\n",
       "</style>\n",
       "<table border=\"1\" class=\"dataframe\">\n",
       "  <thead>\n",
       "    <tr style=\"text-align: right;\">\n",
       "      <th></th>\n",
       "      <th>id</th>\n",
       "      <th>grade</th>\n",
       "      <th>annual_income</th>\n",
       "      <th>short_employee</th>\n",
       "      <th>emp_length_num</th>\n",
       "      <th>home_ownership</th>\n",
       "      <th>Debt-To-Income Ratio</th>\n",
       "      <th>purpose</th>\n",
       "      <th>term</th>\n",
       "      <th>last_delinq_none</th>\n",
       "      <th>last_major_derog_none</th>\n",
       "      <th>revol_util</th>\n",
       "      <th>total_rec_late_fee</th>\n",
       "      <th>od_ratio</th>\n",
       "      <th>bad_loan</th>\n",
       "    </tr>\n",
       "  </thead>\n",
       "  <tbody>\n",
       "    <tr>\n",
       "      <th>0</th>\n",
       "      <td>11454641</td>\n",
       "      <td>A</td>\n",
       "      <td>100000</td>\n",
       "      <td>1</td>\n",
       "      <td>1</td>\n",
       "      <td>RENT</td>\n",
       "      <td>26.27</td>\n",
       "      <td>credit_card</td>\n",
       "      <td>36 months</td>\n",
       "      <td>1</td>\n",
       "      <td>NaN</td>\n",
       "      <td>43.2</td>\n",
       "      <td>0.0</td>\n",
       "      <td>0.160624</td>\n",
       "      <td>0</td>\n",
       "    </tr>\n",
       "    <tr>\n",
       "      <th>1</th>\n",
       "      <td>9604874</td>\n",
       "      <td>A</td>\n",
       "      <td>83000</td>\n",
       "      <td>0</td>\n",
       "      <td>4</td>\n",
       "      <td>OWN</td>\n",
       "      <td>5.39</td>\n",
       "      <td>credit_card</td>\n",
       "      <td>36 months</td>\n",
       "      <td>0</td>\n",
       "      <td>NaN</td>\n",
       "      <td>21.5</td>\n",
       "      <td>0.0</td>\n",
       "      <td>0.810777</td>\n",
       "      <td>0</td>\n",
       "    </tr>\n",
       "    <tr>\n",
       "      <th>2</th>\n",
       "      <td>9684700</td>\n",
       "      <td>D</td>\n",
       "      <td>78000</td>\n",
       "      <td>0</td>\n",
       "      <td>11</td>\n",
       "      <td>MORTGAGE</td>\n",
       "      <td>18.45</td>\n",
       "      <td>debt_consolidation</td>\n",
       "      <td>60 months</td>\n",
       "      <td>1</td>\n",
       "      <td>NaN</td>\n",
       "      <td>46.3</td>\n",
       "      <td>0.0</td>\n",
       "      <td>0.035147</td>\n",
       "      <td>1</td>\n",
       "    </tr>\n",
       "    <tr>\n",
       "      <th>3</th>\n",
       "      <td>9695736</td>\n",
       "      <td>D</td>\n",
       "      <td>37536</td>\n",
       "      <td>0</td>\n",
       "      <td>6</td>\n",
       "      <td>MORTGAGE</td>\n",
       "      <td>12.28</td>\n",
       "      <td>medical</td>\n",
       "      <td>60 months</td>\n",
       "      <td>0</td>\n",
       "      <td>NaN</td>\n",
       "      <td>10.7</td>\n",
       "      <td>0.0</td>\n",
       "      <td>0.534887</td>\n",
       "      <td>1</td>\n",
       "    </tr>\n",
       "    <tr>\n",
       "      <th>4</th>\n",
       "      <td>9795013</td>\n",
       "      <td>D</td>\n",
       "      <td>65000</td>\n",
       "      <td>0</td>\n",
       "      <td>11</td>\n",
       "      <td>MORTGAGE</td>\n",
       "      <td>11.26</td>\n",
       "      <td>debt_consolidation</td>\n",
       "      <td>36 months</td>\n",
       "      <td>0</td>\n",
       "      <td>NaN</td>\n",
       "      <td>15.2</td>\n",
       "      <td>0.0</td>\n",
       "      <td>0.166500</td>\n",
       "      <td>0</td>\n",
       "    </tr>\n",
       "  </tbody>\n",
       "</table>\n",
       "</div>"
      ],
      "text/plain": [
       "         id grade  annual_income  short_employee  emp_length_num  \\\n",
       "0  11454641     A         100000               1               1   \n",
       "1   9604874     A          83000               0               4   \n",
       "2   9684700     D          78000               0              11   \n",
       "3   9695736     D          37536               0               6   \n",
       "4   9795013     D          65000               0              11   \n",
       "\n",
       "  home_ownership  Debt-To-Income Ratio             purpose        term  \\\n",
       "0           RENT                 26.27         credit_card   36 months   \n",
       "1            OWN                  5.39         credit_card   36 months   \n",
       "2       MORTGAGE                 18.45  debt_consolidation   60 months   \n",
       "3       MORTGAGE                 12.28             medical   60 months   \n",
       "4       MORTGAGE                 11.26  debt_consolidation   36 months   \n",
       "\n",
       "   last_delinq_none  last_major_derog_none  revol_util  total_rec_late_fee  \\\n",
       "0                 1                    NaN        43.2                 0.0   \n",
       "1                 0                    NaN        21.5                 0.0   \n",
       "2                 1                    NaN        46.3                 0.0   \n",
       "3                 0                    NaN        10.7                 0.0   \n",
       "4                 0                    NaN        15.2                 0.0   \n",
       "\n",
       "   od_ratio  bad_loan  \n",
       "0  0.160624         0  \n",
       "1  0.810777         0  \n",
       "2  0.035147         1  \n",
       "3  0.534887         1  \n",
       "4  0.166500         0  "
      ]
     },
     "execution_count": 117,
     "metadata": {},
     "output_type": "execute_result"
    }
   ],
   "source": [
    "df.head()"
   ]
  },
  {
   "cell_type": "code",
   "execution_count": 118,
   "id": "50adfc15",
   "metadata": {},
   "outputs": [
    {
     "name": "stdout",
     "output_type": "stream",
     "text": [
      "<class 'pandas.core.frame.DataFrame'>\n",
      "RangeIndex: 20000 entries, 0 to 19999\n",
      "Data columns (total 15 columns):\n",
      " #   Column                 Non-Null Count  Dtype  \n",
      "---  ------                 --------------  -----  \n",
      " 0   id                     20000 non-null  int64  \n",
      " 1   grade                  20000 non-null  object \n",
      " 2   annual_income          20000 non-null  int64  \n",
      " 3   short_employee         20000 non-null  int64  \n",
      " 4   emp_length_num         20000 non-null  int64  \n",
      " 5   home_ownership         18509 non-null  object \n",
      " 6   Debt-To-Income Ratio   19846 non-null  float64\n",
      " 7   purpose                20000 non-null  object \n",
      " 8   term                   20000 non-null  object \n",
      " 9   last_delinq_none       20000 non-null  int64  \n",
      " 10  last_major_derog_none  574 non-null    float64\n",
      " 11  revol_util             20000 non-null  float64\n",
      " 12  total_rec_late_fee     20000 non-null  float64\n",
      " 13  od_ratio               20000 non-null  float64\n",
      " 14  bad_loan               20000 non-null  int64  \n",
      "dtypes: float64(5), int64(6), object(4)\n",
      "memory usage: 2.3+ MB\n"
     ]
    }
   ],
   "source": [
    "df.info()"
   ]
  },
  {
   "cell_type": "code",
   "execution_count": 119,
   "id": "b0e22cd1",
   "metadata": {},
   "outputs": [
    {
     "data": {
      "text/plain": [
       "1.0    436\n",
       "0.0    138\n",
       "Name: last_major_derog_none, dtype: int64"
      ]
     },
     "execution_count": 119,
     "metadata": {},
     "output_type": "execute_result"
    }
   ],
   "source": [
    "#last_major_derog_none - 1 when the loaner has a bad rating for at least 90 days.\n",
    "df.last_major_derog_none.value_counts()"
   ]
  },
  {
   "cell_type": "code",
   "execution_count": 120,
   "id": "32a15501",
   "metadata": {},
   "outputs": [
    {
     "data": {
      "text/plain": [
       "(20000, 14)"
      ]
     },
     "execution_count": 120,
     "metadata": {},
     "output_type": "execute_result"
    }
   ],
   "source": [
    "#decide how to deal with missing values\n",
    "\n",
    "#since the majority of the values in last_major_derog_none are missing, dropping the whole column\n",
    "df.drop(columns= ['last_major_derog_none'], inplace=True)\n",
    "df.shape"
   ]
  },
  {
   "cell_type": "code",
   "execution_count": 121,
   "id": "29edceaf",
   "metadata": {},
   "outputs": [],
   "source": [
    "df.fillna('NA',inplace=True)"
   ]
  },
  {
   "cell_type": "code",
   "execution_count": 124,
   "id": "abc62c37",
   "metadata": {},
   "outputs": [
    {
     "data": {
      "text/plain": [
       "MORTGAGE    9844\n",
       "RENT        7052\n",
       "OWN         1613\n",
       "NA          1491\n",
       "Name: home_ownership, dtype: int64"
      ]
     },
     "execution_count": 124,
     "metadata": {},
     "output_type": "execute_result"
    }
   ],
   "source": [
    "df.home_ownership.value_counts()"
   ]
  },
  {
   "cell_type": "code",
   "execution_count": 125,
   "id": "be5231a3",
   "metadata": {},
   "outputs": [
    {
     "data": {
      "text/html": [
       "<div>\n",
       "<style scoped>\n",
       "    .dataframe tbody tr th:only-of-type {\n",
       "        vertical-align: middle;\n",
       "    }\n",
       "\n",
       "    .dataframe tbody tr th {\n",
       "        vertical-align: top;\n",
       "    }\n",
       "\n",
       "    .dataframe thead th {\n",
       "        text-align: right;\n",
       "    }\n",
       "</style>\n",
       "<table border=\"1\" class=\"dataframe\">\n",
       "  <thead>\n",
       "    <tr style=\"text-align: right;\">\n",
       "      <th>home_ownership</th>\n",
       "      <th>MORTGAGE</th>\n",
       "      <th>NA</th>\n",
       "      <th>OWN</th>\n",
       "      <th>RENT</th>\n",
       "      <th>Total</th>\n",
       "    </tr>\n",
       "    <tr>\n",
       "      <th>bad_loan</th>\n",
       "      <th></th>\n",
       "      <th></th>\n",
       "      <th></th>\n",
       "      <th></th>\n",
       "      <th></th>\n",
       "    </tr>\n",
       "  </thead>\n",
       "  <tbody>\n",
       "    <tr>\n",
       "      <th>0</th>\n",
       "      <td>8136</td>\n",
       "      <td>1199</td>\n",
       "      <td>1297</td>\n",
       "      <td>5368</td>\n",
       "      <td>16000</td>\n",
       "    </tr>\n",
       "    <tr>\n",
       "      <th>1</th>\n",
       "      <td>1708</td>\n",
       "      <td>292</td>\n",
       "      <td>316</td>\n",
       "      <td>1684</td>\n",
       "      <td>4000</td>\n",
       "    </tr>\n",
       "    <tr>\n",
       "      <th>Total</th>\n",
       "      <td>9844</td>\n",
       "      <td>1491</td>\n",
       "      <td>1613</td>\n",
       "      <td>7052</td>\n",
       "      <td>20000</td>\n",
       "    </tr>\n",
       "  </tbody>\n",
       "</table>\n",
       "</div>"
      ],
      "text/plain": [
       "home_ownership  MORTGAGE    NA   OWN  RENT  Total\n",
       "bad_loan                                         \n",
       "0                   8136  1199  1297  5368  16000\n",
       "1                   1708   292   316  1684   4000\n",
       "Total               9844  1491  1613  7052  20000"
      ]
     },
     "execution_count": 125,
     "metadata": {},
     "output_type": "execute_result"
    }
   ],
   "source": [
    "#is missing values in home_ownership related to the target, bad_loan?\n",
    "#if yes, then we should not just drop all the rows with missing home_ownership values\n",
    "#if no, then we can drop those rows\n",
    "#use chi-square test to figure it out\n",
    "\n",
    "#table = df.groupby(['bad_loan','home_ownership']).id.agg(['count'])\n",
    "table = pd.crosstab(df.bad_loan, df.home_ownership,margins=True, margins_name='Total')\n",
    "table"
   ]
  },
  {
   "cell_type": "code",
   "execution_count": 126,
   "id": "cd557d91",
   "metadata": {},
   "outputs": [
    {
     "data": {
      "text/plain": [
       "([1199, 292], [16000, 4000])"
      ]
     },
     "execution_count": 126,
     "metadata": {},
     "output_type": "execute_result"
    }
   ],
   "source": [
    "table_2 = list(table.loc[[0,1],'NA']), list(table.loc[[0,1],'Total'])\n",
    "table_2"
   ]
  },
  {
   "cell_type": "code",
   "execution_count": 135,
   "id": "e398d542",
   "metadata": {},
   "outputs": [
    {
     "name": "stdout",
     "output_type": "stream",
     "text": [
      "Chi-square statistic: 0.125226721135046\n",
      "P-value: 1.1774832272384763e-23\n",
      "Degrees of freedom: 1\n",
      "Expected values table:\n",
      "[[ 1193.23014285   297.76985715]\n",
      " [16005.76985715  3994.23014285]]\n",
      "Chi-square Statistic is 0.125226721135046. P-value is 0.7234334047142614. Fail to reject the null hypothesis. The number of missing values in home_ownership and bad_loan are independent. Observations with missing home_ownership values may be dropped. Remaining observations will still represent the population.\n"
     ]
    }
   ],
   "source": [
    "chi2_stat, p_value, dof, expected_values = chi2_contingency(table_2)\n",
    "print(\"Chi-square statistic:\", chi2_stat)\n",
    "print(\"P-value:\", p_val)\n",
    "print(\"Degrees of freedom:\", dof)\n",
    "print(\"Expected values table:\")\n",
    "print(expected_values)\n",
    "\n",
    "if p_value < 0.05:\n",
    "  print(f'Chi-square Statistic is {chi2_stat}. P-value is {p_value}. Reject the null hypothesis. The number of missing values in home_ownership and bad_loan are dependent. Observations with missing home_ownership values may not be dropped.')\n",
    "else:\n",
    "  print(f'Chi-square Statistic is {chi2_stat}. P-value is {p_value}. Fail to reject the null hypothesis. The number of missing values in home_ownership and bad_loan are independent. Observations with missing home_ownership values may be dropped. Remaining observations will still represent the population.')"
   ]
  },
  {
   "cell_type": "code",
   "execution_count": 128,
   "id": "103887d2",
   "metadata": {},
   "outputs": [],
   "source": [
    "row_num_be4 = df.shape[0]\n",
    "row_num_to_drop = df.home_ownership.value_counts()['NA']\n",
    "\n",
    "df = df[df.home_ownership!='NA']\n",
    "row_num_aft = df.shape[0]\n",
    "\n",
    "assert row_num_aft == row_num_be4 - row_num_to_drop"
   ]
  },
  {
   "cell_type": "code",
   "execution_count": 130,
   "id": "839c0076",
   "metadata": {},
   "outputs": [
    {
     "name": "stdout",
     "output_type": "stream",
     "text": [
      "<class 'pandas.core.frame.DataFrame'>\n",
      "Int64Index: 18509 entries, 0 to 19999\n",
      "Data columns (total 14 columns):\n",
      " #   Column                Non-Null Count  Dtype  \n",
      "---  ------                --------------  -----  \n",
      " 0   id                    18509 non-null  int64  \n",
      " 1   grade                 18509 non-null  object \n",
      " 2   annual_income         18509 non-null  int64  \n",
      " 3   short_employee        18509 non-null  int64  \n",
      " 4   emp_length_num        18509 non-null  int64  \n",
      " 5   home_ownership        18509 non-null  object \n",
      " 6   Debt-To-Income Ratio  18509 non-null  object \n",
      " 7   purpose               18509 non-null  object \n",
      " 8   term                  18509 non-null  object \n",
      " 9   last_delinq_none      18509 non-null  int64  \n",
      " 10  revol_util            18509 non-null  float64\n",
      " 11  total_rec_late_fee    18509 non-null  float64\n",
      " 12  od_ratio              18509 non-null  float64\n",
      " 13  bad_loan              18509 non-null  int64  \n",
      "dtypes: float64(3), int64(6), object(5)\n",
      "memory usage: 2.1+ MB\n"
     ]
    }
   ],
   "source": [
    "df.info()"
   ]
  },
  {
   "cell_type": "code",
   "execution_count": 134,
   "id": "6c99b9be",
   "metadata": {},
   "outputs": [
    {
     "data": {
      "text/plain": [
       "0"
      ]
     },
     "execution_count": 134,
     "metadata": {},
     "output_type": "execute_result"
    }
   ],
   "source": [
    "#after dropping all the rows with missing home ownership info, there is no more missing value\n",
    "df.isna().sum(axis=0).sum()"
   ]
  },
  {
   "cell_type": "code",
   "execution_count": 136,
   "id": "3f590bfa",
   "metadata": {},
   "outputs": [
    {
     "data": {
      "text/html": [
       "<div>\n",
       "<style scoped>\n",
       "    .dataframe tbody tr th:only-of-type {\n",
       "        vertical-align: middle;\n",
       "    }\n",
       "\n",
       "    .dataframe tbody tr th {\n",
       "        vertical-align: top;\n",
       "    }\n",
       "\n",
       "    .dataframe thead th {\n",
       "        text-align: right;\n",
       "    }\n",
       "</style>\n",
       "<table border=\"1\" class=\"dataframe\">\n",
       "  <thead>\n",
       "    <tr style=\"text-align: right;\">\n",
       "      <th></th>\n",
       "      <th>id</th>\n",
       "      <th>annual_income</th>\n",
       "      <th>short_employee</th>\n",
       "      <th>emp_length_num</th>\n",
       "      <th>last_delinq_none</th>\n",
       "      <th>revol_util</th>\n",
       "      <th>total_rec_late_fee</th>\n",
       "      <th>od_ratio</th>\n",
       "      <th>bad_loan</th>\n",
       "    </tr>\n",
       "  </thead>\n",
       "  <tbody>\n",
       "    <tr>\n",
       "      <th>count</th>\n",
       "      <td>1.850900e+04</td>\n",
       "      <td>18509.000000</td>\n",
       "      <td>18509.000000</td>\n",
       "      <td>18509.000000</td>\n",
       "      <td>18509.000000</td>\n",
       "      <td>18509.000000</td>\n",
       "      <td>18509.000000</td>\n",
       "      <td>18509.000000</td>\n",
       "      <td>18509.000000</td>\n",
       "    </tr>\n",
       "    <tr>\n",
       "      <th>mean</th>\n",
       "      <td>7.593696e+06</td>\n",
       "      <td>73453.050516</td>\n",
       "      <td>0.112324</td>\n",
       "      <td>6.824680</td>\n",
       "      <td>0.546329</td>\n",
       "      <td>55.982246</td>\n",
       "      <td>0.293864</td>\n",
       "      <td>0.505273</td>\n",
       "      <td>0.200335</td>\n",
       "    </tr>\n",
       "    <tr>\n",
       "      <th>std</th>\n",
       "      <td>1.609183e+06</td>\n",
       "      <td>45581.970623</td>\n",
       "      <td>0.315773</td>\n",
       "      <td>3.769353</td>\n",
       "      <td>0.497862</td>\n",
       "      <td>43.302865</td>\n",
       "      <td>3.140943</td>\n",
       "      <td>0.287919</td>\n",
       "      <td>0.400262</td>\n",
       "    </tr>\n",
       "    <tr>\n",
       "      <th>min</th>\n",
       "      <td>5.860400e+05</td>\n",
       "      <td>8412.000000</td>\n",
       "      <td>0.000000</td>\n",
       "      <td>0.000000</td>\n",
       "      <td>0.000000</td>\n",
       "      <td>0.000000</td>\n",
       "      <td>0.000000</td>\n",
       "      <td>0.000077</td>\n",
       "      <td>0.000000</td>\n",
       "    </tr>\n",
       "    <tr>\n",
       "      <th>25%</th>\n",
       "      <td>6.206410e+06</td>\n",
       "      <td>47000.000000</td>\n",
       "      <td>0.000000</td>\n",
       "      <td>3.000000</td>\n",
       "      <td>0.000000</td>\n",
       "      <td>38.700000</td>\n",
       "      <td>0.000000</td>\n",
       "      <td>0.257677</td>\n",
       "      <td>0.000000</td>\n",
       "    </tr>\n",
       "    <tr>\n",
       "      <th>50%</th>\n",
       "      <td>7.379923e+06</td>\n",
       "      <td>65000.000000</td>\n",
       "      <td>0.000000</td>\n",
       "      <td>7.000000</td>\n",
       "      <td>1.000000</td>\n",
       "      <td>57.100000</td>\n",
       "      <td>0.000000</td>\n",
       "      <td>0.508451</td>\n",
       "      <td>0.000000</td>\n",
       "    </tr>\n",
       "    <tr>\n",
       "      <th>75%</th>\n",
       "      <td>8.775849e+06</td>\n",
       "      <td>88000.000000</td>\n",
       "      <td>0.000000</td>\n",
       "      <td>11.000000</td>\n",
       "      <td>1.000000</td>\n",
       "      <td>74.000000</td>\n",
       "      <td>0.000000</td>\n",
       "      <td>0.754602</td>\n",
       "      <td>0.000000</td>\n",
       "    </tr>\n",
       "    <tr>\n",
       "      <th>max</th>\n",
       "      <td>1.145464e+07</td>\n",
       "      <td>1000000.000000</td>\n",
       "      <td>1.000000</td>\n",
       "      <td>11.000000</td>\n",
       "      <td>1.000000</td>\n",
       "      <td>5010.000000</td>\n",
       "      <td>96.466600</td>\n",
       "      <td>0.999894</td>\n",
       "      <td>1.000000</td>\n",
       "    </tr>\n",
       "  </tbody>\n",
       "</table>\n",
       "</div>"
      ],
      "text/plain": [
       "                 id   annual_income  short_employee  emp_length_num  \\\n",
       "count  1.850900e+04    18509.000000    18509.000000    18509.000000   \n",
       "mean   7.593696e+06    73453.050516        0.112324        6.824680   \n",
       "std    1.609183e+06    45581.970623        0.315773        3.769353   \n",
       "min    5.860400e+05     8412.000000        0.000000        0.000000   \n",
       "25%    6.206410e+06    47000.000000        0.000000        3.000000   \n",
       "50%    7.379923e+06    65000.000000        0.000000        7.000000   \n",
       "75%    8.775849e+06    88000.000000        0.000000       11.000000   \n",
       "max    1.145464e+07  1000000.000000        1.000000       11.000000   \n",
       "\n",
       "       last_delinq_none    revol_util  total_rec_late_fee      od_ratio  \\\n",
       "count      18509.000000  18509.000000        18509.000000  18509.000000   \n",
       "mean           0.546329     55.982246            0.293864      0.505273   \n",
       "std            0.497862     43.302865            3.140943      0.287919   \n",
       "min            0.000000      0.000000            0.000000      0.000077   \n",
       "25%            0.000000     38.700000            0.000000      0.257677   \n",
       "50%            1.000000     57.100000            0.000000      0.508451   \n",
       "75%            1.000000     74.000000            0.000000      0.754602   \n",
       "max            1.000000   5010.000000           96.466600      0.999894   \n",
       "\n",
       "           bad_loan  \n",
       "count  18509.000000  \n",
       "mean       0.200335  \n",
       "std        0.400262  \n",
       "min        0.000000  \n",
       "25%        0.000000  \n",
       "50%        0.000000  \n",
       "75%        0.000000  \n",
       "max        1.000000  "
      ]
     },
     "execution_count": 136,
     "metadata": {},
     "output_type": "execute_result"
    }
   ],
   "source": [
    "df.describe()"
   ]
  },
  {
   "cell_type": "code",
   "execution_count": null,
   "id": "374ddc3c",
   "metadata": {},
   "outputs": [],
   "source": [
    "'''\n",
    "From the variable_description file:\n",
    "Short _ emp - 1 when the borrower has been employed for 1 year or less.\n",
    "Emp _ length _ num - Number of years worked (in years). It ranges from 0 to 10, \n",
    "where 0 means less than a year and 10 means a decade or more.\n",
    "'''\n",
    "\n",
    "#mmm, i see max is 11 in emp_length_num. not a big deal??"
   ]
  },
  {
   "cell_type": "code",
   "execution_count": 144,
   "id": "a25372f6",
   "metadata": {},
   "outputs": [],
   "source": [
    "#double check to make sure obs with value 1 in short_employee have emp_length_num <=1\n",
    "\n",
    "assert (df[df.short_employee==1]['emp_length_num']<=1).mean() ==1"
   ]
  },
  {
   "cell_type": "code",
   "execution_count": 145,
   "id": "9684fdc1",
   "metadata": {},
   "outputs": [
    {
     "data": {
      "text/html": [
       "<div>\n",
       "<style scoped>\n",
       "    .dataframe tbody tr th:only-of-type {\n",
       "        vertical-align: middle;\n",
       "    }\n",
       "\n",
       "    .dataframe tbody tr th {\n",
       "        vertical-align: top;\n",
       "    }\n",
       "\n",
       "    .dataframe thead th {\n",
       "        text-align: right;\n",
       "    }\n",
       "</style>\n",
       "<table border=\"1\" class=\"dataframe\">\n",
       "  <thead>\n",
       "    <tr style=\"text-align: right;\">\n",
       "      <th></th>\n",
       "      <th>id</th>\n",
       "      <th>grade</th>\n",
       "      <th>annual_income</th>\n",
       "      <th>short_employee</th>\n",
       "      <th>emp_length_num</th>\n",
       "      <th>home_ownership</th>\n",
       "      <th>Debt-To-Income Ratio</th>\n",
       "      <th>purpose</th>\n",
       "      <th>term</th>\n",
       "      <th>last_delinq_none</th>\n",
       "      <th>revol_util</th>\n",
       "      <th>total_rec_late_fee</th>\n",
       "      <th>od_ratio</th>\n",
       "      <th>bad_loan</th>\n",
       "    </tr>\n",
       "  </thead>\n",
       "  <tbody>\n",
       "    <tr>\n",
       "      <th>0</th>\n",
       "      <td>11454641</td>\n",
       "      <td>A</td>\n",
       "      <td>100000</td>\n",
       "      <td>1</td>\n",
       "      <td>1</td>\n",
       "      <td>RENT</td>\n",
       "      <td>26.27</td>\n",
       "      <td>credit_card</td>\n",
       "      <td>36 months</td>\n",
       "      <td>1</td>\n",
       "      <td>43.2</td>\n",
       "      <td>0.0</td>\n",
       "      <td>0.160624</td>\n",
       "      <td>0</td>\n",
       "    </tr>\n",
       "    <tr>\n",
       "      <th>1</th>\n",
       "      <td>9604874</td>\n",
       "      <td>A</td>\n",
       "      <td>83000</td>\n",
       "      <td>0</td>\n",
       "      <td>4</td>\n",
       "      <td>OWN</td>\n",
       "      <td>5.39</td>\n",
       "      <td>credit_card</td>\n",
       "      <td>36 months</td>\n",
       "      <td>0</td>\n",
       "      <td>21.5</td>\n",
       "      <td>0.0</td>\n",
       "      <td>0.810777</td>\n",
       "      <td>0</td>\n",
       "    </tr>\n",
       "    <tr>\n",
       "      <th>2</th>\n",
       "      <td>9684700</td>\n",
       "      <td>D</td>\n",
       "      <td>78000</td>\n",
       "      <td>0</td>\n",
       "      <td>11</td>\n",
       "      <td>MORTGAGE</td>\n",
       "      <td>18.45</td>\n",
       "      <td>debt_consolidation</td>\n",
       "      <td>60 months</td>\n",
       "      <td>1</td>\n",
       "      <td>46.3</td>\n",
       "      <td>0.0</td>\n",
       "      <td>0.035147</td>\n",
       "      <td>1</td>\n",
       "    </tr>\n",
       "    <tr>\n",
       "      <th>3</th>\n",
       "      <td>9695736</td>\n",
       "      <td>D</td>\n",
       "      <td>37536</td>\n",
       "      <td>0</td>\n",
       "      <td>6</td>\n",
       "      <td>MORTGAGE</td>\n",
       "      <td>12.28</td>\n",
       "      <td>medical</td>\n",
       "      <td>60 months</td>\n",
       "      <td>0</td>\n",
       "      <td>10.7</td>\n",
       "      <td>0.0</td>\n",
       "      <td>0.534887</td>\n",
       "      <td>1</td>\n",
       "    </tr>\n",
       "    <tr>\n",
       "      <th>4</th>\n",
       "      <td>9795013</td>\n",
       "      <td>D</td>\n",
       "      <td>65000</td>\n",
       "      <td>0</td>\n",
       "      <td>11</td>\n",
       "      <td>MORTGAGE</td>\n",
       "      <td>11.26</td>\n",
       "      <td>debt_consolidation</td>\n",
       "      <td>36 months</td>\n",
       "      <td>0</td>\n",
       "      <td>15.2</td>\n",
       "      <td>0.0</td>\n",
       "      <td>0.166500</td>\n",
       "      <td>0</td>\n",
       "    </tr>\n",
       "  </tbody>\n",
       "</table>\n",
       "</div>"
      ],
      "text/plain": [
       "         id grade  annual_income  short_employee  emp_length_num  \\\n",
       "0  11454641     A         100000               1               1   \n",
       "1   9604874     A          83000               0               4   \n",
       "2   9684700     D          78000               0              11   \n",
       "3   9695736     D          37536               0               6   \n",
       "4   9795013     D          65000               0              11   \n",
       "\n",
       "  home_ownership Debt-To-Income Ratio             purpose        term  \\\n",
       "0           RENT                26.27         credit_card   36 months   \n",
       "1            OWN                 5.39         credit_card   36 months   \n",
       "2       MORTGAGE                18.45  debt_consolidation   60 months   \n",
       "3       MORTGAGE                12.28             medical   60 months   \n",
       "4       MORTGAGE                11.26  debt_consolidation   36 months   \n",
       "\n",
       "   last_delinq_none  revol_util  total_rec_late_fee  od_ratio  bad_loan  \n",
       "0                 1        43.2                 0.0  0.160624         0  \n",
       "1                 0        21.5                 0.0  0.810777         0  \n",
       "2                 1        46.3                 0.0  0.035147         1  \n",
       "3                 0        10.7                 0.0  0.534887         1  \n",
       "4                 0        15.2                 0.0  0.166500         0  "
      ]
     },
     "execution_count": 145,
     "metadata": {},
     "output_type": "execute_result"
    }
   ],
   "source": [
    "df.head()"
   ]
  },
  {
   "cell_type": "code",
   "execution_count": 161,
   "id": "1a041047",
   "metadata": {},
   "outputs": [
    {
     "data": {
      "text/plain": [
       "(B    5587\n",
       " C    5168\n",
       " D    3259\n",
       " A    1986\n",
       " E    1536\n",
       " F     816\n",
       " G     157\n",
       " Name: grade, dtype: int64,\n",
       " B    0.301853\n",
       " C    0.279216\n",
       " D    0.176077\n",
       " A    0.107299\n",
       " E    0.082987\n",
       " F    0.044087\n",
       " G    0.008482\n",
       " Name: grade, dtype: float64)"
      ]
     },
     "execution_count": 161,
     "metadata": {},
     "output_type": "execute_result"
    }
   ],
   "source": [
    "counts = df.grade.value_counts()\n",
    "perc = counts/len(df.grade)\n",
    "counts, perc"
   ]
  },
  {
   "cell_type": "code",
   "execution_count": 179,
   "id": "de9de523",
   "metadata": {},
   "outputs": [
    {
     "data": {
      "image/png": "[encoded data removed]",
      "text/plain": [
       "<Figure size 640x480 with 1 Axes>"
      ]
     },
     "metadata": {},
     "output_type": "display_data"
    }
   ],
   "source": [
    "plt.pie(perc, labels=list(counts.index), autopct='%1.1f%%', startangle=140)\n",
    "plt.title('Loan Grade Pie Chart')\n",
    "# Equal aspect ratio ensures that pie is drawn as a circle.\n",
    "plt.axis('equal')\n",
    "plt.show()"
   ]
  },
  {
   "cell_type": "code",
   "execution_count": 171,
   "id": "b8b6d632",
   "metadata": {},
   "outputs": [
    {
     "data": {
      "image/png": "[encoded data removed]",
      "text/plain": [
       "<Figure size 800x600 with 1 Axes>"
      ]
     },
     "metadata": {},
     "output_type": "display_data"
    }
   ],
   "source": [
    "fig,ax = plt.subplots(1,1,figsize=(8,6))\n",
    "\n",
    "sns.barplot(x='grade',y='annual_income',data=df,estimator=np.mean,ci=95);\n",
    "ax.set_ylabel('mean annual_income');"
   ]
  },
  {
   "cell_type": "code",
   "execution_count": null,
   "id": "96e1b2f1",
   "metadata": {},
   "outputs": [],
   "source": []
  }
 ],
 "metadata": {
  "kernelspec": {
   "display_name": "Python 3 (ipykernel)",
   "language": "python",
   "name": "python3"
  },
  "language_info": {
   "codemirror_mode": {
    "name": "ipython",
    "version": 3
   },
   "file_extension": ".py",
   "mimetype": "text/x-python",
   "name": "python",
   "nbconvert_exporter": "python",
   "pygments_lexer": "ipython3",
   "version": "3.9.13"
  }
 },
 "nbformat": 4,
 "nbformat_minor": 5
}
