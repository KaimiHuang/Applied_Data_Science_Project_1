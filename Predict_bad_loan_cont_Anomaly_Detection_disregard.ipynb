{
 "cells": [
  {
   "cell_type": "markdown",
   "id": "55211531",
   "metadata": {},
   "source": [
    "idea: The dataset may contain wrong labels. A solution is detect anomalies in the dataset using Gaussian Mixture, and then inspect the anomaly data points"
   ]
  },
  {
   "cell_type": "code",
   "execution_count": 340,
   "id": "4e2d8f57",
   "metadata": {},
   "outputs": [],
   "source": [
    "import pandas as pd\n",
    "pd.options.mode.chained_assignment = None\n",
    "import numpy as np\n",
    "import matplotlib.pyplot as plt\n",
    "import seaborn as sns\n",
    "from sklearn.model_selection import StratifiedShuffleSplit, GridSearchCV\n",
    "from sklearn.ensemble import RandomForestClassifier\n",
    "import xgboost as xgb\n",
    "from sklearn.preprocessing import StandardScaler\n",
    "from sklearn.cluster import KMeans, DBSCAN\n",
    "from sklearn.neighbors import KNeighborsClassifier, kneighbors_graph\n",
    "from sklearn.pipeline import Pipeline\n",
    "from sklearn.linear_model import LogisticRegression\n",
    "from sklearn.metrics import precision_recall_curve, confusion_matrix, classification_report, average_precision_score, accuracy_score"
   ]
  },
  {
   "cell_type": "code",
   "execution_count": 341,
   "id": "ae9d54e5",
   "metadata": {},
   "outputs": [],
   "source": [
    "import warnings\n",
    "warnings.filterwarnings(\"ignore\")"
   ]
  },
  {
   "cell_type": "code",
   "execution_count": 342,
   "id": "7887eb24",
   "metadata": {},
   "outputs": [
    {
     "data": {
      "text/plain": [
       "['./Predict_bad_loan.ipynb',\n",
       " './Loan_Dataset_3.csv',\n",
       " './Loan_Dataset.csv',\n",
       " './Predict_bad_loan_cont_(Unsupervised_&_Supervised_approach).ipynb',\n",
       " './Loan_Dataset_2.csv',\n",
       " './Predict_bad_loan_cont_Anomaly_Detection.ipynb',\n",
       " './Predict_bad_loan_cont_(Dimensionality_Reduction_approach).ipynb',\n",
       " './variable_descriptions']"
      ]
     },
     "execution_count": 342,
     "metadata": {},
     "output_type": "execute_result"
    }
   ],
   "source": [
    "from glob import glob\n",
    "glob('./*')"
   ]
  },
  {
   "cell_type": "code",
   "execution_count": 343,
   "id": "c54b7449",
   "metadata": {},
   "outputs": [],
   "source": [
    "df_ori = pd.read_csv('Loan_Dataset_2.csv')"
   ]
  },
  {
   "cell_type": "code",
   "execution_count": 344,
   "id": "c3937f65",
   "metadata": {},
   "outputs": [
    {
     "data": {
      "text/plain": [
       "Index(['id', 'annual_income', 'short_employee', 'emp_length_num',\n",
       "       'Debt-To-Income Ratio', 'revol_util', 'total_rec_late_fee', 'od_ratio',\n",
       "       'bad_loan', 'annual_income_log', 'grade_A', 'grade_B', 'grade_C',\n",
       "       'grade_D', 'grade_E', 'grade_F', 'grade_G', 'home_ownership_MORTGAGE',\n",
       "       'home_ownership_OWN', 'home_ownership_RENT', 'purpose_car',\n",
       "       'purpose_credit_card', 'purpose_debt_consolidation',\n",
       "       'purpose_home_improvement', 'purpose_house', 'purpose_major_purchase',\n",
       "       'purpose_medical', 'purpose_moving', 'purpose_other',\n",
       "       'purpose_small_business', 'purpose_vacation', 'purpose_wedding',\n",
       "       'term_36 months', 'term_60 months', 'last_delinq_none_0',\n",
       "       'last_delinq_none_1'],\n",
       "      dtype='object')"
      ]
     },
     "execution_count": 344,
     "metadata": {},
     "output_type": "execute_result"
    }
   ],
   "source": [
    "df_ori.columns"
   ]
  },
  {
   "cell_type": "code",
   "execution_count": 345,
   "id": "0b313264",
   "metadata": {},
   "outputs": [
    {
     "data": {
      "text/plain": [
       "Index(['id', 'annual_income', 'short_employee', 'emp_length_num',\n",
       "       'Debt-To-Income Ratio', 'revol_util', 'total_rec_late_fee', 'od_ratio',\n",
       "       'bad_loan', 'grade_A', 'grade_B', 'grade_C', 'grade_D', 'grade_E',\n",
       "       'grade_F', 'grade_G', 'home_ownership_MORTGAGE', 'home_ownership_OWN',\n",
       "       'home_ownership_RENT', 'purpose_car', 'purpose_credit_card',\n",
       "       'purpose_debt_consolidation', 'purpose_home_improvement',\n",
       "       'purpose_house', 'purpose_major_purchase', 'purpose_medical',\n",
       "       'purpose_moving', 'purpose_other', 'purpose_small_business',\n",
       "       'purpose_vacation', 'purpose_wedding', 'term_36 months',\n",
       "       'term_60 months', 'last_delinq_none_0', 'last_delinq_none_1'],\n",
       "      dtype='object')"
      ]
     },
     "execution_count": 345,
     "metadata": {},
     "output_type": "execute_result"
    }
   ],
   "source": [
    "df = df_ori.drop(columns =['annual_income_log'])\n",
    "df.columns"
   ]
  },
  {
   "cell_type": "code",
   "execution_count": 346,
   "id": "49da94b5",
   "metadata": {},
   "outputs": [
    {
     "data": {
      "text/plain": [
       "GaussianMixture(n_init=20, random_state=123)"
      ]
     },
     "execution_count": 346,
     "metadata": {},
     "output_type": "execute_result"
    }
   ],
   "source": [
    "from sklearn.mixture import BayesianGaussianMixture, GaussianMixture\n",
    "\n",
    "gm = GaussianMixture(n_components=1, n_init=20, random_state=123)\n",
    "gm.fit(df)"
   ]
  },
  {
   "cell_type": "code",
   "execution_count": 347,
   "id": "048663e6",
   "metadata": {},
   "outputs": [
    {
     "data": {
      "text/plain": [
       "(True, 2, array([1.]))"
      ]
     },
     "execution_count": 347,
     "metadata": {},
     "output_type": "execute_result"
    }
   ],
   "source": [
    "gm.converged_, gm.n_iter_, gm.weights_"
   ]
  },
  {
   "cell_type": "code",
   "execution_count": 396,
   "id": "a6f56d2d",
   "metadata": {},
   "outputs": [],
   "source": [
    "densities = gm.score_samples(df)\n",
    "density_threshold = np.percentile(densities, 40) #assume 10% of data has incorrect label\n",
    "anomalies = df[densities < density_threshold]\n",
    "normal = df[densities >= density_threshold]"
   ]
  },
  {
   "cell_type": "code",
   "execution_count": 397,
   "id": "5a1041fa",
   "metadata": {},
   "outputs": [],
   "source": [
    "norm_ind = normal.index"
   ]
  },
  {
   "cell_type": "code",
   "execution_count": 398,
   "id": "52cc2194",
   "metadata": {},
   "outputs": [
    {
     "data": {
      "text/plain": [
       "(0.3021230266739249, 7348)"
      ]
     },
     "execution_count": 398,
     "metadata": {},
     "output_type": "execute_result"
    }
   ],
   "source": [
    "anomalies.bad_loan.mean(), anomalies.shape[0]"
   ]
  },
  {
   "cell_type": "code",
   "execution_count": 399,
   "id": "e20143a2",
   "metadata": {},
   "outputs": [],
   "source": [
    "X = df_ori.drop(columns=['id', 'annual_income','bad_loan','grade_A',\n",
    "                     'home_ownership_MORTGAGE','purpose_car','term_36 months',\n",
    "                     'last_delinq_none_0'])\n",
    "\n",
    "X = X.iloc[norm_ind,:]\n",
    "\n",
    "y = df_ori['bad_loan'].astype(int)\n",
    "\n",
    "y = y[norm_ind]"
   ]
  },
  {
   "cell_type": "code",
   "execution_count": 400,
   "id": "e4b44a04",
   "metadata": {},
   "outputs": [],
   "source": [
    "sss = StratifiedShuffleSplit(n_splits=1, test_size=0.2, train_size=0.8, random_state=123)\n",
    "train_ind, test_ind = next(sss.split(X,y,groups=None))\n",
    "X_train, y_train, X_test, y_test = X.iloc[train_ind], y.iloc[train_ind], X.iloc[test_ind], y.iloc[test_ind]\n",
    "\n",
    "scaler = StandardScaler()\n",
    "X_train = scaler.fit_transform(X_train)\n",
    "X_test = scaler.transform(X_test)"
   ]
  },
  {
   "cell_type": "code",
   "execution_count": 401,
   "id": "6342e2e3",
   "metadata": {},
   "outputs": [],
   "source": [
    "from sklearn.utils import class_weight\n",
    "\n",
    "class_weights = class_weight.compute_class_weight('balanced', classes=np.unique(y_train), y=y_train)\n",
    "class_weights = {0: class_weights[0], 1: class_weights[1]}"
   ]
  },
  {
   "cell_type": "code",
   "execution_count": 402,
   "id": "2184b4aa",
   "metadata": {},
   "outputs": [],
   "source": [
    "def get_metrics(target_test, target_score):\n",
    "    precision, recall, thresholds = precision_recall_curve(target_test, target_score)\n",
    "    pr_auc = average_precision_score(target_test, target_score)\n",
    "    print(f'AUC is {pr_auc:.2f}')\n",
    "    return precision, recall, pr_auc\n",
    "\n",
    "def get_confusion_matrix(target_test, target_pred):\n",
    "    matrix = confusion_matrix(target_test, target_pred)\n",
    "    df = pd.DataFrame(matrix, index=['Actual Negative', 'Actual Positive'], \n",
    "                 columns=['Predicted Negative', 'Predicted Positive'])\n",
    "    return df"
   ]
  },
  {
   "cell_type": "code",
   "execution_count": 403,
   "id": "b64f6c49",
   "metadata": {},
   "outputs": [
    {
     "data": {
      "text/plain": [
       "{'C': 0.1}"
      ]
     },
     "execution_count": 403,
     "metadata": {},
     "output_type": "execute_result"
    }
   ],
   "source": [
    "param_grid = [{'C': [0.1, 1, 10, 100, 1000]}]\n",
    "\n",
    "lg_clf = LogisticRegression(class_weight='balanced',\n",
    "                            random_state = 123\n",
    "                           )\n",
    "     \n",
    "grid_search = GridSearchCV(lg_clf, param_grid, cv=5,\n",
    "                          scoring = 'average_precision',\n",
    "                          return_train_score = True)\n",
    "               \n",
    "grid_search.fit(X_train, y_train)\n",
    "\n",
    "grid_search.best_params_"
   ]
  },
  {
   "cell_type": "code",
   "execution_count": 404,
   "id": "ba6ea8f0",
   "metadata": {},
   "outputs": [
    {
     "data": {
      "text/html": [
       "<div>\n",
       "<style scoped>\n",
       "    .dataframe tbody tr th:only-of-type {\n",
       "        vertical-align: middle;\n",
       "    }\n",
       "\n",
       "    .dataframe tbody tr th {\n",
       "        vertical-align: top;\n",
       "    }\n",
       "\n",
       "    .dataframe thead th {\n",
       "        text-align: right;\n",
       "    }\n",
       "</style>\n",
       "<table border=\"1\" class=\"dataframe\">\n",
       "  <thead>\n",
       "    <tr style=\"text-align: right;\">\n",
       "      <th></th>\n",
       "      <th>Predicted Negative</th>\n",
       "      <th>Predicted Positive</th>\n",
       "    </tr>\n",
       "  </thead>\n",
       "  <tbody>\n",
       "    <tr>\n",
       "      <th>Actual Negative</th>\n",
       "      <td>1174</td>\n",
       "      <td>738</td>\n",
       "    </tr>\n",
       "    <tr>\n",
       "      <th>Actual Positive</th>\n",
       "      <td>78</td>\n",
       "      <td>215</td>\n",
       "    </tr>\n",
       "  </tbody>\n",
       "</table>\n",
       "</div>"
      ],
      "text/plain": [
       "                 Predicted Negative  Predicted Positive\n",
       "Actual Negative                1174                 738\n",
       "Actual Positive                  78                 215"
      ]
     },
     "execution_count": 404,
     "metadata": {},
     "output_type": "execute_result"
    }
   ],
   "source": [
    "lg_clf = grid_search.best_estimator_\n",
    "lg_clf.fit(X_train, y_train)\n",
    "y_pred = lg_clf.predict(X_test)\n",
    "y_score = lg_clf.predict_proba(X_test)[:, 1]\n",
    "\n",
    "get_confusion_matrix(y_test, y_pred)"
   ]
  },
  {
   "cell_type": "code",
   "execution_count": 405,
   "id": "5012152c",
   "metadata": {},
   "outputs": [
    {
     "name": "stdout",
     "output_type": "stream",
     "text": [
      "AUC is 0.26\n"
     ]
    }
   ],
   "source": [
    "lg_precision, lg_recall, lg_pr_auc = get_metrics(y_test, y_score)"
   ]
  },
  {
   "cell_type": "code",
   "execution_count": 406,
   "id": "6f1d1aea",
   "metadata": {},
   "outputs": [
    {
     "data": {
      "text/plain": [
       "{'learning_rate': 0.1, 'max_depth': 2, 'n_estimators': 98}"
      ]
     },
     "execution_count": 406,
     "metadata": {},
     "output_type": "execute_result"
    }
   ],
   "source": [
    "param_grid = [\n",
    "    {'n_estimators': [95, 96, 97, 98],\n",
    "     'max_depth': [1,2, 3, 4],\n",
    "     'learning_rate': [0.01, 0.1, 1]}]\n",
    "\n",
    "xgb_classifier = xgb.XGBClassifier(objective='binary:logistic',\n",
    "                                    eval_metric='logloss',\n",
    "                                    scale_pos_weight=class_weights[0]/class_weights[1],\n",
    "                                    random_state = 123)\n",
    "\n",
    "grid_search = GridSearchCV(xgb_classifier, param_grid, cv=5,\n",
    "                          scoring = 'average_precision',\n",
    "                          return_train_score = True)\n",
    "\n",
    "grid_search.fit(X_train, y_train)\n",
    "\n",
    "grid_search.best_params_"
   ]
  },
  {
   "cell_type": "code",
   "execution_count": 393,
   "id": "7a3a51b5",
   "metadata": {},
   "outputs": [
    {
     "data": {
      "text/html": [
       "<div>\n",
       "<style scoped>\n",
       "    .dataframe tbody tr th:only-of-type {\n",
       "        vertical-align: middle;\n",
       "    }\n",
       "\n",
       "    .dataframe tbody tr th {\n",
       "        vertical-align: top;\n",
       "    }\n",
       "\n",
       "    .dataframe thead th {\n",
       "        text-align: right;\n",
       "    }\n",
       "</style>\n",
       "<table border=\"1\" class=\"dataframe\">\n",
       "  <thead>\n",
       "    <tr style=\"text-align: right;\">\n",
       "      <th></th>\n",
       "      <th>Predicted Negative</th>\n",
       "      <th>Predicted Positive</th>\n",
       "    </tr>\n",
       "  </thead>\n",
       "  <tbody>\n",
       "    <tr>\n",
       "      <th>Actual Negative</th>\n",
       "      <td>2564</td>\n",
       "      <td>0</td>\n",
       "    </tr>\n",
       "    <tr>\n",
       "      <th>Actual Positive</th>\n",
       "      <td>559</td>\n",
       "      <td>0</td>\n",
       "    </tr>\n",
       "  </tbody>\n",
       "</table>\n",
       "</div>"
      ],
      "text/plain": [
       "                 Predicted Negative  Predicted Positive\n",
       "Actual Negative                2564                   0\n",
       "Actual Positive                 559                   0"
      ]
     },
     "execution_count": 393,
     "metadata": {},
     "output_type": "execute_result"
    }
   ],
   "source": [
    "xgb_classifier = grid_search.best_estimator_\n",
    "xgb_classifier.fit(X_train, y_train)\n",
    "y_pred = xgb_classifier.predict(X_test)\n",
    "y_score = xgb_classifier.predict_proba(X_test)[:, 1]\n",
    "\n",
    "get_confusion_matrix(y_test, y_pred)"
   ]
  },
  {
   "cell_type": "code",
   "execution_count": 394,
   "id": "8ec37b9b",
   "metadata": {},
   "outputs": [
    {
     "name": "stdout",
     "output_type": "stream",
     "text": [
      "AUC is 0.34\n"
     ]
    }
   ],
   "source": [
    "xgb_precision, xgb_recall, xgb_pr_auc = get_metrics(y_test, y_score)"
   ]
  },
  {
   "cell_type": "code",
   "execution_count": 395,
   "id": "84ece896",
   "metadata": {},
   "outputs": [
    {
     "data": {
      "image/png": "[encoded data removed]",
      "text/plain": [
       "<Figure size 640x480 with 1 Axes>"
      ]
     },
     "metadata": {},
     "output_type": "display_data"
    }
   ],
   "source": [
    "xgb_classifier.get_booster().feature_names =  list(X.columns)\n",
    "xgb.plot_importance(xgb_classifier);"
   ]
  },
  {
   "cell_type": "code",
   "execution_count": null,
   "id": "fdbe309e",
   "metadata": {},
   "outputs": [],
   "source": []
  },
  {
   "cell_type": "markdown",
   "id": "25d92cc0",
   "metadata": {},
   "source": [
    "Approach 1: seperate df into two datasets by target, detect anomalies in each set"
   ]
  },
  {
   "cell_type": "code",
   "execution_count": 225,
   "id": "60be4c04",
   "metadata": {},
   "outputs": [],
   "source": [
    "df_good_loan = df[df.bad_loan==0]\n",
    "df_bad_loan = df[df.bad_loan==1]"
   ]
  },
  {
   "cell_type": "code",
   "execution_count": 228,
   "id": "631eea49",
   "metadata": {},
   "outputs": [
    {
     "data": {
      "text/plain": [
       "GaussianMixture(n_components=2, n_init=10, random_state=123)"
      ]
     },
     "execution_count": 228,
     "metadata": {},
     "output_type": "execute_result"
    }
   ],
   "source": [
    "#setting n_components=2 because of the assumption that some of the observations in the good loans are \n",
    "#miss-labeled and should have been labeled bad loans, and vice versa\n",
    "gm = GaussianMixture(n_components=2, n_init=10, random_state=123)\n",
    "gm.fit(df_good_loan)"
   ]
  },
  {
   "cell_type": "code",
   "execution_count": 229,
   "id": "7eef12b3",
   "metadata": {},
   "outputs": [
    {
     "data": {
      "text/plain": [
       "array([0.06910874, 0.93089126])"
      ]
     },
     "execution_count": 229,
     "metadata": {},
     "output_type": "execute_result"
    }
   ],
   "source": [
    "gm.weights_"
   ]
  },
  {
   "cell_type": "code",
   "execution_count": 230,
   "id": "bf209f69",
   "metadata": {},
   "outputs": [],
   "source": [
    "#gm.means_"
   ]
  },
  {
   "cell_type": "code",
   "execution_count": 231,
   "id": "77db6180",
   "metadata": {},
   "outputs": [],
   "source": [
    "#gm.covariances_"
   ]
  },
  {
   "cell_type": "code",
   "execution_count": 232,
   "id": "d214adc3",
   "metadata": {},
   "outputs": [
    {
     "data": {
      "text/plain": [
       "(True, 8)"
      ]
     },
     "execution_count": 232,
     "metadata": {},
     "output_type": "execute_result"
    }
   ],
   "source": [
    "gm.converged_, gm.n_iter_"
   ]
  },
  {
   "cell_type": "code",
   "execution_count": 233,
   "id": "a31c3bd4",
   "metadata": {},
   "outputs": [
    {
     "data": {
      "text/plain": [
       "0.9308912643834684"
      ]
     },
     "execution_count": 233,
     "metadata": {},
     "output_type": "execute_result"
    }
   ],
   "source": [
    "a_d = gm.predict(df_good_loan)\n",
    "a_d.mean()"
   ]
  },
  {
   "cell_type": "code",
   "execution_count": 247,
   "id": "64f14da3",
   "metadata": {},
   "outputs": [],
   "source": [
    "df_good_loan.loc[:,'anomaly'] = (a_d+1)%2 #now 1 represents an anomaly tag\n",
    "df_good_loan['annual_income_log'] = df_good_loan.annual_income.apply(lambda x: np.log(x+1))"
   ]
  },
  {
   "cell_type": "code",
   "execution_count": 248,
   "id": "e56c446b",
   "metadata": {},
   "outputs": [
    {
     "data": {
      "text/html": [
       "<div>\n",
       "<style scoped>\n",
       "    .dataframe tbody tr th:only-of-type {\n",
       "        vertical-align: middle;\n",
       "    }\n",
       "\n",
       "    .dataframe tbody tr th {\n",
       "        vertical-align: top;\n",
       "    }\n",
       "\n",
       "    .dataframe thead th {\n",
       "        text-align: right;\n",
       "    }\n",
       "</style>\n",
       "<table border=\"1\" class=\"dataframe\">\n",
       "  <thead>\n",
       "    <tr style=\"text-align: right;\">\n",
       "      <th></th>\n",
       "      <th>id</th>\n",
       "      <th>annual_income</th>\n",
       "      <th>short_employee</th>\n",
       "      <th>emp_length_num</th>\n",
       "      <th>Debt-To-Income Ratio</th>\n",
       "      <th>revol_util</th>\n",
       "      <th>total_rec_late_fee</th>\n",
       "      <th>od_ratio</th>\n",
       "      <th>bad_loan</th>\n",
       "      <th>grade_A</th>\n",
       "      <th>grade_B</th>\n",
       "      <th>grade_C</th>\n",
       "      <th>grade_D</th>\n",
       "      <th>grade_E</th>\n",
       "      <th>grade_F</th>\n",
       "      <th>grade_G</th>\n",
       "      <th>home_ownership_MORTGAGE</th>\n",
       "      <th>home_ownership_OWN</th>\n",
       "      <th>home_ownership_RENT</th>\n",
       "      <th>purpose_car</th>\n",
       "      <th>purpose_credit_card</th>\n",
       "      <th>purpose_debt_consolidation</th>\n",
       "      <th>purpose_home_improvement</th>\n",
       "      <th>purpose_house</th>\n",
       "      <th>purpose_major_purchase</th>\n",
       "      <th>purpose_medical</th>\n",
       "      <th>purpose_moving</th>\n",
       "      <th>purpose_other</th>\n",
       "      <th>purpose_small_business</th>\n",
       "      <th>purpose_vacation</th>\n",
       "      <th>purpose_wedding</th>\n",
       "      <th>term_36 months</th>\n",
       "      <th>term_60 months</th>\n",
       "      <th>last_delinq_none_0</th>\n",
       "      <th>last_delinq_none_1</th>\n",
       "      <th>anomaly</th>\n",
       "      <th>annual_income_log</th>\n",
       "    </tr>\n",
       "  </thead>\n",
       "  <tbody>\n",
       "    <tr>\n",
       "      <th>count</th>\n",
       "      <td>1.367200e+04</td>\n",
       "      <td>13672.000000</td>\n",
       "      <td>13672.000000</td>\n",
       "      <td>13672.000000</td>\n",
       "      <td>13672.000000</td>\n",
       "      <td>13672.000000</td>\n",
       "      <td>13672.000000</td>\n",
       "      <td>13672.000000</td>\n",
       "      <td>13672.0</td>\n",
       "      <td>13672.000000</td>\n",
       "      <td>13672.000000</td>\n",
       "      <td>13672.000000</td>\n",
       "      <td>13672.000000</td>\n",
       "      <td>13672.000000</td>\n",
       "      <td>13672.000000</td>\n",
       "      <td>13672.000000</td>\n",
       "      <td>13672.000000</td>\n",
       "      <td>13672.000000</td>\n",
       "      <td>13672.000000</td>\n",
       "      <td>13672.000000</td>\n",
       "      <td>13672.000000</td>\n",
       "      <td>13672.000000</td>\n",
       "      <td>13672.000000</td>\n",
       "      <td>13672.0</td>\n",
       "      <td>13672.000000</td>\n",
       "      <td>13672.000000</td>\n",
       "      <td>13672.0</td>\n",
       "      <td>13672.000000</td>\n",
       "      <td>13672.0</td>\n",
       "      <td>13672.0</td>\n",
       "      <td>13672.0</td>\n",
       "      <td>13672.000000</td>\n",
       "      <td>13672.000000</td>\n",
       "      <td>13672.000000</td>\n",
       "      <td>13672.000000</td>\n",
       "      <td>13672.0</td>\n",
       "      <td>13672.000000</td>\n",
       "    </tr>\n",
       "    <tr>\n",
       "      <th>mean</th>\n",
       "      <td>7.641619e+06</td>\n",
       "      <td>75042.498098</td>\n",
       "      <td>0.107373</td>\n",
       "      <td>6.914716</td>\n",
       "      <td>16.088392</td>\n",
       "      <td>54.417848</td>\n",
       "      <td>0.001097</td>\n",
       "      <td>0.506292</td>\n",
       "      <td>0.0</td>\n",
       "      <td>0.134435</td>\n",
       "      <td>0.347791</td>\n",
       "      <td>0.287741</td>\n",
       "      <td>0.160767</td>\n",
       "      <td>0.068169</td>\n",
       "      <td>0.000805</td>\n",
       "      <td>0.000293</td>\n",
       "      <td>0.557343</td>\n",
       "      <td>0.087185</td>\n",
       "      <td>0.355471</td>\n",
       "      <td>0.009289</td>\n",
       "      <td>0.227033</td>\n",
       "      <td>0.634435</td>\n",
       "      <td>0.056978</td>\n",
       "      <td>0.0</td>\n",
       "      <td>0.018944</td>\n",
       "      <td>0.009216</td>\n",
       "      <td>0.0</td>\n",
       "      <td>0.044105</td>\n",
       "      <td>0.0</td>\n",
       "      <td>0.0</td>\n",
       "      <td>0.0</td>\n",
       "      <td>0.802297</td>\n",
       "      <td>0.197703</td>\n",
       "      <td>0.457212</td>\n",
       "      <td>0.542788</td>\n",
       "      <td>0.0</td>\n",
       "      <td>11.102514</td>\n",
       "    </tr>\n",
       "    <tr>\n",
       "      <th>std</th>\n",
       "      <td>1.622044e+06</td>\n",
       "      <td>46248.153883</td>\n",
       "      <td>0.309598</td>\n",
       "      <td>3.750138</td>\n",
       "      <td>7.442764</td>\n",
       "      <td>23.282014</td>\n",
       "      <td>0.128285</td>\n",
       "      <td>0.287434</td>\n",
       "      <td>0.0</td>\n",
       "      <td>0.341132</td>\n",
       "      <td>0.476287</td>\n",
       "      <td>0.452726</td>\n",
       "      <td>0.367329</td>\n",
       "      <td>0.252044</td>\n",
       "      <td>0.028354</td>\n",
       "      <td>0.017103</td>\n",
       "      <td>0.496719</td>\n",
       "      <td>0.282117</td>\n",
       "      <td>0.478673</td>\n",
       "      <td>0.095935</td>\n",
       "      <td>0.418930</td>\n",
       "      <td>0.481606</td>\n",
       "      <td>0.231809</td>\n",
       "      <td>0.0</td>\n",
       "      <td>0.136332</td>\n",
       "      <td>0.095560</td>\n",
       "      <td>0.0</td>\n",
       "      <td>0.205335</td>\n",
       "      <td>0.0</td>\n",
       "      <td>0.0</td>\n",
       "      <td>0.0</td>\n",
       "      <td>0.398282</td>\n",
       "      <td>0.398282</td>\n",
       "      <td>0.498184</td>\n",
       "      <td>0.498184</td>\n",
       "      <td>0.0</td>\n",
       "      <td>0.480475</td>\n",
       "    </tr>\n",
       "    <tr>\n",
       "      <th>min</th>\n",
       "      <td>5.860400e+05</td>\n",
       "      <td>8412.000000</td>\n",
       "      <td>0.000000</td>\n",
       "      <td>0.000000</td>\n",
       "      <td>0.000000</td>\n",
       "      <td>0.000000</td>\n",
       "      <td>0.000000</td>\n",
       "      <td>0.000300</td>\n",
       "      <td>0.0</td>\n",
       "      <td>0.000000</td>\n",
       "      <td>0.000000</td>\n",
       "      <td>0.000000</td>\n",
       "      <td>0.000000</td>\n",
       "      <td>0.000000</td>\n",
       "      <td>0.000000</td>\n",
       "      <td>0.000000</td>\n",
       "      <td>0.000000</td>\n",
       "      <td>0.000000</td>\n",
       "      <td>0.000000</td>\n",
       "      <td>0.000000</td>\n",
       "      <td>0.000000</td>\n",
       "      <td>0.000000</td>\n",
       "      <td>0.000000</td>\n",
       "      <td>0.0</td>\n",
       "      <td>0.000000</td>\n",
       "      <td>0.000000</td>\n",
       "      <td>0.0</td>\n",
       "      <td>0.000000</td>\n",
       "      <td>0.0</td>\n",
       "      <td>0.0</td>\n",
       "      <td>0.0</td>\n",
       "      <td>0.000000</td>\n",
       "      <td>0.000000</td>\n",
       "      <td>0.000000</td>\n",
       "      <td>0.000000</td>\n",
       "      <td>0.0</td>\n",
       "      <td>9.037533</td>\n",
       "    </tr>\n",
       "    <tr>\n",
       "      <th>25%</th>\n",
       "      <td>6.254814e+06</td>\n",
       "      <td>49000.000000</td>\n",
       "      <td>0.000000</td>\n",
       "      <td>4.000000</td>\n",
       "      <td>10.520000</td>\n",
       "      <td>37.600000</td>\n",
       "      <td>0.000000</td>\n",
       "      <td>0.259101</td>\n",
       "      <td>0.0</td>\n",
       "      <td>0.000000</td>\n",
       "      <td>0.000000</td>\n",
       "      <td>0.000000</td>\n",
       "      <td>0.000000</td>\n",
       "      <td>0.000000</td>\n",
       "      <td>0.000000</td>\n",
       "      <td>0.000000</td>\n",
       "      <td>0.000000</td>\n",
       "      <td>0.000000</td>\n",
       "      <td>0.000000</td>\n",
       "      <td>0.000000</td>\n",
       "      <td>0.000000</td>\n",
       "      <td>0.000000</td>\n",
       "      <td>0.000000</td>\n",
       "      <td>0.0</td>\n",
       "      <td>0.000000</td>\n",
       "      <td>0.000000</td>\n",
       "      <td>0.0</td>\n",
       "      <td>0.000000</td>\n",
       "      <td>0.0</td>\n",
       "      <td>0.0</td>\n",
       "      <td>0.0</td>\n",
       "      <td>1.000000</td>\n",
       "      <td>0.000000</td>\n",
       "      <td>0.000000</td>\n",
       "      <td>0.000000</td>\n",
       "      <td>0.0</td>\n",
       "      <td>10.799596</td>\n",
       "    </tr>\n",
       "    <tr>\n",
       "      <th>50%</th>\n",
       "      <td>7.444636e+06</td>\n",
       "      <td>65000.000000</td>\n",
       "      <td>0.000000</td>\n",
       "      <td>7.000000</td>\n",
       "      <td>15.630000</td>\n",
       "      <td>55.600000</td>\n",
       "      <td>0.000000</td>\n",
       "      <td>0.508642</td>\n",
       "      <td>0.0</td>\n",
       "      <td>0.000000</td>\n",
       "      <td>0.000000</td>\n",
       "      <td>0.000000</td>\n",
       "      <td>0.000000</td>\n",
       "      <td>0.000000</td>\n",
       "      <td>0.000000</td>\n",
       "      <td>0.000000</td>\n",
       "      <td>1.000000</td>\n",
       "      <td>0.000000</td>\n",
       "      <td>0.000000</td>\n",
       "      <td>0.000000</td>\n",
       "      <td>0.000000</td>\n",
       "      <td>1.000000</td>\n",
       "      <td>0.000000</td>\n",
       "      <td>0.0</td>\n",
       "      <td>0.000000</td>\n",
       "      <td>0.000000</td>\n",
       "      <td>0.0</td>\n",
       "      <td>0.000000</td>\n",
       "      <td>0.0</td>\n",
       "      <td>0.0</td>\n",
       "      <td>0.0</td>\n",
       "      <td>1.000000</td>\n",
       "      <td>0.000000</td>\n",
       "      <td>0.000000</td>\n",
       "      <td>1.000000</td>\n",
       "      <td>0.0</td>\n",
       "      <td>11.082158</td>\n",
       "    </tr>\n",
       "    <tr>\n",
       "      <th>75%</th>\n",
       "      <td>8.855503e+06</td>\n",
       "      <td>90000.000000</td>\n",
       "      <td>0.000000</td>\n",
       "      <td>11.000000</td>\n",
       "      <td>21.320000</td>\n",
       "      <td>72.300000</td>\n",
       "      <td>0.000000</td>\n",
       "      <td>0.754421</td>\n",
       "      <td>0.0</td>\n",
       "      <td>0.000000</td>\n",
       "      <td>1.000000</td>\n",
       "      <td>1.000000</td>\n",
       "      <td>0.000000</td>\n",
       "      <td>0.000000</td>\n",
       "      <td>0.000000</td>\n",
       "      <td>0.000000</td>\n",
       "      <td>1.000000</td>\n",
       "      <td>0.000000</td>\n",
       "      <td>1.000000</td>\n",
       "      <td>0.000000</td>\n",
       "      <td>0.000000</td>\n",
       "      <td>1.000000</td>\n",
       "      <td>0.000000</td>\n",
       "      <td>0.0</td>\n",
       "      <td>0.000000</td>\n",
       "      <td>0.000000</td>\n",
       "      <td>0.0</td>\n",
       "      <td>0.000000</td>\n",
       "      <td>0.0</td>\n",
       "      <td>0.0</td>\n",
       "      <td>0.0</td>\n",
       "      <td>1.000000</td>\n",
       "      <td>0.000000</td>\n",
       "      <td>1.000000</td>\n",
       "      <td>1.000000</td>\n",
       "      <td>0.0</td>\n",
       "      <td>11.407576</td>\n",
       "    </tr>\n",
       "    <tr>\n",
       "      <th>max</th>\n",
       "      <td>1.145464e+07</td>\n",
       "      <td>1000000.000000</td>\n",
       "      <td>1.000000</td>\n",
       "      <td>11.000000</td>\n",
       "      <td>34.990000</td>\n",
       "      <td>107.700000</td>\n",
       "      <td>15.000000</td>\n",
       "      <td>0.999890</td>\n",
       "      <td>0.0</td>\n",
       "      <td>1.000000</td>\n",
       "      <td>1.000000</td>\n",
       "      <td>1.000000</td>\n",
       "      <td>1.000000</td>\n",
       "      <td>1.000000</td>\n",
       "      <td>1.000000</td>\n",
       "      <td>1.000000</td>\n",
       "      <td>1.000000</td>\n",
       "      <td>1.000000</td>\n",
       "      <td>1.000000</td>\n",
       "      <td>1.000000</td>\n",
       "      <td>1.000000</td>\n",
       "      <td>1.000000</td>\n",
       "      <td>1.000000</td>\n",
       "      <td>0.0</td>\n",
       "      <td>1.000000</td>\n",
       "      <td>1.000000</td>\n",
       "      <td>0.0</td>\n",
       "      <td>1.000000</td>\n",
       "      <td>0.0</td>\n",
       "      <td>0.0</td>\n",
       "      <td>0.0</td>\n",
       "      <td>1.000000</td>\n",
       "      <td>1.000000</td>\n",
       "      <td>1.000000</td>\n",
       "      <td>1.000000</td>\n",
       "      <td>0.0</td>\n",
       "      <td>13.815512</td>\n",
       "    </tr>\n",
       "  </tbody>\n",
       "</table>\n",
       "</div>"
      ],
      "text/plain": [
       "                 id   annual_income  short_employee  emp_length_num  \\\n",
       "count  1.367200e+04    13672.000000    13672.000000    13672.000000   \n",
       "mean   7.641619e+06    75042.498098        0.107373        6.914716   \n",
       "std    1.622044e+06    46248.153883        0.309598        3.750138   \n",
       "min    5.860400e+05     8412.000000        0.000000        0.000000   \n",
       "25%    6.254814e+06    49000.000000        0.000000        4.000000   \n",
       "50%    7.444636e+06    65000.000000        0.000000        7.000000   \n",
       "75%    8.855503e+06    90000.000000        0.000000       11.000000   \n",
       "max    1.145464e+07  1000000.000000        1.000000       11.000000   \n",
       "\n",
       "       Debt-To-Income Ratio    revol_util  total_rec_late_fee      od_ratio  \\\n",
       "count          13672.000000  13672.000000        13672.000000  13672.000000   \n",
       "mean              16.088392     54.417848            0.001097      0.506292   \n",
       "std                7.442764     23.282014            0.128285      0.287434   \n",
       "min                0.000000      0.000000            0.000000      0.000300   \n",
       "25%               10.520000     37.600000            0.000000      0.259101   \n",
       "50%               15.630000     55.600000            0.000000      0.508642   \n",
       "75%               21.320000     72.300000            0.000000      0.754421   \n",
       "max               34.990000    107.700000           15.000000      0.999890   \n",
       "\n",
       "       bad_loan       grade_A       grade_B       grade_C       grade_D  \\\n",
       "count   13672.0  13672.000000  13672.000000  13672.000000  13672.000000   \n",
       "mean        0.0      0.134435      0.347791      0.287741      0.160767   \n",
       "std         0.0      0.341132      0.476287      0.452726      0.367329   \n",
       "min         0.0      0.000000      0.000000      0.000000      0.000000   \n",
       "25%         0.0      0.000000      0.000000      0.000000      0.000000   \n",
       "50%         0.0      0.000000      0.000000      0.000000      0.000000   \n",
       "75%         0.0      0.000000      1.000000      1.000000      0.000000   \n",
       "max         0.0      1.000000      1.000000      1.000000      1.000000   \n",
       "\n",
       "            grade_E       grade_F       grade_G  home_ownership_MORTGAGE  \\\n",
       "count  13672.000000  13672.000000  13672.000000             13672.000000   \n",
       "mean       0.068169      0.000805      0.000293                 0.557343   \n",
       "std        0.252044      0.028354      0.017103                 0.496719   \n",
       "min        0.000000      0.000000      0.000000                 0.000000   \n",
       "25%        0.000000      0.000000      0.000000                 0.000000   \n",
       "50%        0.000000      0.000000      0.000000                 1.000000   \n",
       "75%        0.000000      0.000000      0.000000                 1.000000   \n",
       "max        1.000000      1.000000      1.000000                 1.000000   \n",
       "\n",
       "       home_ownership_OWN  home_ownership_RENT   purpose_car  \\\n",
       "count        13672.000000         13672.000000  13672.000000   \n",
       "mean             0.087185             0.355471      0.009289   \n",
       "std              0.282117             0.478673      0.095935   \n",
       "min              0.000000             0.000000      0.000000   \n",
       "25%              0.000000             0.000000      0.000000   \n",
       "50%              0.000000             0.000000      0.000000   \n",
       "75%              0.000000             1.000000      0.000000   \n",
       "max              1.000000             1.000000      1.000000   \n",
       "\n",
       "       purpose_credit_card  purpose_debt_consolidation  \\\n",
       "count         13672.000000                13672.000000   \n",
       "mean              0.227033                    0.634435   \n",
       "std               0.418930                    0.481606   \n",
       "min               0.000000                    0.000000   \n",
       "25%               0.000000                    0.000000   \n",
       "50%               0.000000                    1.000000   \n",
       "75%               0.000000                    1.000000   \n",
       "max               1.000000                    1.000000   \n",
       "\n",
       "       purpose_home_improvement  purpose_house  purpose_major_purchase  \\\n",
       "count              13672.000000        13672.0            13672.000000   \n",
       "mean                   0.056978            0.0                0.018944   \n",
       "std                    0.231809            0.0                0.136332   \n",
       "min                    0.000000            0.0                0.000000   \n",
       "25%                    0.000000            0.0                0.000000   \n",
       "50%                    0.000000            0.0                0.000000   \n",
       "75%                    0.000000            0.0                0.000000   \n",
       "max                    1.000000            0.0                1.000000   \n",
       "\n",
       "       purpose_medical  purpose_moving  purpose_other  purpose_small_business  \\\n",
       "count     13672.000000         13672.0   13672.000000                 13672.0   \n",
       "mean          0.009216             0.0       0.044105                     0.0   \n",
       "std           0.095560             0.0       0.205335                     0.0   \n",
       "min           0.000000             0.0       0.000000                     0.0   \n",
       "25%           0.000000             0.0       0.000000                     0.0   \n",
       "50%           0.000000             0.0       0.000000                     0.0   \n",
       "75%           0.000000             0.0       0.000000                     0.0   \n",
       "max           1.000000             0.0       1.000000                     0.0   \n",
       "\n",
       "       purpose_vacation  purpose_wedding  term_36 months  term_60 months  \\\n",
       "count           13672.0          13672.0    13672.000000    13672.000000   \n",
       "mean                0.0              0.0        0.802297        0.197703   \n",
       "std                 0.0              0.0        0.398282        0.398282   \n",
       "min                 0.0              0.0        0.000000        0.000000   \n",
       "25%                 0.0              0.0        1.000000        0.000000   \n",
       "50%                 0.0              0.0        1.000000        0.000000   \n",
       "75%                 0.0              0.0        1.000000        0.000000   \n",
       "max                 0.0              0.0        1.000000        1.000000   \n",
       "\n",
       "       last_delinq_none_0  last_delinq_none_1  anomaly  annual_income_log  \n",
       "count        13672.000000        13672.000000  13672.0       13672.000000  \n",
       "mean             0.457212            0.542788      0.0          11.102514  \n",
       "std              0.498184            0.498184      0.0           0.480475  \n",
       "min              0.000000            0.000000      0.0           9.037533  \n",
       "25%              0.000000            0.000000      0.0          10.799596  \n",
       "50%              0.000000            1.000000      0.0          11.082158  \n",
       "75%              1.000000            1.000000      0.0          11.407576  \n",
       "max              1.000000            1.000000      0.0          13.815512  "
      ]
     },
     "execution_count": 248,
     "metadata": {},
     "output_type": "execute_result"
    }
   ],
   "source": [
    "pd.set_option('display.max_columns', None)\n",
    "df_good_loan[df_good_loan['anomaly']==0].describe()"
   ]
  },
  {
   "cell_type": "code",
   "execution_count": 249,
   "id": "14cfdda6",
   "metadata": {},
   "outputs": [
    {
     "data": {
      "text/html": [
       "<div>\n",
       "<style scoped>\n",
       "    .dataframe tbody tr th:only-of-type {\n",
       "        vertical-align: middle;\n",
       "    }\n",
       "\n",
       "    .dataframe tbody tr th {\n",
       "        vertical-align: top;\n",
       "    }\n",
       "\n",
       "    .dataframe thead th {\n",
       "        text-align: right;\n",
       "    }\n",
       "</style>\n",
       "<table border=\"1\" class=\"dataframe\">\n",
       "  <thead>\n",
       "    <tr style=\"text-align: right;\">\n",
       "      <th></th>\n",
       "      <th>id</th>\n",
       "      <th>annual_income</th>\n",
       "      <th>short_employee</th>\n",
       "      <th>emp_length_num</th>\n",
       "      <th>Debt-To-Income Ratio</th>\n",
       "      <th>revol_util</th>\n",
       "      <th>total_rec_late_fee</th>\n",
       "      <th>od_ratio</th>\n",
       "      <th>bad_loan</th>\n",
       "      <th>grade_A</th>\n",
       "      <th>grade_B</th>\n",
       "      <th>grade_C</th>\n",
       "      <th>grade_D</th>\n",
       "      <th>grade_E</th>\n",
       "      <th>grade_F</th>\n",
       "      <th>grade_G</th>\n",
       "      <th>home_ownership_MORTGAGE</th>\n",
       "      <th>home_ownership_OWN</th>\n",
       "      <th>home_ownership_RENT</th>\n",
       "      <th>purpose_car</th>\n",
       "      <th>purpose_credit_card</th>\n",
       "      <th>purpose_debt_consolidation</th>\n",
       "      <th>purpose_home_improvement</th>\n",
       "      <th>purpose_house</th>\n",
       "      <th>purpose_major_purchase</th>\n",
       "      <th>purpose_medical</th>\n",
       "      <th>purpose_moving</th>\n",
       "      <th>purpose_other</th>\n",
       "      <th>purpose_small_business</th>\n",
       "      <th>purpose_vacation</th>\n",
       "      <th>purpose_wedding</th>\n",
       "      <th>term_36 months</th>\n",
       "      <th>term_60 months</th>\n",
       "      <th>last_delinq_none_0</th>\n",
       "      <th>last_delinq_none_1</th>\n",
       "      <th>anomaly</th>\n",
       "      <th>annual_income_log</th>\n",
       "    </tr>\n",
       "  </thead>\n",
       "  <tbody>\n",
       "    <tr>\n",
       "      <th>count</th>\n",
       "      <td>1.015000e+03</td>\n",
       "      <td>1015.000000</td>\n",
       "      <td>1015.000000</td>\n",
       "      <td>1015.000000</td>\n",
       "      <td>1015.000000</td>\n",
       "      <td>1015.000000</td>\n",
       "      <td>1015.000000</td>\n",
       "      <td>1015.000000</td>\n",
       "      <td>1015.0</td>\n",
       "      <td>1015.000000</td>\n",
       "      <td>1015.000000</td>\n",
       "      <td>1015.000000</td>\n",
       "      <td>1015.000000</td>\n",
       "      <td>1015.000000</td>\n",
       "      <td>1015.000000</td>\n",
       "      <td>1015.000000</td>\n",
       "      <td>1015.000000</td>\n",
       "      <td>1015.000000</td>\n",
       "      <td>1015.000000</td>\n",
       "      <td>1015.0</td>\n",
       "      <td>1015.000000</td>\n",
       "      <td>1015.000000</td>\n",
       "      <td>1015.000000</td>\n",
       "      <td>1015.000000</td>\n",
       "      <td>1015.000000</td>\n",
       "      <td>1015.0</td>\n",
       "      <td>1015.000000</td>\n",
       "      <td>1015.000000</td>\n",
       "      <td>1015.000000</td>\n",
       "      <td>1015.000000</td>\n",
       "      <td>1015.000000</td>\n",
       "      <td>1015.000000</td>\n",
       "      <td>1015.000000</td>\n",
       "      <td>1015.000000</td>\n",
       "      <td>1015.000000</td>\n",
       "      <td>1015.0</td>\n",
       "      <td>1015.000000</td>\n",
       "    </tr>\n",
       "    <tr>\n",
       "      <th>mean</th>\n",
       "      <td>7.379736e+06</td>\n",
       "      <td>82619.813793</td>\n",
       "      <td>0.089655</td>\n",
       "      <td>6.808867</td>\n",
       "      <td>15.543448</td>\n",
       "      <td>56.472861</td>\n",
       "      <td>1.325358</td>\n",
       "      <td>0.492091</td>\n",
       "      <td>0.0</td>\n",
       "      <td>0.022660</td>\n",
       "      <td>0.073892</td>\n",
       "      <td>0.116256</td>\n",
       "      <td>0.145813</td>\n",
       "      <td>0.087685</td>\n",
       "      <td>0.466010</td>\n",
       "      <td>0.087685</td>\n",
       "      <td>0.447291</td>\n",
       "      <td>0.092611</td>\n",
       "      <td>0.460099</td>\n",
       "      <td>0.0</td>\n",
       "      <td>0.067980</td>\n",
       "      <td>0.341872</td>\n",
       "      <td>0.038424</td>\n",
       "      <td>0.077833</td>\n",
       "      <td>0.006897</td>\n",
       "      <td>0.0</td>\n",
       "      <td>0.085714</td>\n",
       "      <td>0.084729</td>\n",
       "      <td>0.161576</td>\n",
       "      <td>0.073892</td>\n",
       "      <td>0.061084</td>\n",
       "      <td>0.453202</td>\n",
       "      <td>0.546798</td>\n",
       "      <td>0.476847</td>\n",
       "      <td>0.523153</td>\n",
       "      <td>1.0</td>\n",
       "      <td>11.197837</td>\n",
       "    </tr>\n",
       "    <tr>\n",
       "      <th>std</th>\n",
       "      <td>1.539498e+06</td>\n",
       "      <td>47613.363274</td>\n",
       "      <td>0.285828</td>\n",
       "      <td>3.683338</td>\n",
       "      <td>7.931744</td>\n",
       "      <td>26.940319</td>\n",
       "      <td>5.888805</td>\n",
       "      <td>0.292479</td>\n",
       "      <td>0.0</td>\n",
       "      <td>0.148891</td>\n",
       "      <td>0.261723</td>\n",
       "      <td>0.320690</td>\n",
       "      <td>0.353092</td>\n",
       "      <td>0.282975</td>\n",
       "      <td>0.499089</td>\n",
       "      <td>0.282975</td>\n",
       "      <td>0.497459</td>\n",
       "      <td>0.290029</td>\n",
       "      <td>0.498651</td>\n",
       "      <td>0.0</td>\n",
       "      <td>0.251836</td>\n",
       "      <td>0.474571</td>\n",
       "      <td>0.192311</td>\n",
       "      <td>0.268040</td>\n",
       "      <td>0.082799</td>\n",
       "      <td>0.0</td>\n",
       "      <td>0.280080</td>\n",
       "      <td>0.278615</td>\n",
       "      <td>0.368243</td>\n",
       "      <td>0.261723</td>\n",
       "      <td>0.239602</td>\n",
       "      <td>0.498051</td>\n",
       "      <td>0.498051</td>\n",
       "      <td>0.499710</td>\n",
       "      <td>0.499710</td>\n",
       "      <td>0.0</td>\n",
       "      <td>0.487064</td>\n",
       "    </tr>\n",
       "    <tr>\n",
       "      <th>min</th>\n",
       "      <td>6.948910e+05</td>\n",
       "      <td>12000.000000</td>\n",
       "      <td>0.000000</td>\n",
       "      <td>0.000000</td>\n",
       "      <td>0.000000</td>\n",
       "      <td>0.000000</td>\n",
       "      <td>0.000000</td>\n",
       "      <td>0.000217</td>\n",
       "      <td>0.0</td>\n",
       "      <td>0.000000</td>\n",
       "      <td>0.000000</td>\n",
       "      <td>0.000000</td>\n",
       "      <td>0.000000</td>\n",
       "      <td>0.000000</td>\n",
       "      <td>0.000000</td>\n",
       "      <td>0.000000</td>\n",
       "      <td>0.000000</td>\n",
       "      <td>0.000000</td>\n",
       "      <td>0.000000</td>\n",
       "      <td>0.0</td>\n",
       "      <td>0.000000</td>\n",
       "      <td>0.000000</td>\n",
       "      <td>0.000000</td>\n",
       "      <td>0.000000</td>\n",
       "      <td>0.000000</td>\n",
       "      <td>0.0</td>\n",
       "      <td>0.000000</td>\n",
       "      <td>0.000000</td>\n",
       "      <td>0.000000</td>\n",
       "      <td>0.000000</td>\n",
       "      <td>0.000000</td>\n",
       "      <td>0.000000</td>\n",
       "      <td>0.000000</td>\n",
       "      <td>0.000000</td>\n",
       "      <td>0.000000</td>\n",
       "      <td>1.0</td>\n",
       "      <td>9.392745</td>\n",
       "    </tr>\n",
       "    <tr>\n",
       "      <th>25%</th>\n",
       "      <td>6.162652e+06</td>\n",
       "      <td>53000.000000</td>\n",
       "      <td>0.000000</td>\n",
       "      <td>3.000000</td>\n",
       "      <td>9.265000</td>\n",
       "      <td>36.600000</td>\n",
       "      <td>0.000000</td>\n",
       "      <td>0.229017</td>\n",
       "      <td>0.0</td>\n",
       "      <td>0.000000</td>\n",
       "      <td>0.000000</td>\n",
       "      <td>0.000000</td>\n",
       "      <td>0.000000</td>\n",
       "      <td>0.000000</td>\n",
       "      <td>0.000000</td>\n",
       "      <td>0.000000</td>\n",
       "      <td>0.000000</td>\n",
       "      <td>0.000000</td>\n",
       "      <td>0.000000</td>\n",
       "      <td>0.0</td>\n",
       "      <td>0.000000</td>\n",
       "      <td>0.000000</td>\n",
       "      <td>0.000000</td>\n",
       "      <td>0.000000</td>\n",
       "      <td>0.000000</td>\n",
       "      <td>0.0</td>\n",
       "      <td>0.000000</td>\n",
       "      <td>0.000000</td>\n",
       "      <td>0.000000</td>\n",
       "      <td>0.000000</td>\n",
       "      <td>0.000000</td>\n",
       "      <td>0.000000</td>\n",
       "      <td>0.000000</td>\n",
       "      <td>0.000000</td>\n",
       "      <td>0.000000</td>\n",
       "      <td>1.0</td>\n",
       "      <td>10.878066</td>\n",
       "    </tr>\n",
       "    <tr>\n",
       "      <th>50%</th>\n",
       "      <td>7.088352e+06</td>\n",
       "      <td>71352.000000</td>\n",
       "      <td>0.000000</td>\n",
       "      <td>7.000000</td>\n",
       "      <td>15.470000</td>\n",
       "      <td>59.600000</td>\n",
       "      <td>0.000000</td>\n",
       "      <td>0.498535</td>\n",
       "      <td>0.0</td>\n",
       "      <td>0.000000</td>\n",
       "      <td>0.000000</td>\n",
       "      <td>0.000000</td>\n",
       "      <td>0.000000</td>\n",
       "      <td>0.000000</td>\n",
       "      <td>0.000000</td>\n",
       "      <td>0.000000</td>\n",
       "      <td>0.000000</td>\n",
       "      <td>0.000000</td>\n",
       "      <td>0.000000</td>\n",
       "      <td>0.0</td>\n",
       "      <td>0.000000</td>\n",
       "      <td>0.000000</td>\n",
       "      <td>0.000000</td>\n",
       "      <td>0.000000</td>\n",
       "      <td>0.000000</td>\n",
       "      <td>0.0</td>\n",
       "      <td>0.000000</td>\n",
       "      <td>0.000000</td>\n",
       "      <td>0.000000</td>\n",
       "      <td>0.000000</td>\n",
       "      <td>0.000000</td>\n",
       "      <td>0.000000</td>\n",
       "      <td>1.000000</td>\n",
       "      <td>0.000000</td>\n",
       "      <td>1.000000</td>\n",
       "      <td>1.0</td>\n",
       "      <td>11.175395</td>\n",
       "    </tr>\n",
       "    <tr>\n",
       "      <th>75%</th>\n",
       "      <td>8.578960e+06</td>\n",
       "      <td>100000.000000</td>\n",
       "      <td>0.000000</td>\n",
       "      <td>11.000000</td>\n",
       "      <td>21.220000</td>\n",
       "      <td>79.250000</td>\n",
       "      <td>0.000000</td>\n",
       "      <td>0.736688</td>\n",
       "      <td>0.0</td>\n",
       "      <td>0.000000</td>\n",
       "      <td>0.000000</td>\n",
       "      <td>0.000000</td>\n",
       "      <td>0.000000</td>\n",
       "      <td>0.000000</td>\n",
       "      <td>1.000000</td>\n",
       "      <td>0.000000</td>\n",
       "      <td>1.000000</td>\n",
       "      <td>0.000000</td>\n",
       "      <td>1.000000</td>\n",
       "      <td>0.0</td>\n",
       "      <td>0.000000</td>\n",
       "      <td>1.000000</td>\n",
       "      <td>0.000000</td>\n",
       "      <td>0.000000</td>\n",
       "      <td>0.000000</td>\n",
       "      <td>0.0</td>\n",
       "      <td>0.000000</td>\n",
       "      <td>0.000000</td>\n",
       "      <td>0.000000</td>\n",
       "      <td>0.000000</td>\n",
       "      <td>0.000000</td>\n",
       "      <td>1.000000</td>\n",
       "      <td>1.000000</td>\n",
       "      <td>1.000000</td>\n",
       "      <td>1.000000</td>\n",
       "      <td>1.0</td>\n",
       "      <td>11.512935</td>\n",
       "    </tr>\n",
       "    <tr>\n",
       "      <th>max</th>\n",
       "      <td>1.133533e+07</td>\n",
       "      <td>500000.000000</td>\n",
       "      <td>1.000000</td>\n",
       "      <td>11.000000</td>\n",
       "      <td>34.980000</td>\n",
       "      <td>101.700000</td>\n",
       "      <td>49.550000</td>\n",
       "      <td>0.996437</td>\n",
       "      <td>0.0</td>\n",
       "      <td>1.000000</td>\n",
       "      <td>1.000000</td>\n",
       "      <td>1.000000</td>\n",
       "      <td>1.000000</td>\n",
       "      <td>1.000000</td>\n",
       "      <td>1.000000</td>\n",
       "      <td>1.000000</td>\n",
       "      <td>1.000000</td>\n",
       "      <td>1.000000</td>\n",
       "      <td>1.000000</td>\n",
       "      <td>0.0</td>\n",
       "      <td>1.000000</td>\n",
       "      <td>1.000000</td>\n",
       "      <td>1.000000</td>\n",
       "      <td>1.000000</td>\n",
       "      <td>1.000000</td>\n",
       "      <td>0.0</td>\n",
       "      <td>1.000000</td>\n",
       "      <td>1.000000</td>\n",
       "      <td>1.000000</td>\n",
       "      <td>1.000000</td>\n",
       "      <td>1.000000</td>\n",
       "      <td>1.000000</td>\n",
       "      <td>1.000000</td>\n",
       "      <td>1.000000</td>\n",
       "      <td>1.000000</td>\n",
       "      <td>1.0</td>\n",
       "      <td>13.122365</td>\n",
       "    </tr>\n",
       "  </tbody>\n",
       "</table>\n",
       "</div>"
      ],
      "text/plain": [
       "                 id  annual_income  short_employee  emp_length_num  \\\n",
       "count  1.015000e+03    1015.000000     1015.000000     1015.000000   \n",
       "mean   7.379736e+06   82619.813793        0.089655        6.808867   \n",
       "std    1.539498e+06   47613.363274        0.285828        3.683338   \n",
       "min    6.948910e+05   12000.000000        0.000000        0.000000   \n",
       "25%    6.162652e+06   53000.000000        0.000000        3.000000   \n",
       "50%    7.088352e+06   71352.000000        0.000000        7.000000   \n",
       "75%    8.578960e+06  100000.000000        0.000000       11.000000   \n",
       "max    1.133533e+07  500000.000000        1.000000       11.000000   \n",
       "\n",
       "       Debt-To-Income Ratio   revol_util  total_rec_late_fee     od_ratio  \\\n",
       "count           1015.000000  1015.000000         1015.000000  1015.000000   \n",
       "mean              15.543448    56.472861            1.325358     0.492091   \n",
       "std                7.931744    26.940319            5.888805     0.292479   \n",
       "min                0.000000     0.000000            0.000000     0.000217   \n",
       "25%                9.265000    36.600000            0.000000     0.229017   \n",
       "50%               15.470000    59.600000            0.000000     0.498535   \n",
       "75%               21.220000    79.250000            0.000000     0.736688   \n",
       "max               34.980000   101.700000           49.550000     0.996437   \n",
       "\n",
       "       bad_loan      grade_A      grade_B      grade_C      grade_D  \\\n",
       "count    1015.0  1015.000000  1015.000000  1015.000000  1015.000000   \n",
       "mean        0.0     0.022660     0.073892     0.116256     0.145813   \n",
       "std         0.0     0.148891     0.261723     0.320690     0.353092   \n",
       "min         0.0     0.000000     0.000000     0.000000     0.000000   \n",
       "25%         0.0     0.000000     0.000000     0.000000     0.000000   \n",
       "50%         0.0     0.000000     0.000000     0.000000     0.000000   \n",
       "75%         0.0     0.000000     0.000000     0.000000     0.000000   \n",
       "max         0.0     1.000000     1.000000     1.000000     1.000000   \n",
       "\n",
       "           grade_E      grade_F      grade_G  home_ownership_MORTGAGE  \\\n",
       "count  1015.000000  1015.000000  1015.000000              1015.000000   \n",
       "mean      0.087685     0.466010     0.087685                 0.447291   \n",
       "std       0.282975     0.499089     0.282975                 0.497459   \n",
       "min       0.000000     0.000000     0.000000                 0.000000   \n",
       "25%       0.000000     0.000000     0.000000                 0.000000   \n",
       "50%       0.000000     0.000000     0.000000                 0.000000   \n",
       "75%       0.000000     1.000000     0.000000                 1.000000   \n",
       "max       1.000000     1.000000     1.000000                 1.000000   \n",
       "\n",
       "       home_ownership_OWN  home_ownership_RENT  purpose_car  \\\n",
       "count         1015.000000          1015.000000       1015.0   \n",
       "mean             0.092611             0.460099          0.0   \n",
       "std              0.290029             0.498651          0.0   \n",
       "min              0.000000             0.000000          0.0   \n",
       "25%              0.000000             0.000000          0.0   \n",
       "50%              0.000000             0.000000          0.0   \n",
       "75%              0.000000             1.000000          0.0   \n",
       "max              1.000000             1.000000          0.0   \n",
       "\n",
       "       purpose_credit_card  purpose_debt_consolidation  \\\n",
       "count          1015.000000                 1015.000000   \n",
       "mean              0.067980                    0.341872   \n",
       "std               0.251836                    0.474571   \n",
       "min               0.000000                    0.000000   \n",
       "25%               0.000000                    0.000000   \n",
       "50%               0.000000                    0.000000   \n",
       "75%               0.000000                    1.000000   \n",
       "max               1.000000                    1.000000   \n",
       "\n",
       "       purpose_home_improvement  purpose_house  purpose_major_purchase  \\\n",
       "count               1015.000000    1015.000000             1015.000000   \n",
       "mean                   0.038424       0.077833                0.006897   \n",
       "std                    0.192311       0.268040                0.082799   \n",
       "min                    0.000000       0.000000                0.000000   \n",
       "25%                    0.000000       0.000000                0.000000   \n",
       "50%                    0.000000       0.000000                0.000000   \n",
       "75%                    0.000000       0.000000                0.000000   \n",
       "max                    1.000000       1.000000                1.000000   \n",
       "\n",
       "       purpose_medical  purpose_moving  purpose_other  purpose_small_business  \\\n",
       "count           1015.0     1015.000000    1015.000000             1015.000000   \n",
       "mean               0.0        0.085714       0.084729                0.161576   \n",
       "std                0.0        0.280080       0.278615                0.368243   \n",
       "min                0.0        0.000000       0.000000                0.000000   \n",
       "25%                0.0        0.000000       0.000000                0.000000   \n",
       "50%                0.0        0.000000       0.000000                0.000000   \n",
       "75%                0.0        0.000000       0.000000                0.000000   \n",
       "max                0.0        1.000000       1.000000                1.000000   \n",
       "\n",
       "       purpose_vacation  purpose_wedding  term_36 months  term_60 months  \\\n",
       "count       1015.000000      1015.000000     1015.000000     1015.000000   \n",
       "mean           0.073892         0.061084        0.453202        0.546798   \n",
       "std            0.261723         0.239602        0.498051        0.498051   \n",
       "min            0.000000         0.000000        0.000000        0.000000   \n",
       "25%            0.000000         0.000000        0.000000        0.000000   \n",
       "50%            0.000000         0.000000        0.000000        1.000000   \n",
       "75%            0.000000         0.000000        1.000000        1.000000   \n",
       "max            1.000000         1.000000        1.000000        1.000000   \n",
       "\n",
       "       last_delinq_none_0  last_delinq_none_1  anomaly  annual_income_log  \n",
       "count         1015.000000         1015.000000   1015.0        1015.000000  \n",
       "mean             0.476847            0.523153      1.0          11.197837  \n",
       "std              0.499710            0.499710      0.0           0.487064  \n",
       "min              0.000000            0.000000      1.0           9.392745  \n",
       "25%              0.000000            0.000000      1.0          10.878066  \n",
       "50%              0.000000            1.000000      1.0          11.175395  \n",
       "75%              1.000000            1.000000      1.0          11.512935  \n",
       "max              1.000000            1.000000      1.0          13.122365  "
      ]
     },
     "execution_count": 249,
     "metadata": {},
     "output_type": "execute_result"
    }
   ],
   "source": [
    "df_good_loan[df_good_loan['anomaly']==1].describe()"
   ]
  },
  {
   "cell_type": "code",
   "execution_count": 253,
   "id": "05540a8a",
   "metadata": {},
   "outputs": [
    {
     "data": {
      "image/png": "[encoded data removed]",
      "text/plain": [
       "<Figure size 600x2000 with 6 Axes>"
      ]
     },
     "metadata": {},
     "output_type": "display_data"
    }
   ],
   "source": [
    "fig,ax = plt.subplots(6,1,figsize=(6,20))\n",
    "\n",
    "sns.violinplot(y='annual_income_log',\n",
    "                x = 'anomaly', \n",
    "                data=df_good_loan, \n",
    "                ax=ax[0]);\n",
    "\n",
    "sns.violinplot(y='Debt-To-Income Ratio',\n",
    "                x = 'anomaly', \n",
    "                data=df_good_loan, \n",
    "                ax=ax[1]);\n",
    "\n",
    "sns.violinplot(y='revol_util',\n",
    "                x = 'anomaly', \n",
    "                data=df_good_loan, \n",
    "                ax=ax[2]);\n",
    "\n",
    "sns.violinplot(y='total_rec_late_fee',\n",
    "                x = 'anomaly', \n",
    "                data=df_good_loan, \n",
    "                ax=ax[3]);\n",
    "\n",
    "sns.violinplot(y='emp_length_num',\n",
    "                x = 'anomaly', \n",
    "                data=df_good_loan, \n",
    "                ax=ax[4]);\n",
    "\n",
    "sns.violinplot(y='od_ratio',\n",
    "                x = 'anomaly', \n",
    "                data=df_good_loan, \n",
    "                ax=ax[5]);"
   ]
  },
  {
   "cell_type": "code",
   "execution_count": 254,
   "id": "4f6266d5",
   "metadata": {},
   "outputs": [
    {
     "data": {
      "text/plain": [
       "Int64Index([    0,     1,     4,     7,     8,     9,    10,    11,    13,\n",
       "               14,\n",
       "            ...\n",
       "            18357, 18359, 18361, 18362, 18363, 18364, 18366, 18367, 18368,\n",
       "            18369],\n",
       "           dtype='int64', length=14687)"
      ]
     },
     "execution_count": 254,
     "metadata": {},
     "output_type": "execute_result"
    }
   ],
   "source": [
    "ind = df_good_loan.index\n",
    "ind"
   ]
  },
  {
   "cell_type": "code",
   "execution_count": 255,
   "id": "43a928eb",
   "metadata": {},
   "outputs": [
    {
     "data": {
      "text/plain": [
       "id                        9767996\n",
       "grade                           G\n",
       "annual_income               60000\n",
       "short_employee                  0\n",
       "emp_length_num                 11\n",
       "home_ownership           MORTGAGE\n",
       "Debt-To-Income Ratio        26.27\n",
       "purpose                   medical\n",
       "term                    60 months\n",
       "last_delinq_none                0\n",
       "revol_util                   94.1\n",
       "total_rec_late_fee            0.0\n",
       "od_ratio                 0.674835\n",
       "bad_loan                        0\n",
       "annual_income_log       11.002117\n",
       "Name: 8, dtype: object"
      ]
     },
     "execution_count": 255,
     "metadata": {},
     "output_type": "execute_result"
    }
   ],
   "source": [
    "df_no_dummy = pd.read_csv('Loan_Dataset_3.csv')\n",
    "df_no_dummy.iloc[8,:]"
   ]
  },
  {
   "cell_type": "code",
   "execution_count": 256,
   "id": "5096845b",
   "metadata": {},
   "outputs": [
    {
     "data": {
      "text/html": [
       "<div>\n",
       "<style scoped>\n",
       "    .dataframe tbody tr th:only-of-type {\n",
       "        vertical-align: middle;\n",
       "    }\n",
       "\n",
       "    .dataframe tbody tr th {\n",
       "        vertical-align: top;\n",
       "    }\n",
       "\n",
       "    .dataframe thead th {\n",
       "        text-align: right;\n",
       "    }\n",
       "</style>\n",
       "<table border=\"1\" class=\"dataframe\">\n",
       "  <thead>\n",
       "    <tr style=\"text-align: right;\">\n",
       "      <th></th>\n",
       "      <th>id</th>\n",
       "      <th>annual_income</th>\n",
       "      <th>short_employee</th>\n",
       "      <th>emp_length_num</th>\n",
       "      <th>Debt-To-Income Ratio</th>\n",
       "      <th>revol_util</th>\n",
       "      <th>total_rec_late_fee</th>\n",
       "      <th>od_ratio</th>\n",
       "      <th>bad_loan</th>\n",
       "      <th>grade_A</th>\n",
       "      <th>grade_B</th>\n",
       "      <th>grade_C</th>\n",
       "      <th>grade_D</th>\n",
       "      <th>grade_E</th>\n",
       "      <th>grade_F</th>\n",
       "      <th>grade_G</th>\n",
       "      <th>home_ownership_MORTGAGE</th>\n",
       "      <th>home_ownership_OWN</th>\n",
       "      <th>home_ownership_RENT</th>\n",
       "      <th>purpose_car</th>\n",
       "      <th>purpose_credit_card</th>\n",
       "      <th>purpose_debt_consolidation</th>\n",
       "      <th>purpose_home_improvement</th>\n",
       "      <th>purpose_house</th>\n",
       "      <th>purpose_major_purchase</th>\n",
       "      <th>purpose_medical</th>\n",
       "      <th>purpose_moving</th>\n",
       "      <th>purpose_other</th>\n",
       "      <th>purpose_small_business</th>\n",
       "      <th>purpose_vacation</th>\n",
       "      <th>purpose_wedding</th>\n",
       "      <th>term_36 months</th>\n",
       "      <th>term_60 months</th>\n",
       "      <th>last_delinq_none_0</th>\n",
       "      <th>last_delinq_none_1</th>\n",
       "      <th>anomaly</th>\n",
       "      <th>annual_income_log</th>\n",
       "    </tr>\n",
       "  </thead>\n",
       "  <tbody>\n",
       "    <tr>\n",
       "      <th>0</th>\n",
       "      <td>11454641</td>\n",
       "      <td>100000</td>\n",
       "      <td>1</td>\n",
       "      <td>1</td>\n",
       "      <td>26.27</td>\n",
       "      <td>43.2</td>\n",
       "      <td>0.0</td>\n",
       "      <td>0.160624</td>\n",
       "      <td>0</td>\n",
       "      <td>1</td>\n",
       "      <td>0</td>\n",
       "      <td>0</td>\n",
       "      <td>0</td>\n",
       "      <td>0</td>\n",
       "      <td>0</td>\n",
       "      <td>0</td>\n",
       "      <td>0</td>\n",
       "      <td>0</td>\n",
       "      <td>1</td>\n",
       "      <td>0</td>\n",
       "      <td>1</td>\n",
       "      <td>0</td>\n",
       "      <td>0</td>\n",
       "      <td>0</td>\n",
       "      <td>0</td>\n",
       "      <td>0</td>\n",
       "      <td>0</td>\n",
       "      <td>0</td>\n",
       "      <td>0</td>\n",
       "      <td>0</td>\n",
       "      <td>0</td>\n",
       "      <td>1</td>\n",
       "      <td>0</td>\n",
       "      <td>0</td>\n",
       "      <td>1</td>\n",
       "      <td>0</td>\n",
       "      <td>11.512935</td>\n",
       "    </tr>\n",
       "    <tr>\n",
       "      <th>1</th>\n",
       "      <td>9604874</td>\n",
       "      <td>83000</td>\n",
       "      <td>0</td>\n",
       "      <td>4</td>\n",
       "      <td>5.39</td>\n",
       "      <td>21.5</td>\n",
       "      <td>0.0</td>\n",
       "      <td>0.810777</td>\n",
       "      <td>0</td>\n",
       "      <td>1</td>\n",
       "      <td>0</td>\n",
       "      <td>0</td>\n",
       "      <td>0</td>\n",
       "      <td>0</td>\n",
       "      <td>0</td>\n",
       "      <td>0</td>\n",
       "      <td>0</td>\n",
       "      <td>1</td>\n",
       "      <td>0</td>\n",
       "      <td>0</td>\n",
       "      <td>1</td>\n",
       "      <td>0</td>\n",
       "      <td>0</td>\n",
       "      <td>0</td>\n",
       "      <td>0</td>\n",
       "      <td>0</td>\n",
       "      <td>0</td>\n",
       "      <td>0</td>\n",
       "      <td>0</td>\n",
       "      <td>0</td>\n",
       "      <td>0</td>\n",
       "      <td>1</td>\n",
       "      <td>0</td>\n",
       "      <td>1</td>\n",
       "      <td>0</td>\n",
       "      <td>0</td>\n",
       "      <td>11.326608</td>\n",
       "    </tr>\n",
       "    <tr>\n",
       "      <th>4</th>\n",
       "      <td>9795013</td>\n",
       "      <td>65000</td>\n",
       "      <td>0</td>\n",
       "      <td>11</td>\n",
       "      <td>11.26</td>\n",
       "      <td>15.2</td>\n",
       "      <td>0.0</td>\n",
       "      <td>0.166500</td>\n",
       "      <td>0</td>\n",
       "      <td>0</td>\n",
       "      <td>0</td>\n",
       "      <td>0</td>\n",
       "      <td>1</td>\n",
       "      <td>0</td>\n",
       "      <td>0</td>\n",
       "      <td>0</td>\n",
       "      <td>1</td>\n",
       "      <td>0</td>\n",
       "      <td>0</td>\n",
       "      <td>0</td>\n",
       "      <td>0</td>\n",
       "      <td>1</td>\n",
       "      <td>0</td>\n",
       "      <td>0</td>\n",
       "      <td>0</td>\n",
       "      <td>0</td>\n",
       "      <td>0</td>\n",
       "      <td>0</td>\n",
       "      <td>0</td>\n",
       "      <td>0</td>\n",
       "      <td>0</td>\n",
       "      <td>1</td>\n",
       "      <td>0</td>\n",
       "      <td>1</td>\n",
       "      <td>0</td>\n",
       "      <td>0</td>\n",
       "      <td>11.082158</td>\n",
       "    </tr>\n",
       "    <tr>\n",
       "      <th>7</th>\n",
       "      <td>7450630</td>\n",
       "      <td>96000</td>\n",
       "      <td>1</td>\n",
       "      <td>1</td>\n",
       "      <td>6.41</td>\n",
       "      <td>55.9</td>\n",
       "      <td>0.0</td>\n",
       "      <td>0.238576</td>\n",
       "      <td>0</td>\n",
       "      <td>0</td>\n",
       "      <td>0</td>\n",
       "      <td>0</td>\n",
       "      <td>1</td>\n",
       "      <td>0</td>\n",
       "      <td>0</td>\n",
       "      <td>0</td>\n",
       "      <td>0</td>\n",
       "      <td>0</td>\n",
       "      <td>1</td>\n",
       "      <td>0</td>\n",
       "      <td>0</td>\n",
       "      <td>0</td>\n",
       "      <td>0</td>\n",
       "      <td>0</td>\n",
       "      <td>0</td>\n",
       "      <td>0</td>\n",
       "      <td>0</td>\n",
       "      <td>1</td>\n",
       "      <td>0</td>\n",
       "      <td>0</td>\n",
       "      <td>0</td>\n",
       "      <td>1</td>\n",
       "      <td>0</td>\n",
       "      <td>1</td>\n",
       "      <td>0</td>\n",
       "      <td>0</td>\n",
       "      <td>11.472114</td>\n",
       "    </tr>\n",
       "    <tr>\n",
       "      <th>8</th>\n",
       "      <td>9767996</td>\n",
       "      <td>60000</td>\n",
       "      <td>0</td>\n",
       "      <td>11</td>\n",
       "      <td>26.27</td>\n",
       "      <td>94.1</td>\n",
       "      <td>0.0</td>\n",
       "      <td>0.674835</td>\n",
       "      <td>0</td>\n",
       "      <td>0</td>\n",
       "      <td>0</td>\n",
       "      <td>0</td>\n",
       "      <td>0</td>\n",
       "      <td>0</td>\n",
       "      <td>0</td>\n",
       "      <td>1</td>\n",
       "      <td>1</td>\n",
       "      <td>0</td>\n",
       "      <td>0</td>\n",
       "      <td>0</td>\n",
       "      <td>0</td>\n",
       "      <td>0</td>\n",
       "      <td>0</td>\n",
       "      <td>0</td>\n",
       "      <td>0</td>\n",
       "      <td>1</td>\n",
       "      <td>0</td>\n",
       "      <td>0</td>\n",
       "      <td>0</td>\n",
       "      <td>0</td>\n",
       "      <td>0</td>\n",
       "      <td>0</td>\n",
       "      <td>1</td>\n",
       "      <td>1</td>\n",
       "      <td>0</td>\n",
       "      <td>0</td>\n",
       "      <td>11.002117</td>\n",
       "    </tr>\n",
       "    <tr>\n",
       "      <th>...</th>\n",
       "      <td>...</td>\n",
       "      <td>...</td>\n",
       "      <td>...</td>\n",
       "      <td>...</td>\n",
       "      <td>...</td>\n",
       "      <td>...</td>\n",
       "      <td>...</td>\n",
       "      <td>...</td>\n",
       "      <td>...</td>\n",
       "      <td>...</td>\n",
       "      <td>...</td>\n",
       "      <td>...</td>\n",
       "      <td>...</td>\n",
       "      <td>...</td>\n",
       "      <td>...</td>\n",
       "      <td>...</td>\n",
       "      <td>...</td>\n",
       "      <td>...</td>\n",
       "      <td>...</td>\n",
       "      <td>...</td>\n",
       "      <td>...</td>\n",
       "      <td>...</td>\n",
       "      <td>...</td>\n",
       "      <td>...</td>\n",
       "      <td>...</td>\n",
       "      <td>...</td>\n",
       "      <td>...</td>\n",
       "      <td>...</td>\n",
       "      <td>...</td>\n",
       "      <td>...</td>\n",
       "      <td>...</td>\n",
       "      <td>...</td>\n",
       "      <td>...</td>\n",
       "      <td>...</td>\n",
       "      <td>...</td>\n",
       "      <td>...</td>\n",
       "      <td>...</td>\n",
       "    </tr>\n",
       "    <tr>\n",
       "      <th>18364</th>\n",
       "      <td>6615725</td>\n",
       "      <td>55000</td>\n",
       "      <td>0</td>\n",
       "      <td>8</td>\n",
       "      <td>20.07</td>\n",
       "      <td>48.9</td>\n",
       "      <td>0.0</td>\n",
       "      <td>0.648554</td>\n",
       "      <td>0</td>\n",
       "      <td>0</td>\n",
       "      <td>0</td>\n",
       "      <td>0</td>\n",
       "      <td>0</td>\n",
       "      <td>1</td>\n",
       "      <td>0</td>\n",
       "      <td>0</td>\n",
       "      <td>1</td>\n",
       "      <td>0</td>\n",
       "      <td>0</td>\n",
       "      <td>0</td>\n",
       "      <td>0</td>\n",
       "      <td>1</td>\n",
       "      <td>0</td>\n",
       "      <td>0</td>\n",
       "      <td>0</td>\n",
       "      <td>0</td>\n",
       "      <td>0</td>\n",
       "      <td>0</td>\n",
       "      <td>0</td>\n",
       "      <td>0</td>\n",
       "      <td>0</td>\n",
       "      <td>0</td>\n",
       "      <td>1</td>\n",
       "      <td>0</td>\n",
       "      <td>1</td>\n",
       "      <td>0</td>\n",
       "      <td>10.915107</td>\n",
       "    </tr>\n",
       "    <tr>\n",
       "      <th>18366</th>\n",
       "      <td>1576331</td>\n",
       "      <td>45000</td>\n",
       "      <td>0</td>\n",
       "      <td>2</td>\n",
       "      <td>23.22</td>\n",
       "      <td>46.2</td>\n",
       "      <td>0.0</td>\n",
       "      <td>0.652200</td>\n",
       "      <td>0</td>\n",
       "      <td>0</td>\n",
       "      <td>1</td>\n",
       "      <td>0</td>\n",
       "      <td>0</td>\n",
       "      <td>0</td>\n",
       "      <td>0</td>\n",
       "      <td>0</td>\n",
       "      <td>1</td>\n",
       "      <td>0</td>\n",
       "      <td>0</td>\n",
       "      <td>0</td>\n",
       "      <td>0</td>\n",
       "      <td>0</td>\n",
       "      <td>0</td>\n",
       "      <td>0</td>\n",
       "      <td>1</td>\n",
       "      <td>0</td>\n",
       "      <td>0</td>\n",
       "      <td>0</td>\n",
       "      <td>0</td>\n",
       "      <td>0</td>\n",
       "      <td>0</td>\n",
       "      <td>1</td>\n",
       "      <td>0</td>\n",
       "      <td>1</td>\n",
       "      <td>0</td>\n",
       "      <td>0</td>\n",
       "      <td>10.714440</td>\n",
       "    </tr>\n",
       "    <tr>\n",
       "      <th>18367</th>\n",
       "      <td>6645736</td>\n",
       "      <td>104000</td>\n",
       "      <td>0</td>\n",
       "      <td>5</td>\n",
       "      <td>13.27</td>\n",
       "      <td>78.5</td>\n",
       "      <td>0.0</td>\n",
       "      <td>0.482555</td>\n",
       "      <td>0</td>\n",
       "      <td>0</td>\n",
       "      <td>1</td>\n",
       "      <td>0</td>\n",
       "      <td>0</td>\n",
       "      <td>0</td>\n",
       "      <td>0</td>\n",
       "      <td>0</td>\n",
       "      <td>1</td>\n",
       "      <td>0</td>\n",
       "      <td>0</td>\n",
       "      <td>0</td>\n",
       "      <td>0</td>\n",
       "      <td>1</td>\n",
       "      <td>0</td>\n",
       "      <td>0</td>\n",
       "      <td>0</td>\n",
       "      <td>0</td>\n",
       "      <td>0</td>\n",
       "      <td>0</td>\n",
       "      <td>0</td>\n",
       "      <td>0</td>\n",
       "      <td>0</td>\n",
       "      <td>1</td>\n",
       "      <td>0</td>\n",
       "      <td>0</td>\n",
       "      <td>1</td>\n",
       "      <td>0</td>\n",
       "      <td>11.552156</td>\n",
       "    </tr>\n",
       "    <tr>\n",
       "      <th>18368</th>\n",
       "      <td>6625736</td>\n",
       "      <td>38400</td>\n",
       "      <td>0</td>\n",
       "      <td>2</td>\n",
       "      <td>12.84</td>\n",
       "      <td>47.4</td>\n",
       "      <td>0.0</td>\n",
       "      <td>0.822980</td>\n",
       "      <td>0</td>\n",
       "      <td>1</td>\n",
       "      <td>0</td>\n",
       "      <td>0</td>\n",
       "      <td>0</td>\n",
       "      <td>0</td>\n",
       "      <td>0</td>\n",
       "      <td>0</td>\n",
       "      <td>1</td>\n",
       "      <td>0</td>\n",
       "      <td>0</td>\n",
       "      <td>0</td>\n",
       "      <td>0</td>\n",
       "      <td>1</td>\n",
       "      <td>0</td>\n",
       "      <td>0</td>\n",
       "      <td>0</td>\n",
       "      <td>0</td>\n",
       "      <td>0</td>\n",
       "      <td>0</td>\n",
       "      <td>0</td>\n",
       "      <td>0</td>\n",
       "      <td>0</td>\n",
       "      <td>1</td>\n",
       "      <td>0</td>\n",
       "      <td>1</td>\n",
       "      <td>0</td>\n",
       "      <td>0</td>\n",
       "      <td>10.555839</td>\n",
       "    </tr>\n",
       "    <tr>\n",
       "      <th>18369</th>\n",
       "      <td>6625685</td>\n",
       "      <td>150000</td>\n",
       "      <td>0</td>\n",
       "      <td>11</td>\n",
       "      <td>2.20</td>\n",
       "      <td>40.7</td>\n",
       "      <td>0.0</td>\n",
       "      <td>0.201388</td>\n",
       "      <td>0</td>\n",
       "      <td>0</td>\n",
       "      <td>1</td>\n",
       "      <td>0</td>\n",
       "      <td>0</td>\n",
       "      <td>0</td>\n",
       "      <td>0</td>\n",
       "      <td>0</td>\n",
       "      <td>1</td>\n",
       "      <td>0</td>\n",
       "      <td>0</td>\n",
       "      <td>0</td>\n",
       "      <td>1</td>\n",
       "      <td>0</td>\n",
       "      <td>0</td>\n",
       "      <td>0</td>\n",
       "      <td>0</td>\n",
       "      <td>0</td>\n",
       "      <td>0</td>\n",
       "      <td>0</td>\n",
       "      <td>0</td>\n",
       "      <td>0</td>\n",
       "      <td>0</td>\n",
       "      <td>1</td>\n",
       "      <td>0</td>\n",
       "      <td>1</td>\n",
       "      <td>0</td>\n",
       "      <td>0</td>\n",
       "      <td>11.918397</td>\n",
       "    </tr>\n",
       "  </tbody>\n",
       "</table>\n",
       "<p>14687 rows × 37 columns</p>\n",
       "</div>"
      ],
      "text/plain": [
       "             id  annual_income  short_employee  emp_length_num  \\\n",
       "0      11454641         100000               1               1   \n",
       "1       9604874          83000               0               4   \n",
       "4       9795013          65000               0              11   \n",
       "7       7450630          96000               1               1   \n",
       "8       9767996          60000               0              11   \n",
       "...         ...            ...             ...             ...   \n",
       "18364   6615725          55000               0               8   \n",
       "18366   1576331          45000               0               2   \n",
       "18367   6645736         104000               0               5   \n",
       "18368   6625736          38400               0               2   \n",
       "18369   6625685         150000               0              11   \n",
       "\n",
       "       Debt-To-Income Ratio  revol_util  total_rec_late_fee  od_ratio  \\\n",
       "0                     26.27        43.2                 0.0  0.160624   \n",
       "1                      5.39        21.5                 0.0  0.810777   \n",
       "4                     11.26        15.2                 0.0  0.166500   \n",
       "7                      6.41        55.9                 0.0  0.238576   \n",
       "8                     26.27        94.1                 0.0  0.674835   \n",
       "...                     ...         ...                 ...       ...   \n",
       "18364                 20.07        48.9                 0.0  0.648554   \n",
       "18366                 23.22        46.2                 0.0  0.652200   \n",
       "18367                 13.27        78.5                 0.0  0.482555   \n",
       "18368                 12.84        47.4                 0.0  0.822980   \n",
       "18369                  2.20        40.7                 0.0  0.201388   \n",
       "\n",
       "       bad_loan  grade_A  grade_B  grade_C  grade_D  grade_E  grade_F  \\\n",
       "0             0        1        0        0        0        0        0   \n",
       "1             0        1        0        0        0        0        0   \n",
       "4             0        0        0        0        1        0        0   \n",
       "7             0        0        0        0        1        0        0   \n",
       "8             0        0        0        0        0        0        0   \n",
       "...         ...      ...      ...      ...      ...      ...      ...   \n",
       "18364         0        0        0        0        0        1        0   \n",
       "18366         0        0        1        0        0        0        0   \n",
       "18367         0        0        1        0        0        0        0   \n",
       "18368         0        1        0        0        0        0        0   \n",
       "18369         0        0        1        0        0        0        0   \n",
       "\n",
       "       grade_G  home_ownership_MORTGAGE  home_ownership_OWN  \\\n",
       "0            0                        0                   0   \n",
       "1            0                        0                   1   \n",
       "4            0                        1                   0   \n",
       "7            0                        0                   0   \n",
       "8            1                        1                   0   \n",
       "...        ...                      ...                 ...   \n",
       "18364        0                        1                   0   \n",
       "18366        0                        1                   0   \n",
       "18367        0                        1                   0   \n",
       "18368        0                        1                   0   \n",
       "18369        0                        1                   0   \n",
       "\n",
       "       home_ownership_RENT  purpose_car  purpose_credit_card  \\\n",
       "0                        1            0                    1   \n",
       "1                        0            0                    1   \n",
       "4                        0            0                    0   \n",
       "7                        1            0                    0   \n",
       "8                        0            0                    0   \n",
       "...                    ...          ...                  ...   \n",
       "18364                    0            0                    0   \n",
       "18366                    0            0                    0   \n",
       "18367                    0            0                    0   \n",
       "18368                    0            0                    0   \n",
       "18369                    0            0                    1   \n",
       "\n",
       "       purpose_debt_consolidation  purpose_home_improvement  purpose_house  \\\n",
       "0                               0                         0              0   \n",
       "1                               0                         0              0   \n",
       "4                               1                         0              0   \n",
       "7                               0                         0              0   \n",
       "8                               0                         0              0   \n",
       "...                           ...                       ...            ...   \n",
       "18364                           1                         0              0   \n",
       "18366                           0                         0              0   \n",
       "18367                           1                         0              0   \n",
       "18368                           1                         0              0   \n",
       "18369                           0                         0              0   \n",
       "\n",
       "       purpose_major_purchase  purpose_medical  purpose_moving  purpose_other  \\\n",
       "0                           0                0               0              0   \n",
       "1                           0                0               0              0   \n",
       "4                           0                0               0              0   \n",
       "7                           0                0               0              1   \n",
       "8                           0                1               0              0   \n",
       "...                       ...              ...             ...            ...   \n",
       "18364                       0                0               0              0   \n",
       "18366                       1                0               0              0   \n",
       "18367                       0                0               0              0   \n",
       "18368                       0                0               0              0   \n",
       "18369                       0                0               0              0   \n",
       "\n",
       "       purpose_small_business  purpose_vacation  purpose_wedding  \\\n",
       "0                           0                 0                0   \n",
       "1                           0                 0                0   \n",
       "4                           0                 0                0   \n",
       "7                           0                 0                0   \n",
       "8                           0                 0                0   \n",
       "...                       ...               ...              ...   \n",
       "18364                       0                 0                0   \n",
       "18366                       0                 0                0   \n",
       "18367                       0                 0                0   \n",
       "18368                       0                 0                0   \n",
       "18369                       0                 0                0   \n",
       "\n",
       "       term_36 months  term_60 months  last_delinq_none_0  last_delinq_none_1  \\\n",
       "0                   1               0                   0                   1   \n",
       "1                   1               0                   1                   0   \n",
       "4                   1               0                   1                   0   \n",
       "7                   1               0                   1                   0   \n",
       "8                   0               1                   1                   0   \n",
       "...               ...             ...                 ...                 ...   \n",
       "18364               0               1                   0                   1   \n",
       "18366               1               0                   1                   0   \n",
       "18367               1               0                   0                   1   \n",
       "18368               1               0                   1                   0   \n",
       "18369               1               0                   1                   0   \n",
       "\n",
       "       anomaly  annual_income_log  \n",
       "0            0          11.512935  \n",
       "1            0          11.326608  \n",
       "4            0          11.082158  \n",
       "7            0          11.472114  \n",
       "8            0          11.002117  \n",
       "...        ...                ...  \n",
       "18364        0          10.915107  \n",
       "18366        0          10.714440  \n",
       "18367        0          11.552156  \n",
       "18368        0          10.555839  \n",
       "18369        0          11.918397  \n",
       "\n",
       "[14687 rows x 37 columns]"
      ]
     },
     "execution_count": 256,
     "metadata": {},
     "output_type": "execute_result"
    }
   ],
   "source": [
    "df_good_loan_2 = df_good_loan\n",
    "df_good_loan_2"
   ]
  },
  {
   "cell_type": "code",
   "execution_count": 257,
   "id": "c37de34c",
   "metadata": {},
   "outputs": [
    {
     "data": {
      "text/plain": [
       "0               credit_card\n",
       "1               credit_card\n",
       "4        debt_consolidation\n",
       "7                     other\n",
       "8                   medical\n",
       "                ...        \n",
       "18364    debt_consolidation\n",
       "18366        major_purchase\n",
       "18367    debt_consolidation\n",
       "18368    debt_consolidation\n",
       "18369           credit_card\n",
       "Name: purpose, Length: 14687, dtype: object"
      ]
     },
     "execution_count": 257,
     "metadata": {},
     "output_type": "execute_result"
    }
   ],
   "source": [
    "df_no_dummy.purpose[ind]"
   ]
  },
  {
   "cell_type": "code",
   "execution_count": 258,
   "id": "b4ab277d",
   "metadata": {},
   "outputs": [],
   "source": [
    "df_good_loan_2['purpose'] = df_no_dummy.purpose[ind]\n",
    "df_good_loan_2['grade'] = df_no_dummy.grade[ind]\n",
    "df_good_loan_2['home_ownership'] = df_no_dummy.home_ownership[ind]\n",
    "df_good_loan_2['term'] = df_no_dummy.term[ind]\n",
    "df_good_loan_2['last_delinq_none'] = df_no_dummy.last_delinq_none[ind]"
   ]
  },
  {
   "cell_type": "code",
   "execution_count": 260,
   "id": "7060fef9",
   "metadata": {},
   "outputs": [
    {
     "data": {
      "image/png": "[encoded data removed]",
      "text/plain": [
       "<Figure size 600x3000 with 5 Axes>"
      ]
     },
     "metadata": {},
     "output_type": "display_data"
    }
   ],
   "source": [
    "fig,ax = plt.subplots(5,1,figsize=(6,30))\n",
    "grade_order = ['A', 'B', 'C', 'D', 'E', 'F', 'G']\n",
    "\n",
    "sns.countplot(x=df_good_loan_2.purpose, hue=df_good_loan_2.anomaly, ax=ax[0]);\n",
    "ax[0].set_xticklabels(ax[0].get_xticklabels(), rotation=45)\n",
    "ax[0].set_title('Loan Purpose Distribution');\n",
    "\n",
    "sns.countplot(x=df_good_loan_2.grade, hue=df_good_loan_2.anomaly, order=grade_order, ax=ax[1]);\n",
    "ax[1].set_title('Loan Grade Distribution');\n",
    "\n",
    "sns.countplot(x=df_good_loan_2.home_ownership, hue=df_good_loan_2.anomaly, ax=ax[2]);\n",
    "ax[2].set_title('Home Ownership Distribution');\n",
    "\n",
    "sns.countplot(x=df_good_loan_2.term, hue=df_good_loan_2.anomaly, ax=ax[3]);\n",
    "ax[3].set_title('Loan Term Distribution');\n",
    "\n",
    "sns.countplot(x=df_good_loan_2.last_delinq_none, hue=df_good_loan_2.anomaly, ax=ax[4]);\n",
    "ax[4].set_title('Default Histroy');\n"
   ]
  },
  {
   "cell_type": "code",
   "execution_count": null,
   "id": "35257e0f",
   "metadata": {},
   "outputs": [],
   "source": []
  },
  {
   "cell_type": "code",
   "execution_count": null,
   "id": "c77a1f40",
   "metadata": {},
   "outputs": [],
   "source": []
  },
  {
   "cell_type": "code",
   "execution_count": null,
   "id": "c1219796",
   "metadata": {},
   "outputs": [],
   "source": []
  },
  {
   "cell_type": "code",
   "execution_count": null,
   "id": "dce28752",
   "metadata": {},
   "outputs": [],
   "source": []
  },
  {
   "cell_type": "code",
   "execution_count": 64,
   "id": "72090d57",
   "metadata": {},
   "outputs": [
    {
     "data": {
      "text/plain": [
       "array([0.81825505, 0.18174495])"
      ]
     },
     "execution_count": 64,
     "metadata": {},
     "output_type": "execute_result"
    }
   ],
   "source": [
    "#do the same thing for df_bad_loan\n",
    "gm_2 = GaussianMixture(n_components=2, n_init=20)\n",
    "gm_2.fit(df_bad_loan)\n",
    "gm_2.weights_"
   ]
  },
  {
   "cell_type": "code",
   "execution_count": 65,
   "id": "799b7882",
   "metadata": {},
   "outputs": [
    {
     "data": {
      "text/plain": [
       "(True, 10)"
      ]
     },
     "execution_count": 65,
     "metadata": {},
     "output_type": "execute_result"
    }
   ],
   "source": [
    "gm_2.converged_, gm_2.n_iter_"
   ]
  },
  {
   "cell_type": "code",
   "execution_count": 66,
   "id": "d773bea5",
   "metadata": {},
   "outputs": [
    {
     "data": {
      "text/plain": [
       "array([0, 0, 0, ..., 1, 1, 0])"
      ]
     },
     "execution_count": 66,
     "metadata": {},
     "output_type": "execute_result"
    }
   ],
   "source": [
    "new_label_2 = gm_2.predict(df_bad_loan)\n",
    "new_label_2"
   ]
  },
  {
   "cell_type": "code",
   "execution_count": 67,
   "id": "639f11a9",
   "metadata": {},
   "outputs": [
    {
     "data": {
      "text/plain": [
       "0.18191691555796904"
      ]
     },
     "execution_count": 67,
     "metadata": {},
     "output_type": "execute_result"
    }
   ],
   "source": [
    "#majority is bad loan. matches the assumption\n",
    "new_label_2.mean() "
   ]
  },
  {
   "cell_type": "code",
   "execution_count": 68,
   "id": "e14e6185",
   "metadata": {},
   "outputs": [
    {
     "data": {
      "text/html": [
       "<div>\n",
       "<style scoped>\n",
       "    .dataframe tbody tr th:only-of-type {\n",
       "        vertical-align: middle;\n",
       "    }\n",
       "\n",
       "    .dataframe tbody tr th {\n",
       "        vertical-align: top;\n",
       "    }\n",
       "\n",
       "    .dataframe thead th {\n",
       "        text-align: right;\n",
       "    }\n",
       "</style>\n",
       "<table border=\"1\" class=\"dataframe\">\n",
       "  <thead>\n",
       "    <tr style=\"text-align: right;\">\n",
       "      <th></th>\n",
       "      <th>id</th>\n",
       "      <th>annual_income</th>\n",
       "      <th>short_employee</th>\n",
       "      <th>emp_length_num</th>\n",
       "      <th>Debt-To-Income Ratio</th>\n",
       "      <th>revol_util</th>\n",
       "      <th>total_rec_late_fee</th>\n",
       "      <th>od_ratio</th>\n",
       "      <th>bad_loan</th>\n",
       "      <th>annual_income_log</th>\n",
       "      <th>...</th>\n",
       "      <th>purpose_moving</th>\n",
       "      <th>purpose_other</th>\n",
       "      <th>purpose_small_business</th>\n",
       "      <th>purpose_vacation</th>\n",
       "      <th>purpose_wedding</th>\n",
       "      <th>term_36 months</th>\n",
       "      <th>term_60 months</th>\n",
       "      <th>last_delinq_none_0</th>\n",
       "      <th>last_delinq_none_1</th>\n",
       "      <th>new_label</th>\n",
       "    </tr>\n",
       "  </thead>\n",
       "  <tbody>\n",
       "    <tr>\n",
       "      <th>2</th>\n",
       "      <td>9684700</td>\n",
       "      <td>78000</td>\n",
       "      <td>0</td>\n",
       "      <td>11</td>\n",
       "      <td>18.45</td>\n",
       "      <td>46.3</td>\n",
       "      <td>0.0</td>\n",
       "      <td>0.035147</td>\n",
       "      <td>1</td>\n",
       "      <td>11.264477</td>\n",
       "      <td>...</td>\n",
       "      <td>0</td>\n",
       "      <td>0</td>\n",
       "      <td>0</td>\n",
       "      <td>0</td>\n",
       "      <td>0</td>\n",
       "      <td>0</td>\n",
       "      <td>1</td>\n",
       "      <td>0</td>\n",
       "      <td>1</td>\n",
       "      <td>0</td>\n",
       "    </tr>\n",
       "    <tr>\n",
       "      <th>3</th>\n",
       "      <td>9695736</td>\n",
       "      <td>37536</td>\n",
       "      <td>0</td>\n",
       "      <td>6</td>\n",
       "      <td>12.28</td>\n",
       "      <td>10.7</td>\n",
       "      <td>0.0</td>\n",
       "      <td>0.534887</td>\n",
       "      <td>1</td>\n",
       "      <td>10.533082</td>\n",
       "      <td>...</td>\n",
       "      <td>0</td>\n",
       "      <td>0</td>\n",
       "      <td>0</td>\n",
       "      <td>0</td>\n",
       "      <td>0</td>\n",
       "      <td>0</td>\n",
       "      <td>1</td>\n",
       "      <td>1</td>\n",
       "      <td>0</td>\n",
       "      <td>0</td>\n",
       "    </tr>\n",
       "    <tr>\n",
       "      <th>5</th>\n",
       "      <td>9856168</td>\n",
       "      <td>45600</td>\n",
       "      <td>1</td>\n",
       "      <td>0</td>\n",
       "      <td>1.50</td>\n",
       "      <td>14.6</td>\n",
       "      <td>0.0</td>\n",
       "      <td>0.308410</td>\n",
       "      <td>1</td>\n",
       "      <td>10.727685</td>\n",
       "      <td>...</td>\n",
       "      <td>0</td>\n",
       "      <td>0</td>\n",
       "      <td>0</td>\n",
       "      <td>0</td>\n",
       "      <td>0</td>\n",
       "      <td>0</td>\n",
       "      <td>1</td>\n",
       "      <td>1</td>\n",
       "      <td>0</td>\n",
       "      <td>0</td>\n",
       "    </tr>\n",
       "    <tr>\n",
       "      <th>6</th>\n",
       "      <td>9825536</td>\n",
       "      <td>45000</td>\n",
       "      <td>0</td>\n",
       "      <td>5</td>\n",
       "      <td>18.69</td>\n",
       "      <td>29.5</td>\n",
       "      <td>0.0</td>\n",
       "      <td>0.045062</td>\n",
       "      <td>1</td>\n",
       "      <td>10.714440</td>\n",
       "      <td>...</td>\n",
       "      <td>0</td>\n",
       "      <td>0</td>\n",
       "      <td>0</td>\n",
       "      <td>0</td>\n",
       "      <td>0</td>\n",
       "      <td>1</td>\n",
       "      <td>0</td>\n",
       "      <td>1</td>\n",
       "      <td>0</td>\n",
       "      <td>0</td>\n",
       "    </tr>\n",
       "    <tr>\n",
       "      <th>12</th>\n",
       "      <td>9808485</td>\n",
       "      <td>40800</td>\n",
       "      <td>1</td>\n",
       "      <td>1</td>\n",
       "      <td>26.21</td>\n",
       "      <td>28.4</td>\n",
       "      <td>0.0</td>\n",
       "      <td>0.524121</td>\n",
       "      <td>1</td>\n",
       "      <td>10.616462</td>\n",
       "      <td>...</td>\n",
       "      <td>0</td>\n",
       "      <td>0</td>\n",
       "      <td>0</td>\n",
       "      <td>0</td>\n",
       "      <td>0</td>\n",
       "      <td>1</td>\n",
       "      <td>0</td>\n",
       "      <td>0</td>\n",
       "      <td>1</td>\n",
       "      <td>0</td>\n",
       "    </tr>\n",
       "  </tbody>\n",
       "</table>\n",
       "<p>5 rows × 37 columns</p>\n",
       "</div>"
      ],
      "text/plain": [
       "         id  annual_income  short_employee  emp_length_num  \\\n",
       "2   9684700          78000               0              11   \n",
       "3   9695736          37536               0               6   \n",
       "5   9856168          45600               1               0   \n",
       "6   9825536          45000               0               5   \n",
       "12  9808485          40800               1               1   \n",
       "\n",
       "    Debt-To-Income Ratio  revol_util  total_rec_late_fee  od_ratio  bad_loan  \\\n",
       "2                  18.45        46.3                 0.0  0.035147         1   \n",
       "3                  12.28        10.7                 0.0  0.534887         1   \n",
       "5                   1.50        14.6                 0.0  0.308410         1   \n",
       "6                  18.69        29.5                 0.0  0.045062         1   \n",
       "12                 26.21        28.4                 0.0  0.524121         1   \n",
       "\n",
       "    annual_income_log  ...  purpose_moving  purpose_other  \\\n",
       "2           11.264477  ...               0              0   \n",
       "3           10.533082  ...               0              0   \n",
       "5           10.727685  ...               0              0   \n",
       "6           10.714440  ...               0              0   \n",
       "12          10.616462  ...               0              0   \n",
       "\n",
       "    purpose_small_business  purpose_vacation  purpose_wedding  term_36 months  \\\n",
       "2                        0                 0                0               0   \n",
       "3                        0                 0                0               0   \n",
       "5                        0                 0                0               0   \n",
       "6                        0                 0                0               1   \n",
       "12                       0                 0                0               1   \n",
       "\n",
       "    term_60 months  last_delinq_none_0  last_delinq_none_1  new_label  \n",
       "2                1                   0                   1          0  \n",
       "3                1                   1                   0          0  \n",
       "5                1                   1                   0          0  \n",
       "6                0                   1                   0          0  \n",
       "12               0                   0                   1          0  \n",
       "\n",
       "[5 rows x 37 columns]"
      ]
     },
     "execution_count": 68,
     "metadata": {},
     "output_type": "execute_result"
    }
   ],
   "source": [
    "df_bad_loan.loc[:,'new_label'] = new_label_2\n",
    "df_bad_loan.head()"
   ]
  },
  {
   "cell_type": "code",
   "execution_count": 52,
   "id": "1ebda62f",
   "metadata": {},
   "outputs": [
    {
     "data": {
      "text/html": [
       "<div>\n",
       "<style scoped>\n",
       "    .dataframe tbody tr th:only-of-type {\n",
       "        vertical-align: middle;\n",
       "    }\n",
       "\n",
       "    .dataframe tbody tr th {\n",
       "        vertical-align: top;\n",
       "    }\n",
       "\n",
       "    .dataframe thead th {\n",
       "        text-align: right;\n",
       "    }\n",
       "</style>\n",
       "<table border=\"1\" class=\"dataframe\">\n",
       "  <thead>\n",
       "    <tr style=\"text-align: right;\">\n",
       "      <th></th>\n",
       "      <th>id</th>\n",
       "      <th>annual_income</th>\n",
       "      <th>short_employee</th>\n",
       "      <th>emp_length_num</th>\n",
       "      <th>Debt-To-Income Ratio</th>\n",
       "      <th>revol_util</th>\n",
       "      <th>total_rec_late_fee</th>\n",
       "      <th>od_ratio</th>\n",
       "      <th>bad_loan</th>\n",
       "      <th>annual_income_log</th>\n",
       "      <th>...</th>\n",
       "      <th>purpose_moving</th>\n",
       "      <th>purpose_other</th>\n",
       "      <th>purpose_small_business</th>\n",
       "      <th>purpose_vacation</th>\n",
       "      <th>purpose_wedding</th>\n",
       "      <th>term_36 months</th>\n",
       "      <th>term_60 months</th>\n",
       "      <th>last_delinq_none_0</th>\n",
       "      <th>last_delinq_none_1</th>\n",
       "      <th>new_label</th>\n",
       "    </tr>\n",
       "  </thead>\n",
       "  <tbody>\n",
       "    <tr>\n",
       "      <th>0</th>\n",
       "      <td>11454641</td>\n",
       "      <td>100000</td>\n",
       "      <td>1</td>\n",
       "      <td>1</td>\n",
       "      <td>26.27</td>\n",
       "      <td>43.2</td>\n",
       "      <td>0.0</td>\n",
       "      <td>0.160624</td>\n",
       "      <td>0</td>\n",
       "      <td>11.512935</td>\n",
       "      <td>...</td>\n",
       "      <td>0</td>\n",
       "      <td>0</td>\n",
       "      <td>0</td>\n",
       "      <td>0</td>\n",
       "      <td>0</td>\n",
       "      <td>1</td>\n",
       "      <td>0</td>\n",
       "      <td>0</td>\n",
       "      <td>1</td>\n",
       "      <td>0</td>\n",
       "    </tr>\n",
       "    <tr>\n",
       "      <th>1</th>\n",
       "      <td>9604874</td>\n",
       "      <td>83000</td>\n",
       "      <td>0</td>\n",
       "      <td>4</td>\n",
       "      <td>5.39</td>\n",
       "      <td>21.5</td>\n",
       "      <td>0.0</td>\n",
       "      <td>0.810777</td>\n",
       "      <td>0</td>\n",
       "      <td>11.326608</td>\n",
       "      <td>...</td>\n",
       "      <td>0</td>\n",
       "      <td>0</td>\n",
       "      <td>0</td>\n",
       "      <td>0</td>\n",
       "      <td>0</td>\n",
       "      <td>1</td>\n",
       "      <td>0</td>\n",
       "      <td>1</td>\n",
       "      <td>0</td>\n",
       "      <td>0</td>\n",
       "    </tr>\n",
       "    <tr>\n",
       "      <th>4</th>\n",
       "      <td>9795013</td>\n",
       "      <td>65000</td>\n",
       "      <td>0</td>\n",
       "      <td>11</td>\n",
       "      <td>11.26</td>\n",
       "      <td>15.2</td>\n",
       "      <td>0.0</td>\n",
       "      <td>0.166500</td>\n",
       "      <td>0</td>\n",
       "      <td>11.082158</td>\n",
       "      <td>...</td>\n",
       "      <td>0</td>\n",
       "      <td>0</td>\n",
       "      <td>0</td>\n",
       "      <td>0</td>\n",
       "      <td>0</td>\n",
       "      <td>1</td>\n",
       "      <td>0</td>\n",
       "      <td>1</td>\n",
       "      <td>0</td>\n",
       "      <td>0</td>\n",
       "    </tr>\n",
       "    <tr>\n",
       "      <th>7</th>\n",
       "      <td>7450630</td>\n",
       "      <td>96000</td>\n",
       "      <td>1</td>\n",
       "      <td>1</td>\n",
       "      <td>6.41</td>\n",
       "      <td>55.9</td>\n",
       "      <td>0.0</td>\n",
       "      <td>0.238576</td>\n",
       "      <td>0</td>\n",
       "      <td>11.472114</td>\n",
       "      <td>...</td>\n",
       "      <td>0</td>\n",
       "      <td>1</td>\n",
       "      <td>0</td>\n",
       "      <td>0</td>\n",
       "      <td>0</td>\n",
       "      <td>1</td>\n",
       "      <td>0</td>\n",
       "      <td>1</td>\n",
       "      <td>0</td>\n",
       "      <td>0</td>\n",
       "    </tr>\n",
       "    <tr>\n",
       "      <th>8</th>\n",
       "      <td>9767996</td>\n",
       "      <td>60000</td>\n",
       "      <td>0</td>\n",
       "      <td>11</td>\n",
       "      <td>26.27</td>\n",
       "      <td>94.1</td>\n",
       "      <td>0.0</td>\n",
       "      <td>0.674835</td>\n",
       "      <td>0</td>\n",
       "      <td>11.002117</td>\n",
       "      <td>...</td>\n",
       "      <td>0</td>\n",
       "      <td>0</td>\n",
       "      <td>0</td>\n",
       "      <td>0</td>\n",
       "      <td>0</td>\n",
       "      <td>0</td>\n",
       "      <td>1</td>\n",
       "      <td>1</td>\n",
       "      <td>0</td>\n",
       "      <td>0</td>\n",
       "    </tr>\n",
       "  </tbody>\n",
       "</table>\n",
       "<p>5 rows × 37 columns</p>\n",
       "</div>"
      ],
      "text/plain": [
       "         id  annual_income  short_employee  emp_length_num  \\\n",
       "0  11454641         100000               1               1   \n",
       "1   9604874          83000               0               4   \n",
       "4   9795013          65000               0              11   \n",
       "7   7450630          96000               1               1   \n",
       "8   9767996          60000               0              11   \n",
       "\n",
       "   Debt-To-Income Ratio  revol_util  total_rec_late_fee  od_ratio  bad_loan  \\\n",
       "0                 26.27        43.2                 0.0  0.160624         0   \n",
       "1                  5.39        21.5                 0.0  0.810777         0   \n",
       "4                 11.26        15.2                 0.0  0.166500         0   \n",
       "7                  6.41        55.9                 0.0  0.238576         0   \n",
       "8                 26.27        94.1                 0.0  0.674835         0   \n",
       "\n",
       "   annual_income_log  ...  purpose_moving  purpose_other  \\\n",
       "0          11.512935  ...               0              0   \n",
       "1          11.326608  ...               0              0   \n",
       "4          11.082158  ...               0              0   \n",
       "7          11.472114  ...               0              1   \n",
       "8          11.002117  ...               0              0   \n",
       "\n",
       "   purpose_small_business  purpose_vacation  purpose_wedding  term_36 months  \\\n",
       "0                       0                 0                0               1   \n",
       "1                       0                 0                0               1   \n",
       "4                       0                 0                0               1   \n",
       "7                       0                 0                0               1   \n",
       "8                       0                 0                0               0   \n",
       "\n",
       "   term_60 months  last_delinq_none_0  last_delinq_none_1  new_label  \n",
       "0               0                   0                   1          0  \n",
       "1               0                   1                   0          0  \n",
       "4               0                   1                   0          0  \n",
       "7               0                   1                   0          0  \n",
       "8               1                   1                   0          0  \n",
       "\n",
       "[5 rows x 37 columns]"
      ]
     },
     "execution_count": 52,
     "metadata": {},
     "output_type": "execute_result"
    }
   ],
   "source": []
  },
  {
   "cell_type": "code",
   "execution_count": null,
   "id": "f4e2429a",
   "metadata": {},
   "outputs": [],
   "source": []
  },
  {
   "cell_type": "code",
   "execution_count": null,
   "id": "12dc3549",
   "metadata": {},
   "outputs": [],
   "source": []
  },
  {
   "cell_type": "code",
   "execution_count": null,
   "id": "cfc750cb",
   "metadata": {},
   "outputs": [],
   "source": []
  },
  {
   "cell_type": "code",
   "execution_count": null,
   "id": "24e794de",
   "metadata": {},
   "outputs": [],
   "source": []
  },
  {
   "cell_type": "code",
   "execution_count": null,
   "id": "db379e46",
   "metadata": {},
   "outputs": [],
   "source": []
  },
  {
   "cell_type": "code",
   "execution_count": null,
   "id": "3195fcba",
   "metadata": {},
   "outputs": [],
   "source": []
  },
  {
   "cell_type": "code",
   "execution_count": null,
   "id": "a2471967",
   "metadata": {},
   "outputs": [],
   "source": []
  },
  {
   "cell_type": "code",
   "execution_count": 73,
   "id": "bd23e50a",
   "metadata": {},
   "outputs": [],
   "source": [
    "X = df.drop(columns=['id', 'annual_income','bad_loan','grade_A',\n",
    "                     'home_ownership_MORTGAGE','purpose_car','term_36 months',\n",
    "                     'last_delinq_none_0'])\n",
    "\n",
    "y = df['new_label'].astype(int)\n",
    "\n",
    "sss = StratifiedShuffleSplit(n_splits=1, test_size=0.2, train_size=0.8, random_state=123)\n",
    "train_ind, test_ind = next(sss.split(X,y,groups=None))\n",
    "X_train, y_train, X_test, y_test = X.iloc[train_ind], y.iloc[train_ind], X.iloc[test_ind], y.iloc[test_ind]\n",
    "\n",
    "scaler = StandardScaler()\n",
    "X_train = scaler.fit_transform(X_train)\n",
    "X_test = scaler.transform(X_test)"
   ]
  },
  {
   "cell_type": "code",
   "execution_count": 74,
   "id": "eee8eb80",
   "metadata": {},
   "outputs": [
    {
     "data": {
      "text/plain": [
       "array([[ 2.78251958, -1.54570536,  1.08995282, ..., -0.06613603,\n",
       "        -0.58185516,  0.90625127],\n",
       "       [-0.35938651, -1.01560908,  0.56622987, ..., -0.06613603,\n",
       "        -0.58185516,  0.90625127],\n",
       "       [-0.35938651,  0.04458349, -0.63385889, ..., -0.06613603,\n",
       "        -0.58185516,  0.90625127],\n",
       "       ...,\n",
       "       [-0.35938651,  1.10477606,  0.44780006, ..., -0.06613603,\n",
       "        -0.58185516, -1.10344673],\n",
       "       [-0.35938651, -0.48551279, -0.87203441, ..., -0.06613603,\n",
       "        -0.58185516,  0.90625127],\n",
       "       [-0.35938651,  1.10477606, -1.67604124, ..., -0.06613603,\n",
       "        -0.58185516,  0.90625127]])"
      ]
     },
     "execution_count": 74,
     "metadata": {},
     "output_type": "execute_result"
    }
   ],
   "source": [
    "X_train"
   ]
  },
  {
   "cell_type": "code",
   "execution_count": 75,
   "id": "636fd8c3",
   "metadata": {},
   "outputs": [],
   "source": [
    "def get_metrics(target_test, target_score):\n",
    "    precision, recall, thresholds = precision_recall_curve(target_test, target_score)\n",
    "    pr_auc = average_precision_score(target_test, target_score)\n",
    "    print(f'AUC is {pr_auc:.2f}')\n",
    "    return precision, recall, pr_auc\n",
    "\n",
    "def get_confusion_matrix(target_test, target_pred):\n",
    "    matrix = confusion_matrix(target_test, target_pred)\n",
    "    df = pd.DataFrame(matrix, index=['Actual Negative', 'Actual Positive'], \n",
    "                 columns=['Predicted Negative', 'Predicted Positive'])\n",
    "    return df"
   ]
  },
  {
   "cell_type": "markdown",
   "id": "0f040e66",
   "metadata": {},
   "source": [
    "### K-Means"
   ]
  },
  {
   "cell_type": "markdown",
   "id": "bd70cabd",
   "metadata": {},
   "source": [
    "#### Logistic Regression"
   ]
  },
  {
   "cell_type": "markdown",
   "id": "3d24b67b",
   "metadata": {},
   "source": [
    "Attempt 1: classifier is trained on cluster assignments only"
   ]
  },
  {
   "cell_type": "code",
   "execution_count": 109,
   "id": "6dc8e2a7",
   "metadata": {},
   "outputs": [],
   "source": [
    "lg_clf = LogisticRegression(class_weight='balanced', \n",
    "                                   C=10,\n",
    "                                   max_iter=10000,\n",
    "                                   random_state = 123)"
   ]
  },
  {
   "cell_type": "code",
   "execution_count": 94,
   "id": "c987b2ea",
   "metadata": {},
   "outputs": [
    {
     "name": "stderr",
     "output_type": "stream",
     "text": [
      "/Users/kaimihuang/opt/anaconda3/lib/python3.9/site-packages/joblib/externals/loky/process_executor.py:702: UserWarning: A worker stopped while some jobs were given to the executor. This can be caused by a too short worker timeout or by a memory leak.\n",
      "  warnings.warn(\n"
     ]
    },
    {
     "data": {
      "text/plain": [
       "{'kmeans__n_clusters': 2}"
      ]
     },
     "execution_count": 94,
     "metadata": {},
     "output_type": "execute_result"
    }
   ],
   "source": [
    "lg_clf = LogisticRegression(class_weight='balanced', \n",
    "                                   C=10,\n",
    "                                   max_iter=10000,\n",
    "                                   random_state = 123)\n",
    "\n",
    "pipeline = Pipeline([\n",
    "    #The output of this step is the cluster assignments for each data point in the input dataset\n",
    "    ('kmeans', KMeans()),\n",
    "    #The logistic regression model is trained on the cluster assignments \n",
    "    #(features) and the corresponding labels (target)\n",
    "    ('log_reg', lg_clf)\n",
    "])\n",
    "\n",
    "param_grid = dict(kmeans__n_clusters=range(2, 100))\n",
    "grid_clf = GridSearchCV(pipeline, param_grid, cv = 5, verbose = 0, n_jobs=-1)\n",
    "grid_clf.fit(X_train, y_train)\n",
    "grid_clf.best_params_"
   ]
  },
  {
   "cell_type": "code",
   "execution_count": 95,
   "id": "efd04e76",
   "metadata": {},
   "outputs": [
    {
     "data": {
      "text/plain": [
       "Pipeline(steps=[('kmeans', KMeans(n_clusters=2)),\n",
       "                ('log_reg',\n",
       "                 LogisticRegression(C=10, class_weight='balanced',\n",
       "                                    max_iter=10000, random_state=123))])"
      ]
     },
     "execution_count": 95,
     "metadata": {},
     "output_type": "execute_result"
    }
   ],
   "source": [
    "grid_clf.best_estimator_"
   ]
  },
  {
   "cell_type": "code",
   "execution_count": 96,
   "id": "04100a78",
   "metadata": {},
   "outputs": [],
   "source": [
    "best_pl = grid_clf.best_estimator_\n",
    "best_pl.fit(X_train, y_train)\n",
    "y_pred = best_pl.predict(X_test)\n",
    "y_score = best_pl.predict_proba(X_test)[:,1]"
   ]
  },
  {
   "cell_type": "code",
   "execution_count": 97,
   "id": "8f5b1fed",
   "metadata": {},
   "outputs": [
    {
     "data": {
      "text/html": [
       "<div>\n",
       "<style scoped>\n",
       "    .dataframe tbody tr th:only-of-type {\n",
       "        vertical-align: middle;\n",
       "    }\n",
       "\n",
       "    .dataframe tbody tr th {\n",
       "        vertical-align: top;\n",
       "    }\n",
       "\n",
       "    .dataframe thead th {\n",
       "        text-align: right;\n",
       "    }\n",
       "</style>\n",
       "<table border=\"1\" class=\"dataframe\">\n",
       "  <thead>\n",
       "    <tr style=\"text-align: right;\">\n",
       "      <th></th>\n",
       "      <th>Predicted Negative</th>\n",
       "      <th>Predicted Positive</th>\n",
       "    </tr>\n",
       "  </thead>\n",
       "  <tbody>\n",
       "    <tr>\n",
       "      <th>Actual Negative</th>\n",
       "      <td>2175</td>\n",
       "      <td>762</td>\n",
       "    </tr>\n",
       "    <tr>\n",
       "      <th>Actual Positive</th>\n",
       "      <td>433</td>\n",
       "      <td>304</td>\n",
       "    </tr>\n",
       "  </tbody>\n",
       "</table>\n",
       "</div>"
      ],
      "text/plain": [
       "                 Predicted Negative  Predicted Positive\n",
       "Actual Negative                2175                 762\n",
       "Actual Positive                 433                 304"
      ]
     },
     "execution_count": 97,
     "metadata": {},
     "output_type": "execute_result"
    }
   ],
   "source": [
    "get_confusion_matrix(y_test, y_pred)"
   ]
  },
  {
   "cell_type": "code",
   "execution_count": 98,
   "id": "3cfaa081",
   "metadata": {},
   "outputs": [
    {
     "name": "stdout",
     "output_type": "stream",
     "text": [
      "AUC is 0.28\n"
     ]
    }
   ],
   "source": [
    "lg_precision, lg_recall, lg_pr_auc = get_metrics(y_test, y_score)"
   ]
  },
  {
   "cell_type": "markdown",
   "id": "ada5a983",
   "metadata": {},
   "source": [
    "Performance got much worse"
   ]
  },
  {
   "cell_type": "markdown",
   "id": "55bd3318",
   "metadata": {},
   "source": [
    "Attempt 2: what if the cluster assignment becomes one of the features"
   ]
  },
  {
   "cell_type": "code",
   "execution_count": 104,
   "id": "352d5182",
   "metadata": {},
   "outputs": [],
   "source": [
    "kmeans_model = best_pl['kmeans']\n",
    "train_cluster_assignments = kmeans_model.fit_predict(X_train).reshape(-1,1)\n",
    "test_cluster_assignments = kmeans_model.predict(X_test).reshape(-1,1)"
   ]
  },
  {
   "cell_type": "code",
   "execution_count": 105,
   "id": "a5e073fd",
   "metadata": {},
   "outputs": [
    {
     "data": {
      "text/plain": [
       "((14696, 29), (14696, 28))"
      ]
     },
     "execution_count": 105,
     "metadata": {},
     "output_type": "execute_result"
    }
   ],
   "source": [
    "X_train_km = np.hstack((X_train, train_cluster_assignments))\n",
    "X_train_km.shape, X_train.shape"
   ]
  },
  {
   "cell_type": "code",
   "execution_count": 106,
   "id": "94669dad",
   "metadata": {},
   "outputs": [
    {
     "data": {
      "text/plain": [
       "((3674, 29), (3674, 28))"
      ]
     },
     "execution_count": 106,
     "metadata": {},
     "output_type": "execute_result"
    }
   ],
   "source": [
    "X_test_km = np.hstack((X_test, test_cluster_assignments))\n",
    "X_test_km.shape, X_test.shape"
   ]
  },
  {
   "cell_type": "code",
   "execution_count": 111,
   "id": "28f64daf",
   "metadata": {},
   "outputs": [],
   "source": [
    "lg_clf.fit(X_train_km, y_train)\n",
    "y_pred = lg_clf.predict(X_test_km)\n",
    "y_score = lg_clf.predict_proba(X_test_km)[:,1]"
   ]
  },
  {
   "cell_type": "code",
   "execution_count": 112,
   "id": "e149a981",
   "metadata": {},
   "outputs": [
    {
     "data": {
      "text/html": [
       "<div>\n",
       "<style scoped>\n",
       "    .dataframe tbody tr th:only-of-type {\n",
       "        vertical-align: middle;\n",
       "    }\n",
       "\n",
       "    .dataframe tbody tr th {\n",
       "        vertical-align: top;\n",
       "    }\n",
       "\n",
       "    .dataframe thead th {\n",
       "        text-align: right;\n",
       "    }\n",
       "</style>\n",
       "<table border=\"1\" class=\"dataframe\">\n",
       "  <thead>\n",
       "    <tr style=\"text-align: right;\">\n",
       "      <th></th>\n",
       "      <th>Predicted Negative</th>\n",
       "      <th>Predicted Positive</th>\n",
       "    </tr>\n",
       "  </thead>\n",
       "  <tbody>\n",
       "    <tr>\n",
       "      <th>Actual Negative</th>\n",
       "      <td>1922</td>\n",
       "      <td>1015</td>\n",
       "    </tr>\n",
       "    <tr>\n",
       "      <th>Actual Positive</th>\n",
       "      <td>244</td>\n",
       "      <td>493</td>\n",
       "    </tr>\n",
       "  </tbody>\n",
       "</table>\n",
       "</div>"
      ],
      "text/plain": [
       "                 Predicted Negative  Predicted Positive\n",
       "Actual Negative                1922                1015\n",
       "Actual Positive                 244                 493"
      ]
     },
     "execution_count": 112,
     "metadata": {},
     "output_type": "execute_result"
    }
   ],
   "source": [
    "get_confusion_matrix(y_test, y_pred)"
   ]
  },
  {
   "cell_type": "code",
   "execution_count": 114,
   "id": "33f4c183",
   "metadata": {},
   "outputs": [
    {
     "name": "stdout",
     "output_type": "stream",
     "text": [
      "AUC is 0.39\n"
     ]
    }
   ],
   "source": [
    "lg_precision, lg_recall, lg_pr_auc = get_metrics(y_test, y_score)"
   ]
  },
  {
   "cell_type": "markdown",
   "id": "f237fdcf",
   "metadata": {},
   "source": [
    "Same performance as the log reg in Predict_bad_loan.ipynb"
   ]
  },
  {
   "cell_type": "markdown",
   "id": "dd5209ad",
   "metadata": {},
   "source": [
    "#### XGBoost"
   ]
  },
  {
   "cell_type": "code",
   "execution_count": 117,
   "id": "5907327f",
   "metadata": {},
   "outputs": [
    {
     "data": {
      "text/plain": [
       "{'learning_rate': 0.1, 'max_depth': 2, 'n_estimators': 95}"
      ]
     },
     "execution_count": 117,
     "metadata": {},
     "output_type": "execute_result"
    }
   ],
   "source": [
    "param_grid = [\n",
    "    {'n_estimators': [94, 95, 96],\n",
    "     'max_depth': [1,2, 3, 4],\n",
    "     'learning_rate': [0.01, 0.1, 1]}]\n",
    "\n",
    "xgb_classifier = xgb.XGBClassifier(objective='binary:logistic',\n",
    "                                    eval_metric='logloss',\n",
    "                                    scale_pos_weight=class_weights[0]/class_weights[1],\n",
    "                                    random_state = 123)\n",
    "\n",
    "grid_search = GridSearchCV(xgb_classifier, param_grid, cv=5,\n",
    "                          scoring = 'average_precision',\n",
    "                          return_train_score = True,\n",
    "                          n_jobs=-1)\n",
    "\n",
    "grid_search.fit(X_train_km, y_train)\n",
    "\n",
    "grid_search.best_params_"
   ]
  },
  {
   "cell_type": "code",
   "execution_count": 118,
   "id": "c702083e",
   "metadata": {},
   "outputs": [
    {
     "data": {
      "text/html": [
       "<div>\n",
       "<style scoped>\n",
       "    .dataframe tbody tr th:only-of-type {\n",
       "        vertical-align: middle;\n",
       "    }\n",
       "\n",
       "    .dataframe tbody tr th {\n",
       "        vertical-align: top;\n",
       "    }\n",
       "\n",
       "    .dataframe thead th {\n",
       "        text-align: right;\n",
       "    }\n",
       "</style>\n",
       "<table border=\"1\" class=\"dataframe\">\n",
       "  <thead>\n",
       "    <tr style=\"text-align: right;\">\n",
       "      <th></th>\n",
       "      <th>Predicted Negative</th>\n",
       "      <th>Predicted Positive</th>\n",
       "    </tr>\n",
       "  </thead>\n",
       "  <tbody>\n",
       "    <tr>\n",
       "      <th>Actual Negative</th>\n",
       "      <td>2933</td>\n",
       "      <td>4</td>\n",
       "    </tr>\n",
       "    <tr>\n",
       "      <th>Actual Positive</th>\n",
       "      <td>725</td>\n",
       "      <td>12</td>\n",
       "    </tr>\n",
       "  </tbody>\n",
       "</table>\n",
       "</div>"
      ],
      "text/plain": [
       "                 Predicted Negative  Predicted Positive\n",
       "Actual Negative                2933                   4\n",
       "Actual Positive                 725                  12"
      ]
     },
     "execution_count": 118,
     "metadata": {},
     "output_type": "execute_result"
    }
   ],
   "source": [
    "xgb_classifier = grid_search.best_estimator_\n",
    "xgb_classifier.fit(X_train_km, y_train)\n",
    "y_pred = xgb_classifier.predict(X_test_km)\n",
    "y_score = xgb_classifier.predict_proba(X_test_km)[:, 1]\n",
    "\n",
    "get_confusion_matrix(y_test, y_pred)"
   ]
  },
  {
   "cell_type": "code",
   "execution_count": 119,
   "id": "e1c95f53",
   "metadata": {},
   "outputs": [
    {
     "name": "stdout",
     "output_type": "stream",
     "text": [
      "AUC is 0.38\n"
     ]
    }
   ],
   "source": [
    "xgb_precision, xgb_recall, xgb_pr_auc = get_metrics(y_test, y_score)"
   ]
  },
  {
   "cell_type": "code",
   "execution_count": 134,
   "id": "18f59043",
   "metadata": {},
   "outputs": [],
   "source": [
    "features = list(X.columns)\n",
    "features.append('cluster')"
   ]
  },
  {
   "cell_type": "code",
   "execution_count": 136,
   "id": "ef6dcc23",
   "metadata": {},
   "outputs": [
    {
     "data": {
      "image/png": "[encoded data removed]",
      "text/plain": [
       "<Figure size 640x480 with 1 Axes>"
      ]
     },
     "metadata": {},
     "output_type": "display_data"
    }
   ],
   "source": [
    "xgb_classifier.get_booster().feature_names =  features\n",
    "xgb.plot_importance(xgb_classifier);"
   ]
  },
  {
   "cell_type": "markdown",
   "id": "1e583179",
   "metadata": {},
   "source": [
    "the importance of the new feature, 'cluster', is low according to xgb's importance chart above.\n",
    "see if there is a pattern about the target variable in these clusters"
   ]
  },
  {
   "cell_type": "code",
   "execution_count": 157,
   "id": "c0c4f202",
   "metadata": {},
   "outputs": [
    {
     "data": {
      "text/plain": [
       "KMeans(n_clusters=2)"
      ]
     },
     "execution_count": 157,
     "metadata": {},
     "output_type": "execute_result"
    }
   ],
   "source": [
    "kmeans_model"
   ]
  },
  {
   "cell_type": "code",
   "execution_count": 156,
   "id": "66924192",
   "metadata": {},
   "outputs": [
    {
     "name": "stdout",
     "output_type": "stream",
     "text": [
      "In Cluster 0, the percentage of defaulted loan is  20%.\n",
      "In Cluster 1, the percentage of defaulted loan is  20%.\n"
     ]
    }
   ],
   "source": [
    "num_cluster = 2\n",
    "\n",
    "for cluster in list(range(num_cluster)):\n",
    "    default_p = (y_train[train_cluster_assignments.ravel()==cluster]).mean()\n",
    "    print(f'In Cluster {cluster}, the percentage of defaulted loan is {default_p*100: .0f}%.')"
   ]
  },
  {
   "cell_type": "markdown",
   "id": "e80a8010",
   "metadata": {},
   "source": [
    "cry. both clusters contain 20% bad loans. it is the same pattern as that in the original dataset. conclusion: kmeans cluster as an additional feature does not help improve classifers' performances. both of log reg and xgb classifiers' AUC's verify such."
   ]
  },
  {
   "cell_type": "markdown",
   "id": "dc1e059a",
   "metadata": {},
   "source": [
    "### DBSCAN"
   ]
  },
  {
   "cell_type": "code",
   "execution_count": 160,
   "id": "b91fb64a",
   "metadata": {},
   "outputs": [
    {
     "data": {
      "text/plain": [
       "DBSCAN(eps=6, min_samples=3)"
      ]
     },
     "execution_count": 160,
     "metadata": {},
     "output_type": "execute_result"
    }
   ],
   "source": [
    "dbscan = DBSCAN(eps = 6, min_samples = 3) #need to find the optimal hyperparameters\n",
    "dbscan.fit(X_train)"
   ]
  },
  {
   "cell_type": "code",
   "execution_count": 161,
   "id": "606d46a8",
   "metadata": {},
   "outputs": [
    {
     "data": {
      "text/plain": [
       "{-1, 0, 1, 2, 3, 4, 5, 6, 7, 8, 9, 10, 11}"
      ]
     },
     "execution_count": 161,
     "metadata": {},
     "output_type": "execute_result"
    }
   ],
   "source": [
    "set(dbscan.labels_)"
   ]
  },
  {
   "cell_type": "code",
   "execution_count": 162,
   "id": "60080c9b",
   "metadata": {},
   "outputs": [
    {
     "name": "stdout",
     "output_type": "stream",
     "text": [
      "In the X_train dataset, there are 13 clusters or unique labels, and 22 of the data points are anomalies.\n"
     ]
    }
   ],
   "source": [
    "print(f'In the X_train dataset, there are {len(set(dbscan.labels_))} clusters or unique labels, and \\\n",
    "{(dbscan.labels_ ==  -1).sum()} of the data points are anomalies.')"
   ]
  },
  {
   "cell_type": "code",
   "execution_count": 163,
   "id": "bac745cf",
   "metadata": {},
   "outputs": [
    {
     "data": {
      "text/plain": [
       "(14696, 14696)"
      ]
     },
     "execution_count": 163,
     "metadata": {},
     "output_type": "execute_result"
    }
   ],
   "source": [
    "len(dbscan.labels_), X_train.shape[0]"
   ]
  },
  {
   "cell_type": "code",
   "execution_count": 164,
   "id": "3dbd4680",
   "metadata": {},
   "outputs": [],
   "source": [
    "X_train_dbscan_label = dbscan.labels_.reshape(-1, 1)"
   ]
  },
  {
   "cell_type": "markdown",
   "id": "d6cd8ff1",
   "metadata": {},
   "source": [
    "DBSCAN class does not have a predict() method. Use KNN to predict the cluster for X_test based on maximum distance"
   ]
  },
  {
   "cell_type": "code",
   "execution_count": 165,
   "id": "ce146690",
   "metadata": {},
   "outputs": [
    {
     "data": {
      "text/plain": [
       "KNeighborsClassifier(n_neighbors=50)"
      ]
     },
     "execution_count": 165,
     "metadata": {},
     "output_type": "execute_result"
    }
   ],
   "source": [
    "#the n_neighbors parameter determines the number of neighbors that will be considered when making predictions\n",
    "knn = KNeighborsClassifier(n_neighbors = 50)\n",
    "\n",
    "#core instances are in the components_ instance variable\n",
    "knn.fit(dbscan.components_, dbscan.labels_[dbscan.core_sample_indices_])"
   ]
  },
  {
   "cell_type": "code",
   "execution_count": 167,
   "id": "ae399392",
   "metadata": {},
   "outputs": [],
   "source": [
    "#1. find the nearest neighbor of the data points X_test using the k-nearest neighbors algorithm\n",
    "dist, pred_idx = knn.kneighbors(X_test, n_neighbors = 1)\n",
    "\n",
    "#2. identify the cluster labels of the nearest neighbor\n",
    "label_pred = dbscan.labels_[dbscan.core_sample_indices_][pred_idx]\n",
    "\n",
    "#3. to label anomalies, identify points that are not close enough  (> 6)\n",
    "#to any cluster and consider them outliers.\n",
    "label_pred[dist > 6] = -1\n",
    "\n",
    "label_pred = label_pred.ravel()"
   ]
  },
  {
   "cell_type": "code",
   "execution_count": 168,
   "id": "65503c5b",
   "metadata": {},
   "outputs": [
    {
     "data": {
      "text/plain": [
       "({-1, 0, 1, 2, 3, 4, 5, 6, 7, 8, 9, 11}, 3674, 3674)"
      ]
     },
     "execution_count": 168,
     "metadata": {},
     "output_type": "execute_result"
    }
   ],
   "source": [
    "set(label_pred), len(label_pred), X_test.shape[0]"
   ]
  },
  {
   "cell_type": "code",
   "execution_count": 169,
   "id": "c3a3d78a",
   "metadata": {},
   "outputs": [],
   "source": [
    "X_test_dbscan_label = label_pred.reshape(-1, 1)"
   ]
  },
  {
   "cell_type": "markdown",
   "id": "1eeadd4a",
   "metadata": {},
   "source": [
    "#### Logistic Regression"
   ]
  },
  {
   "cell_type": "markdown",
   "id": "ad6c5143",
   "metadata": {},
   "source": [
    "Attempt 1: classifier is trained on DBSCAN labels only"
   ]
  },
  {
   "cell_type": "code",
   "execution_count": 172,
   "id": "7de1e151",
   "metadata": {},
   "outputs": [
    {
     "data": {
      "text/plain": [
       "(14696, 1)"
      ]
     },
     "execution_count": 172,
     "metadata": {},
     "output_type": "execute_result"
    }
   ],
   "source": [
    "X_train_dbscan_label.shape"
   ]
  },
  {
   "cell_type": "code",
   "execution_count": 173,
   "id": "a22d25d8",
   "metadata": {},
   "outputs": [
    {
     "data": {
      "text/html": [
       "<div>\n",
       "<style scoped>\n",
       "    .dataframe tbody tr th:only-of-type {\n",
       "        vertical-align: middle;\n",
       "    }\n",
       "\n",
       "    .dataframe tbody tr th {\n",
       "        vertical-align: top;\n",
       "    }\n",
       "\n",
       "    .dataframe thead th {\n",
       "        text-align: right;\n",
       "    }\n",
       "</style>\n",
       "<table border=\"1\" class=\"dataframe\">\n",
       "  <thead>\n",
       "    <tr style=\"text-align: right;\">\n",
       "      <th></th>\n",
       "      <th>Predicted Negative</th>\n",
       "      <th>Predicted Positive</th>\n",
       "    </tr>\n",
       "  </thead>\n",
       "  <tbody>\n",
       "    <tr>\n",
       "      <th>Actual Negative</th>\n",
       "      <td>140</td>\n",
       "      <td>2797</td>\n",
       "    </tr>\n",
       "    <tr>\n",
       "      <th>Actual Positive</th>\n",
       "      <td>46</td>\n",
       "      <td>691</td>\n",
       "    </tr>\n",
       "  </tbody>\n",
       "</table>\n",
       "</div>"
      ],
      "text/plain": [
       "                 Predicted Negative  Predicted Positive\n",
       "Actual Negative                 140                2797\n",
       "Actual Positive                  46                 691"
      ]
     },
     "execution_count": 173,
     "metadata": {},
     "output_type": "execute_result"
    }
   ],
   "source": [
    "lg_clf.fit(X_train_dbscan_label, y_train)\n",
    "y_pred = lg_clf.predict(X_test_dbscan_label)\n",
    "y_score = lg_clf.predict_proba(X_test_dbscan_label)[:,1]\n",
    "get_confusion_matrix(y_test, y_pred)"
   ]
  },
  {
   "cell_type": "code",
   "execution_count": 174,
   "id": "e9916c98",
   "metadata": {},
   "outputs": [
    {
     "name": "stdout",
     "output_type": "stream",
     "text": [
      "AUC is 0.21\n"
     ]
    }
   ],
   "source": [
    "lg_precision, lg_recall, lg_pr_auc = get_metrics(y_test, y_score)"
   ]
  },
  {
   "cell_type": "markdown",
   "id": "54a5d4a7",
   "metadata": {},
   "source": [
    "Attempt 2: DBSCAN label becomes one of the features"
   ]
  },
  {
   "cell_type": "code",
   "execution_count": 179,
   "id": "73491eba",
   "metadata": {},
   "outputs": [
    {
     "data": {
      "text/plain": [
       "((14696, 29), (14696, 28))"
      ]
     },
     "execution_count": 179,
     "metadata": {},
     "output_type": "execute_result"
    }
   ],
   "source": [
    "X_train_dbscan = np.hstack((X_train, dbscan.labels_.reshape(-1,1)))\n",
    "X_train_dbscan.shape, X_train.shape"
   ]
  },
  {
   "cell_type": "code",
   "execution_count": 180,
   "id": "b463ce7f",
   "metadata": {},
   "outputs": [
    {
     "data": {
      "text/plain": [
       "((3674, 29), (3674, 28))"
      ]
     },
     "execution_count": 180,
     "metadata": {},
     "output_type": "execute_result"
    }
   ],
   "source": [
    "X_test_dbscan = np.hstack((X_test, label_pred.reshape(-1,1)))\n",
    "X_test_dbscan.shape, X_test.shape"
   ]
  },
  {
   "cell_type": "code",
   "execution_count": 181,
   "id": "1f72314a",
   "metadata": {},
   "outputs": [
    {
     "data": {
      "text/html": [
       "<div>\n",
       "<style scoped>\n",
       "    .dataframe tbody tr th:only-of-type {\n",
       "        vertical-align: middle;\n",
       "    }\n",
       "\n",
       "    .dataframe tbody tr th {\n",
       "        vertical-align: top;\n",
       "    }\n",
       "\n",
       "    .dataframe thead th {\n",
       "        text-align: right;\n",
       "    }\n",
       "</style>\n",
       "<table border=\"1\" class=\"dataframe\">\n",
       "  <thead>\n",
       "    <tr style=\"text-align: right;\">\n",
       "      <th></th>\n",
       "      <th>Predicted Negative</th>\n",
       "      <th>Predicted Positive</th>\n",
       "    </tr>\n",
       "  </thead>\n",
       "  <tbody>\n",
       "    <tr>\n",
       "      <th>Actual Negative</th>\n",
       "      <td>1921</td>\n",
       "      <td>1016</td>\n",
       "    </tr>\n",
       "    <tr>\n",
       "      <th>Actual Positive</th>\n",
       "      <td>243</td>\n",
       "      <td>494</td>\n",
       "    </tr>\n",
       "  </tbody>\n",
       "</table>\n",
       "</div>"
      ],
      "text/plain": [
       "                 Predicted Negative  Predicted Positive\n",
       "Actual Negative                1921                1016\n",
       "Actual Positive                 243                 494"
      ]
     },
     "execution_count": 181,
     "metadata": {},
     "output_type": "execute_result"
    }
   ],
   "source": [
    "lg_clf.fit(X_train_dbscan, y_train)\n",
    "y_pred = lg_clf.predict(X_test_dbscan)\n",
    "y_score = lg_clf.predict_proba(X_test_dbscan)[:,1]\n",
    "get_confusion_matrix(y_test, y_pred)"
   ]
  },
  {
   "cell_type": "code",
   "execution_count": 182,
   "id": "a3ec055a",
   "metadata": {},
   "outputs": [
    {
     "name": "stdout",
     "output_type": "stream",
     "text": [
      "AUC is 0.38\n"
     ]
    }
   ],
   "source": [
    "lg_precision, lg_recall, lg_pr_auc = get_metrics(y_test, y_score)"
   ]
  },
  {
   "cell_type": "markdown",
   "id": "5087543c",
   "metadata": {},
   "source": [
    "0.01 worse in performance compared with the log reg in Predict_bad_loan.ipynb"
   ]
  },
  {
   "cell_type": "markdown",
   "id": "85a60939",
   "metadata": {},
   "source": [
    "#### XGBoost"
   ]
  },
  {
   "cell_type": "code",
   "execution_count": 184,
   "id": "8c041ffe",
   "metadata": {},
   "outputs": [
    {
     "data": {
      "text/html": [
       "<div>\n",
       "<style scoped>\n",
       "    .dataframe tbody tr th:only-of-type {\n",
       "        vertical-align: middle;\n",
       "    }\n",
       "\n",
       "    .dataframe tbody tr th {\n",
       "        vertical-align: top;\n",
       "    }\n",
       "\n",
       "    .dataframe thead th {\n",
       "        text-align: right;\n",
       "    }\n",
       "</style>\n",
       "<table border=\"1\" class=\"dataframe\">\n",
       "  <thead>\n",
       "    <tr style=\"text-align: right;\">\n",
       "      <th></th>\n",
       "      <th>Predicted Negative</th>\n",
       "      <th>Predicted Positive</th>\n",
       "    </tr>\n",
       "  </thead>\n",
       "  <tbody>\n",
       "    <tr>\n",
       "      <th>Actual Negative</th>\n",
       "      <td>2933</td>\n",
       "      <td>4</td>\n",
       "    </tr>\n",
       "    <tr>\n",
       "      <th>Actual Positive</th>\n",
       "      <td>725</td>\n",
       "      <td>12</td>\n",
       "    </tr>\n",
       "  </tbody>\n",
       "</table>\n",
       "</div>"
      ],
      "text/plain": [
       "                 Predicted Negative  Predicted Positive\n",
       "Actual Negative                2933                   4\n",
       "Actual Positive                 725                  12"
      ]
     },
     "execution_count": 184,
     "metadata": {},
     "output_type": "execute_result"
    }
   ],
   "source": [
    "xgb_classifier.fit(X_train_dbscan, y_train)\n",
    "y_pred = xgb_classifier.predict(X_test_dbscan)\n",
    "y_score = xgb_classifier.predict_proba(X_test_dbscan)[:, 1]\n",
    "\n",
    "get_confusion_matrix(y_test, y_pred)"
   ]
  },
  {
   "cell_type": "code",
   "execution_count": 185,
   "id": "f7eaeff2",
   "metadata": {},
   "outputs": [
    {
     "name": "stdout",
     "output_type": "stream",
     "text": [
      "AUC is 0.38\n"
     ]
    }
   ],
   "source": [
    "xgb_precision, xgb_recall, xgb_pr_auc = get_metrics(y_test, y_score)"
   ]
  },
  {
   "cell_type": "code",
   "execution_count": 186,
   "id": "455b8a5c",
   "metadata": {},
   "outputs": [],
   "source": [
    "features = list(X.columns)\n",
    "features.append('dbscan_label')"
   ]
  },
  {
   "cell_type": "code",
   "execution_count": 187,
   "id": "ecc58cd1",
   "metadata": {},
   "outputs": [
    {
     "data": {
      "image/png": "[encoded data removed]",
      "text/plain": [
       "<Figure size 640x480 with 1 Axes>"
      ]
     },
     "metadata": {},
     "output_type": "display_data"
    }
   ],
   "source": [
    "xgb_classifier.get_booster().feature_names =  features\n",
    "xgb.plot_importance(xgb_classifier);"
   ]
  },
  {
   "cell_type": "markdown",
   "id": "997d0033",
   "metadata": {},
   "source": [
    "conclusion: neither DBSCAN label as a lone feature or an additional feature helps improve performance. perhaps tuning the hyperparameters more might help. ?"
   ]
  },
  {
   "cell_type": "markdown",
   "id": "45362519",
   "metadata": {},
   "source": [
    "### Agglomerative Hierarchical Clustering"
   ]
  },
  {
   "cell_type": "code",
   "execution_count": 45,
   "id": "20508abc",
   "metadata": {},
   "outputs": [
    {
     "name": "stderr",
     "output_type": "stream",
     "text": [
      "/Users/kaimihuang/opt/anaconda3/lib/python3.9/site-packages/sklearn/cluster/_agglomerative.py:550: UserWarning: the number of connected components of the connectivity matrix is 16 > 1. Completing it to avoid stopping the tree early.\n",
      "  connectivity, n_connected_components = _fix_connectivity(\n"
     ]
    }
   ],
   "source": [
    "connect = kneighbors_graph(X_train, n_neighbors=5, include_self=False)\n",
    "connectivity = cluster.AgglomerativeClustering(n_clusters=12, affinity='euclidean', \n",
    "                                              linkage='complete', connectivity=connect).fit_predict(X_train)"
   ]
  },
  {
   "cell_type": "code",
   "execution_count": 46,
   "id": "d48fb777",
   "metadata": {},
   "outputs": [
    {
     "name": "stdout",
     "output_type": "stream",
     "text": [
      "Cluster 0: 92\n",
      "Cluster 1: 3\n",
      "Cluster 2: 2\n",
      "Cluster 3: 128\n",
      "Cluster 4: 14145\n",
      "Cluster 5: 76\n",
      "Cluster 6: 65\n",
      "Cluster 7: 1\n",
      "Cluster 8: 72\n",
      "Cluster 9: 2\n",
      "Cluster 10: 108\n",
      "Cluster 11: 2\n"
     ]
    }
   ],
   "source": [
    "print(*[\"Cluster \"+str(i)+\": \"+ str(sum(connectivity==i)) for i in range(12)], sep='\\n')"
   ]
  },
  {
   "cell_type": "code",
   "execution_count": 66,
   "id": "7b3e3cb8",
   "metadata": {},
   "outputs": [
    {
     "name": "stdout",
     "output_type": "stream",
     "text": [
      "In Cluster 0, the percentage of defaulted loan is  26%.\n",
      "In Cluster 1, the percentage of defaulted loan is  67%.\n",
      "In Cluster 2, the percentage of defaulted loan is  100%.\n",
      "In Cluster 3, the percentage of defaulted loan is  22%.\n",
      "In Cluster 4, the percentage of defaulted loan is  20%.\n",
      "In Cluster 5, the percentage of defaulted loan is  24%.\n",
      "In Cluster 6, the percentage of defaulted loan is  25%.\n",
      "In Cluster 7, the percentage of defaulted loan is  100%.\n",
      "In Cluster 8, the percentage of defaulted loan is  14%.\n",
      "In Cluster 9, the percentage of defaulted loan is  100%.\n",
      "In Cluster 10, the percentage of defaulted loan is  41%.\n",
      "In Cluster 11, the percentage of defaulted loan is  50%.\n"
     ]
    }
   ],
   "source": [
    "#see if there is a pattern about the target variable in these clusters\n",
    "num_cluster = np.unique(connectivity)\n",
    "\n",
    "for cluster in num_cluster:\n",
    "    default_p = (y_train[connectivity==cluster]).mean()\n",
    "    print(f'In Cluster {cluster}, the percentage of defaulted loan is {default_p*100: .0f}%.')"
   ]
  },
  {
   "cell_type": "markdown",
   "id": "1e88e051",
   "metadata": {},
   "source": [
    "Most of the major clusters, such as 0, 3, 4, 5, 6, have around 20% bad loans, just like the full dataset. Seems like the clustering action does not classify loan applicants in a way that can help with default prediction."
   ]
  },
  {
   "cell_type": "code",
   "execution_count": null,
   "id": "c0757293",
   "metadata": {},
   "outputs": [],
   "source": []
  }
 ],
 "metadata": {
  "kernelspec": {
   "display_name": "Python 3 (ipykernel)",
   "language": "python",
   "name": "python3"
  },
  "language_info": {
   "codemirror_mode": {
    "name": "ipython",
    "version": 3
   },
   "file_extension": ".py",
   "mimetype": "text/x-python",
   "name": "python",
   "nbconvert_exporter": "python",
   "pygments_lexer": "ipython3",
   "version": "3.9.13"
  }
 },
 "nbformat": 4,
 "nbformat_minor": 5
}
