{
 "cells": [
  {
   "cell_type": "markdown",
   "id": "55211531",
   "metadata": {},
   "source": [
    "idea: try using Clustering(Unsupervised Learning) for preprocessing\n",
    "- step 1: cluster observations (X_train only) into multiple loan applicant profiles\n",
    "        - K-means\n",
    "        - DBSCAN\n",
    "        - Agglomerative clustering\n",
    "- step 2: add cluster number as a feature \n",
    "- step 3: create a classifier"
   ]
  },
  {
   "cell_type": "code",
   "execution_count": null,
   "id": "4e2d8f57",
   "metadata": {},
   "outputs": [],
   "source": []
  }
 ],
 "metadata": {
  "kernelspec": {
   "display_name": "Python 3 (ipykernel)",
   "language": "python",
   "name": "python3"
  },
  "language_info": {
   "codemirror_mode": {
    "name": "ipython",
    "version": 3
   },
   "file_extension": ".py",
   "mimetype": "text/x-python",
   "name": "python",
   "nbconvert_exporter": "python",
   "pygments_lexer": "ipython3",
   "version": "3.9.13"
  }
 },
 "nbformat": 4,
 "nbformat_minor": 5
}
